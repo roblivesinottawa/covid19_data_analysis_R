{
 "cells": [
  {
   "cell_type": "code",
   "execution_count": 1,
   "metadata": {},
   "outputs": [],
   "source": [
    "import pandas as pd\n",
    "import numpy as np"
   ]
  },
  {
   "cell_type": "code",
   "execution_count": 2,
   "metadata": {},
   "outputs": [
    {
     "name": "stdout",
     "output_type": "stream",
     "text": [
      "   FIPS Admin2                Province_State       Country_Region  \\\n",
      "0   NaN    NaN                           NaN          Afghanistan   \n",
      "1   NaN    NaN                           NaN              Albania   \n",
      "2   NaN    NaN                           NaN              Algeria   \n",
      "3   NaN    NaN                           NaN              Andorra   \n",
      "4   NaN    NaN                           NaN               Angola   \n",
      "5   NaN    NaN                           NaN  Antigua and Barbuda   \n",
      "6   NaN    NaN                           NaN            Argentina   \n",
      "7   NaN    NaN                           NaN              Armenia   \n",
      "8   NaN    NaN  Australian Capital Territory            Australia   \n",
      "9   NaN    NaN               New South Wales            Australia   \n",
      "\n",
      "           Last_Update       Lat       Long_  Confirmed  Deaths  Recovered  \\\n",
      "0  2021-10-12 04:21:09  33.93911   67.709953     155540    7228        NaN   \n",
      "1  2021-10-12 04:21:09  41.15330   20.168300     175163    2777        NaN   \n",
      "2  2021-10-12 04:21:09  28.03390    1.659600     204695    5855        NaN   \n",
      "3  2021-10-12 04:21:09  42.50630    1.521800      15307     130        NaN   \n",
      "4  2021-10-12 04:21:09 -11.20270   17.873900      61580    1629        NaN   \n",
      "5  2021-10-12 04:21:09  17.06080  -61.796400       3750      93        NaN   \n",
      "6  2021-10-12 04:21:09 -38.41610  -63.616700    5266275  115491        NaN   \n",
      "7  2021-10-12 04:21:09  40.06910   45.038200     272957    5575        NaN   \n",
      "8  2021-10-12 04:21:09 -35.47350  149.012400       1386       9        NaN   \n",
      "9  2021-10-12 04:21:09 -33.86880  151.209300      69552     498        NaN   \n",
      "\n",
      "   Active                             Combined_Key  Incident_Rate  \\\n",
      "0     NaN                              Afghanistan     399.554659   \n",
      "1     NaN                                  Albania    6086.698172   \n",
      "2     NaN                                  Algeria     466.796195   \n",
      "3     NaN                                  Andorra   19811.039928   \n",
      "4     NaN                                   Angola     187.365356   \n",
      "5     NaN                      Antigua and Barbuda    3829.344008   \n",
      "6     NaN                                Argentina   11652.139535   \n",
      "7     NaN                                  Armenia    9211.456132   \n",
      "8     NaN  Australian Capital Territory, Australia     323.756132   \n",
      "9     NaN               New South Wales, Australia     856.762749   \n",
      "\n",
      "   Case_Fatality_Ratio  \n",
      "0             4.647036  \n",
      "1             1.585380  \n",
      "2             2.860353  \n",
      "3             0.849285  \n",
      "4             2.645339  \n",
      "5             2.480000  \n",
      "6             2.193030  \n",
      "7             2.042446  \n",
      "8             0.649351  \n",
      "9             0.716011  \n"
     ]
    }
   ],
   "source": [
    "df = pd.read_csv('time_series_covid19.csv')\n",
    "print(df.head(10))"
   ]
  },
  {
   "cell_type": "code",
   "execution_count": 3,
   "metadata": {},
   "outputs": [],
   "source": [
    "df.rename(columns={'Country/Region': 'Country'}, inplace=True)"
   ]
  },
  {
   "cell_type": "code",
   "execution_count": 4,
   "metadata": {},
   "outputs": [
    {
     "name": "stdout",
     "output_type": "stream",
     "text": [
      "   FIPS Admin2 Province_State Country_Region          Last_Update       Lat  \\\n",
      "0   NaN    NaN            NaN    Afghanistan  2021-10-12 04:21:09  33.93911   \n",
      "1   NaN    NaN            NaN        Albania  2021-10-12 04:21:09  41.15330   \n",
      "2   NaN    NaN            NaN        Algeria  2021-10-12 04:21:09  28.03390   \n",
      "\n",
      "       Long_  Confirmed  Deaths  Recovered  Active Combined_Key  \\\n",
      "0  67.709953     155540    7228        NaN     NaN  Afghanistan   \n",
      "1  20.168300     175163    2777        NaN     NaN      Albania   \n",
      "2   1.659600     204695    5855        NaN     NaN      Algeria   \n",
      "\n",
      "   Incident_Rate  Case_Fatality_Ratio  \n",
      "0     399.554659             4.647036  \n",
      "1    6086.698172             1.585380  \n",
      "2     466.796195             2.860353  \n"
     ]
    }
   ],
   "source": [
    "print(df.head(3))"
   ]
  },
  {
   "cell_type": "code",
   "execution_count": 5,
   "metadata": {},
   "outputs": [],
   "source": [
    "df.drop(['Last_Update', 'Combined_Key'], axis=1, inplace=True)"
   ]
  },
  {
   "cell_type": "code",
   "execution_count": 6,
   "metadata": {},
   "outputs": [
    {
     "name": "stdout",
     "output_type": "stream",
     "text": [
      "   FIPS Admin2 Province_State Country_Region       Lat      Long_  Confirmed  \\\n",
      "0   NaN    NaN            NaN    Afghanistan  33.93911  67.709953     155540   \n",
      "1   NaN    NaN            NaN        Albania  41.15330  20.168300     175163   \n",
      "2   NaN    NaN            NaN        Algeria  28.03390   1.659600     204695   \n",
      "\n",
      "   Deaths  Recovered  Active  Incident_Rate  Case_Fatality_Ratio  \n",
      "0    7228        NaN     NaN     399.554659             4.647036  \n",
      "1    2777        NaN     NaN    6086.698172             1.585380  \n",
      "2    5855        NaN     NaN     466.796195             2.860353  \n"
     ]
    }
   ],
   "source": [
    "print(df.head(3))"
   ]
  },
  {
   "cell_type": "code",
   "execution_count": 7,
   "metadata": {},
   "outputs": [],
   "source": [
    "df.drop(['FIPS', 'Admin2'], axis=1, inplace=True)"
   ]
  },
  {
   "cell_type": "code",
   "execution_count": 8,
   "metadata": {},
   "outputs": [
    {
     "name": "stdout",
     "output_type": "stream",
     "text": [
      "  Province_State Country_Region       Lat      Long_  Confirmed  Deaths  \\\n",
      "0            NaN    Afghanistan  33.93911  67.709953     155540    7228   \n",
      "1            NaN        Albania  41.15330  20.168300     175163    2777   \n",
      "2            NaN        Algeria  28.03390   1.659600     204695    5855   \n",
      "\n",
      "   Recovered  Active  Incident_Rate  Case_Fatality_Ratio  \n",
      "0        NaN     NaN     399.554659             4.647036  \n",
      "1        NaN     NaN    6086.698172             1.585380  \n",
      "2        NaN     NaN     466.796195             2.860353  \n"
     ]
    }
   ],
   "source": [
    "print(df.head(3))"
   ]
  },
  {
   "cell_type": "code",
   "execution_count": 10,
   "metadata": {},
   "outputs": [],
   "source": [
    "df.drop(['Case_Fatality_Ratio', 'Incident_Rate', 'Recovered', 'Active'], axis=1, inplace=True)"
   ]
  },
  {
   "cell_type": "code",
   "execution_count": 11,
   "metadata": {},
   "outputs": [
    {
     "name": "stdout",
     "output_type": "stream",
     "text": [
      "  Province_State Country_Region       Lat      Long_  Confirmed  Deaths\n",
      "0            NaN    Afghanistan  33.93911  67.709953     155540    7228\n",
      "1            NaN        Albania  41.15330  20.168300     175163    2777\n",
      "2            NaN        Algeria  28.03390   1.659600     204695    5855\n"
     ]
    }
   ],
   "source": [
    "print(df.head(3))"
   ]
  },
  {
   "cell_type": "code",
   "execution_count": 12,
   "metadata": {},
   "outputs": [],
   "source": [
    "df.rename(columns={'Lat': 'Latitude', 'Long_': 'Longitude'}, inplace=True)"
   ]
  },
  {
   "cell_type": "code",
   "execution_count": 13,
   "metadata": {},
   "outputs": [
    {
     "name": "stdout",
     "output_type": "stream",
     "text": [
      "  Province_State Country_Region  Latitude  Longitude  Confirmed  Deaths\n",
      "0            NaN    Afghanistan  33.93911  67.709953     155540    7228\n",
      "1            NaN        Albania  41.15330  20.168300     175163    2777\n",
      "2            NaN        Algeria  28.03390   1.659600     204695    5855\n"
     ]
    }
   ],
   "source": [
    "print(df.head(3))"
   ]
  },
  {
   "cell_type": "code",
   "execution_count": 14,
   "metadata": {},
   "outputs": [],
   "source": [
    "df.drop(['Province_State'], axis=1, inplace=True)"
   ]
  },
  {
   "cell_type": "code",
   "execution_count": 15,
   "metadata": {},
   "outputs": [
    {
     "name": "stdout",
     "output_type": "stream",
     "text": [
      "  Country_Region  Latitude  Longitude  Confirmed  Deaths\n",
      "0    Afghanistan  33.93911  67.709953     155540    7228\n",
      "1        Albania  41.15330  20.168300     175163    2777\n",
      "2        Algeria  28.03390   1.659600     204695    5855\n"
     ]
    }
   ],
   "source": [
    "print(df.head(3))"
   ]
  },
  {
   "cell_type": "code",
   "execution_count": 16,
   "metadata": {},
   "outputs": [],
   "source": [
    "df.rename(columns={'Country_Region': 'Country'}, inplace=True)"
   ]
  },
  {
   "cell_type": "code",
   "execution_count": 17,
   "metadata": {},
   "outputs": [
    {
     "name": "stdout",
     "output_type": "stream",
     "text": [
      "       Country  Latitude  Longitude  Confirmed  Deaths\n",
      "0  Afghanistan  33.93911  67.709953     155540    7228\n",
      "1      Albania  41.15330  20.168300     175163    2777\n",
      "2      Algeria  28.03390   1.659600     204695    5855\n"
     ]
    }
   ],
   "source": [
    "print(df.head(3))"
   ]
  },
  {
   "cell_type": "code",
   "execution_count": 18,
   "metadata": {},
   "outputs": [],
   "source": [
    "df.to_csv('time_series_covid19_clean.csv', index=False)"
   ]
  },
  {
   "cell_type": "code",
   "execution_count": null,
   "metadata": {},
   "outputs": [],
   "source": []
  }
 ],
 "metadata": {
  "interpreter": {
   "hash": "aee8b7b246df8f9039afb4144a1f6fd8d2ca17a180786b69acc140d282b71a49"
  },
  "kernelspec": {
   "display_name": "Python 3.10.0 64-bit",
   "language": "python",
   "name": "python3"
  },
  "language_info": {
   "codemirror_mode": {
    "name": "ipython",
    "version": 3
   },
   "file_extension": ".py",
   "mimetype": "text/x-python",
   "name": "python",
   "nbconvert_exporter": "python",
   "pygments_lexer": "ipython3",
   "version": "3.10.0"
  },
  "orig_nbformat": 4
 },
 "nbformat": 4,
 "nbformat_minor": 2
}
