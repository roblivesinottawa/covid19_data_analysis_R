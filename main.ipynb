{
 "cells": [
  {
   "cell_type": "code",
   "execution_count": 1,
   "metadata": {},
   "outputs": [
    {
     "name": "stderr",
     "output_type": "stream",
     "text": [
      "Loading required package: httr\n",
      "\n",
      "Loading required package: rvest\n",
      "\n"
     ]
    }
   ],
   "source": [
    "require(\"httr\")\n",
    "require(\"rvest\")"
   ]
  },
  {
   "cell_type": "code",
   "execution_count": 2,
   "metadata": {},
   "outputs": [],
   "source": [
    "library(httr)\n",
    "library(rvest)"
   ]
  },
  {
   "cell_type": "code",
   "execution_count": 8,
   "metadata": {},
   "outputs": [],
   "source": [
    "get.data <- function() {\n",
    "    url <- \"https://en.wikipedia.org/w/index.php\"\n",
    "    params <- list(\n",
    "        title = \"Template:COVID-19_testing_by_country\"\n",
    "    )\n",
    "    response <- GET(url = url, query = params)\n",
    "    return(response)\n",
    "}"
   ]
  },
  {
   "cell_type": "code",
   "execution_count": 9,
   "metadata": {},
   "outputs": [
    {
     "data": {
      "text/plain": [
       "Response [https://en.wikipedia.org/w/index.php?title=Template%3ACOVID-19_testing_by_country]\n",
       "  Date: 2021-11-25 19:19\n",
       "  Status: 200\n",
       "  Content-Type: text/html; charset=UTF-8\n",
       "  Size: 409 kB\n",
       "<!DOCTYPE html>\n",
       "<html class=\"client-nojs\" lang=\"en\" dir=\"ltr\">\n",
       "<head>\n",
       "<meta charset=\"UTF-8\"/>\n",
       "<title>Template:COVID-19 testing by country - Wikipedia</title>\n",
       "<script>document.documentElement.className=\"client-js\";RLCONF={\"wgBreakFrames...\n",
       "\"CS1 German-language sources (de)\",\"CS1 Azerbaijani-language sources (az)\",\"C...\n",
       "\"CS1 uses Japanese-language script (ja)\",\"CS1 Japanese-language sources (ja)\"...\n",
       "\"COVID-19 pandemic templates\"],\"wgPageContentLanguage\":\"en\",\"wgPageContentMod...\n",
       "\"Q87325019\",\"wgGENewcomerTasksGuidanceEnabled\":true,\"wgGEAskQuestionEnabled\":...\n",
       "..."
      ]
     },
     "metadata": {},
     "output_type": "display_data"
    }
   ],
   "source": [
    "# Call the get_wiki_covid19_page function and print the response\n",
    "get.data()"
   ]
  },
  {
   "cell_type": "code",
   "execution_count": 10,
   "metadata": {},
   "outputs": [],
   "source": [
    "url <- \"https://en.wikipedia.org/w/index.php?title=Template:COVID-19_testing_by_country\""
   ]
  },
  {
   "cell_type": "markdown",
   "metadata": {},
   "source": [
    "Get the root html node from the http response in task 1 "
   ]
  },
  {
   "cell_type": "code",
   "execution_count": 11,
   "metadata": {},
   "outputs": [
    {
     "name": "stdout",
     "output_type": "stream",
     "text": [
      "{html_document}\n",
      "<html class=\"client-nojs\" lang=\"en\" dir=\"ltr\">\n",
      "[1] <head>\\n<meta http-equiv=\"Content-Type\" content=\"text/html; charset=UTF-8 ...\n",
      "[2] <body class=\"mediawiki ltr sitedir-ltr mw-hide-empty-elt ns-10 ns-subject ...\n"
     ]
    }
   ],
   "source": [
    "html.node <- read_html(url)\n",
    "print(html.node)"
   ]
  },
  {
   "cell_type": "code",
   "execution_count": 13,
   "metadata": {},
   "outputs": [
    {
     "name": "stdout",
     "output_type": "stream",
     "text": [
      "{html_document}\n",
      "<html class=\"client-nojs\" lang=\"en\" dir=\"ltr\">\n",
      "[1] <head>\\n<meta http-equiv=\"Content-Type\" content=\"text/html; charset=UTF-8 ...\n",
      "[2] <body class=\"mediawiki ltr sitedir-ltr mw-hide-empty-elt ns-10 ns-subject ...\n"
     ]
    }
   ],
   "source": [
    "root.node <- read_html(url)\n",
    "print(root.node)"
   ]
  },
  {
   "cell_type": "code",
   "execution_count": 14,
   "metadata": {},
   "outputs": [
    {
     "name": "stdout",
     "output_type": "stream",
     "text": [
      "{html_node}\n",
      "<table class=\"wikitable plainrowheaders sortable collapsible autocollapse\">\n",
      "[1] <caption>\\n<style data-mw-deduplicate=\"TemplateStyles:r1054937957\">.mw-pa ...\n",
      "[2] <tbody>\\n<tr>\\n<th>Country or region\\n</th>\\n<th>Date<sup id=\"cite_ref-1\" ...\n"
     ]
    }
   ],
   "source": [
    "table.node <- html_node(root.node, \"table\")\n",
    "print(table.node)"
   ]
  },
  {
   "cell_type": "code",
   "execution_count": 16,
   "metadata": {},
   "outputs": [
    {
     "name": "stdout",
     "output_type": "stream",
     "text": [
      "\u001b[90m# A tibble: 20 × 9\u001b[39m\n",
      "   `Country or region` `Date[a]`   Tested      `Units[b]` `Confirmed(cases)`\n",
      "   \u001b[3m\u001b[90m<chr>\u001b[39m\u001b[23m               \u001b[3m\u001b[90m<chr>\u001b[39m\u001b[23m       \u001b[3m\u001b[90m<chr>\u001b[39m\u001b[23m       \u001b[3m\u001b[90m<chr>\u001b[39m\u001b[23m      \u001b[3m\u001b[90m<chr>\u001b[39m\u001b[23m             \n",
      "\u001b[90m 1\u001b[39m Afghanistan         17 Dec 2020 154,767     samples    49,621            \n",
      "\u001b[90m 2\u001b[39m Albania             18 Feb 2021 428,654     samples    96,838            \n",
      "\u001b[90m 3\u001b[39m Algeria             2 Nov 2020  230,553     samples    58,574            \n",
      "\u001b[90m 4\u001b[39m Andorra             15 Nov 2021 225,568     samples    15,907            \n",
      "\u001b[90m 5\u001b[39m Angola              12 Mar 2021 399,228     samples    20,981            \n",
      "\u001b[90m 6\u001b[39m Antigua and Barbuda 6 Mar 2021  15,268      samples    832               \n",
      "\u001b[90m 7\u001b[39m Argentina           22 Nov 2021 25,918,391  samples    5,315,989         \n",
      "\u001b[90m 8\u001b[39m Armenia             22 Nov 2021 2,311,186   samples    334,347           \n",
      "\u001b[90m 9\u001b[39m Australia           25 Nov 2021 47,196,453  samples    203,650           \n",
      "\u001b[90m10\u001b[39m Austria             25 Nov 2021 107,616,106 samples    1,093,095         \n",
      "\u001b[90m11\u001b[39m Azerbaijan          22 Nov 2021 5,449,379   samples    574,799           \n",
      "\u001b[90m12\u001b[39m Bahamas             18 Nov 2021 164,360     samples    22,655            \n",
      "\u001b[90m13\u001b[39m Bahrain             22 Nov 2021 7,270,221   samples    277,421           \n",
      "\u001b[90m14\u001b[39m Bangladesh          24 Jul 2021 7,417,714   samples    1,151,644         \n",
      "\u001b[90m15\u001b[39m Barbados            23 Nov 2021 429,377     samples    24,432            \n",
      "\u001b[90m16\u001b[39m Belarus             23 Nov 2021 10,228,936  samples    643,372           \n",
      "\u001b[90m17\u001b[39m Belgium             22 Nov 2021 23,782,072  samples    1,623,560         \n",
      "\u001b[90m18\u001b[39m Belize              23 Nov 2021 340,447     samples    29,861            \n",
      "\u001b[90m19\u001b[39m Benin               4 May 2021  595,112     samples    7,884             \n",
      "\u001b[90m20\u001b[39m Bhutan              25 Nov 2021 1,235,929   samples    2,633             \n",
      "\u001b[90m# … with 4 more variables: Confirmed /tested,% <chr>,\u001b[39m\n",
      "\u001b[90m#   Tested /population,% <chr>, Confirmed /population,% <chr>, Ref. <chr>\u001b[39m\n"
     ]
    }
   ],
   "source": [
    "df <- html_table(table.node)\n",
    "print(head(df, 20))"
   ]
  },
  {
   "cell_type": "code",
   "execution_count": 18,
   "metadata": {},
   "outputs": [
    {
     "data": {
      "text/plain": [
       " Country or region    Date[a]             Tested            Units[b]        \n",
       " Length:173         Length:173         Length:173         Length:173        \n",
       " Class :character   Class :character   Class :character   Class :character  \n",
       " Mode  :character   Mode  :character   Mode  :character   Mode  :character  \n",
       " Confirmed(cases)   Confirmed /tested,% Tested /population,%\n",
       " Length:173         Length:173          Length:173          \n",
       " Class :character   Class :character    Class :character    \n",
       " Mode  :character   Mode  :character    Mode  :character    \n",
       " Confirmed /population,%     Ref.          \n",
       " Length:173              Length:173        \n",
       " Class :character        Class :character  \n",
       " Mode  :character        Mode  :character  "
      ]
     },
     "metadata": {},
     "output_type": "display_data"
    }
   ],
   "source": [
    "summary(df)"
   ]
  },
  {
   "cell_type": "code",
   "execution_count": 22,
   "metadata": {},
   "outputs": [],
   "source": [
    "preprocess.df <- function(df) {\n",
    "    # remove the world row\n",
    "    df <- df[!(df$`Country or region` == \"World\"), ]\n",
    "    # remove the last row\n",
    "    df <- df[1:172, ]\n",
    "    # remove the Units and Ref columns\n",
    "    df[\"Ref.\"] <- NULL\n",
    "    df[\"Units[b]\"] <- NULL\n",
    "\n",
    "    # rename the columns\n",
    "    names(df) <- c(\"Country\", \"Date\", \"Tested\", \"Confirmed\", \"Confirmed.Test.Ratio\", \"Tested.Population.Ratio\", \"Confirmed.Population.Ratio\")\n",
    "\n",
    "    # convert column data types\n",
    "    df$Country <- as.factor(df$Country)\n",
    "    df$Date <- as.factor(df$Date)\n",
    "    df$Tested <- as.numeric(gsub(\",\",\"\", df$Tested))\n",
    "    df$Confirmed <- as.numeric(gsub(\",\",\"\", df$Confirmed))\n",
    "    df$Confirmed.Test.Ratio <- as.numeric(gsub(\",\",\"\", df$Confirmed.Test.Ratio))\n",
    "    df$Tested.Population.Ratio <- as.numeric(gsub(\",\",\"\", df$Tested.Population.Ratio))\n",
    "    df$Confirmed.Population.Ratio <- as.numeric(gsub(\",\",\"\", df$Confirmed.Population.Ratio))\n",
    "\n",
    "    return(df)\n",
    "}"
   ]
  },
  {
   "cell_type": "code",
   "execution_count": 23,
   "metadata": {},
   "outputs": [
    {
     "name": "stdout",
     "output_type": "stream",
     "text": [
      "\u001b[90m# A tibble: 20 × 7\u001b[39m\n",
      "   Country             Date   Tested Confirmed Confirmed.Test.… Tested.Populati…\n",
      "   \u001b[3m\u001b[90m<fct>\u001b[39m\u001b[23m               \u001b[3m\u001b[90m<fct>\u001b[39m\u001b[23m   \u001b[3m\u001b[90m<dbl>\u001b[39m\u001b[23m     \u001b[3m\u001b[90m<dbl>\u001b[39m\u001b[23m            \u001b[3m\u001b[90m<dbl>\u001b[39m\u001b[23m            \u001b[3m\u001b[90m<dbl>\u001b[39m\u001b[23m\n",
      "\u001b[90m 1\u001b[39m Afghanistan         17 De… 1.55\u001b[90me\u001b[39m5     \u001b[4m4\u001b[24m\u001b[4m9\u001b[24m621            32.1              0.4 \n",
      "\u001b[90m 2\u001b[39m Albania             18 Fe… 4.29\u001b[90me\u001b[39m5     \u001b[4m9\u001b[24m\u001b[4m6\u001b[24m838            22.6             15   \n",
      "\u001b[90m 3\u001b[39m Algeria             2 Nov… 2.31\u001b[90me\u001b[39m5     \u001b[4m5\u001b[24m\u001b[4m8\u001b[24m574            25.4              0.53\n",
      "\u001b[90m 4\u001b[39m Andorra             15 No… 2.26\u001b[90me\u001b[39m5     \u001b[4m1\u001b[24m\u001b[4m5\u001b[24m907             7.1            291   \n",
      "\u001b[90m 5\u001b[39m Angola              12 Ma… 3.99\u001b[90me\u001b[39m5     \u001b[4m2\u001b[24m\u001b[4m0\u001b[24m981             5.3              1.3 \n",
      "\u001b[90m 6\u001b[39m Antigua and Barbuda 6 Mar… 1.53\u001b[90me\u001b[39m4       832             5.4             15.9 \n",
      "\u001b[90m 7\u001b[39m Argentina           22 No… 2.59\u001b[90me\u001b[39m7   5\u001b[4m3\u001b[24m\u001b[4m1\u001b[24m\u001b[4m5\u001b[24m989            20.5             57.1 \n",
      "\u001b[90m 8\u001b[39m Armenia             22 No… 2.31\u001b[90me\u001b[39m6    \u001b[4m3\u001b[24m\u001b[4m3\u001b[24m\u001b[4m4\u001b[24m347            14.5             78.3 \n",
      "\u001b[90m 9\u001b[39m Australia           25 No… 4.72\u001b[90me\u001b[39m7    \u001b[4m2\u001b[24m\u001b[4m0\u001b[24m\u001b[4m3\u001b[24m650             0.43           188   \n",
      "\u001b[90m10\u001b[39m Austria             25 No… 1.08\u001b[90me\u001b[39m8   1\u001b[4m0\u001b[24m\u001b[4m9\u001b[24m\u001b[4m3\u001b[24m095             1.02          \u001b[4m1\u001b[24m209   \n",
      "\u001b[90m11\u001b[39m Azerbaijan          22 No… 5.45\u001b[90me\u001b[39m6    \u001b[4m5\u001b[24m\u001b[4m7\u001b[24m\u001b[4m4\u001b[24m799            10.5             55.1 \n",
      "\u001b[90m12\u001b[39m Bahamas             18 No… 1.64\u001b[90me\u001b[39m5     \u001b[4m2\u001b[24m\u001b[4m2\u001b[24m655            13.8             42.6 \n",
      "\u001b[90m13\u001b[39m Bahrain             22 No… 7.27\u001b[90me\u001b[39m6    \u001b[4m2\u001b[24m\u001b[4m7\u001b[24m\u001b[4m7\u001b[24m421             3.8            463   \n",
      "\u001b[90m14\u001b[39m Bangladesh          24 Ju… 7.42\u001b[90me\u001b[39m6   1\u001b[4m1\u001b[24m\u001b[4m5\u001b[24m\u001b[4m1\u001b[24m644            15.5              4.5 \n",
      "\u001b[90m15\u001b[39m Barbados            23 No… 4.29\u001b[90me\u001b[39m5     \u001b[4m2\u001b[24m\u001b[4m4\u001b[24m432             5.7            150   \n",
      "\u001b[90m16\u001b[39m Belarus             23 No… 1.02\u001b[90me\u001b[39m7    \u001b[4m6\u001b[24m\u001b[4m4\u001b[24m\u001b[4m3\u001b[24m372             6.3            108   \n",
      "\u001b[90m17\u001b[39m Belgium             22 No… 2.38\u001b[90me\u001b[39m7   1\u001b[4m6\u001b[24m\u001b[4m2\u001b[24m\u001b[4m3\u001b[24m560             6.8            207   \n",
      "\u001b[90m18\u001b[39m Belize              23 No… 3.40\u001b[90me\u001b[39m5     \u001b[4m2\u001b[24m\u001b[4m9\u001b[24m861             8.8             83.3 \n",
      "\u001b[90m19\u001b[39m Benin               4 May… 5.95\u001b[90me\u001b[39m5      \u001b[4m7\u001b[24m884             1.3              5.1 \n",
      "\u001b[90m20\u001b[39m Bhutan              25 No… 1.24\u001b[90me\u001b[39m6      \u001b[4m2\u001b[24m633             0.21           167   \n",
      "\u001b[90m# … with 1 more variable: Confirmed.Population.Ratio <dbl>\u001b[39m\n"
     ]
    }
   ],
   "source": [
    "df <- preprocess.df(df)\n",
    "print(head(df, 20))"
   ]
  },
  {
   "cell_type": "code",
   "execution_count": 24,
   "metadata": {},
   "outputs": [
    {
     "name": "stdout",
     "output_type": "stream",
     "text": [
      "R Information\n",
      "\n",
      "Help files with alias or concept or title matching ‘gsub’ using regular\n",
      "expression matching:\n",
      "\n",
      "\n",
      "base::grep              Pattern Matching and Replacement\n",
      "  Aliases: gsub\n",
      "parallel::nextRNGStream\n",
      "                        Implementation of Pierre L'Ecuyer's RngStreams\n",
      "  Aliases: nextRNGSubStream\n",
      "R.utils::egsub          Global substitute of expression using regular\n",
      "                        expressions\n",
      "  Aliases: egsub\n",
      "stringi::stri_replace_rstr\n",
      "                        Convert gsub-Style Replacement Strings\n",
      "xfun::grep_sub          Perform replacement with 'gsub()' on elements\n",
      "                        matched from 'grep()'\n",
      "xfun::gsub_file         Search and replace strings in files\n",
      "  Aliases: gsub_file, gsub_files, gsub_dir, gsub_ext\n",
      "\n",
      "\n",
      "Type '?PKG::FOO' to inspect entries 'PKG::FOO', or 'TYPE?PKG::FOO' for\n",
      "entries like 'PKG::FOO-TYPE'.\n",
      "\n",
      "\n"
     ]
    }
   ],
   "source": [
    "??gsub"
   ]
  },
  {
   "cell_type": "code",
   "execution_count": 25,
   "metadata": {},
   "outputs": [
    {
     "data": {
      "text/html": [
       "<table class=\"dataframe\">\n",
       "<caption>A tibble: 6 × 7</caption>\n",
       "<thead>\n",
       "\t<tr><th scope=col>Country</th><th scope=col>Date</th><th scope=col>Tested</th><th scope=col>Confirmed</th><th scope=col>Confirmed.Test.Ratio</th><th scope=col>Tested.Population.Ratio</th><th scope=col>Confirmed.Population.Ratio</th></tr>\n",
       "\t<tr><th scope=col>&lt;fct&gt;</th><th scope=col>&lt;fct&gt;</th><th scope=col>&lt;dbl&gt;</th><th scope=col>&lt;dbl&gt;</th><th scope=col>&lt;dbl&gt;</th><th scope=col>&lt;dbl&gt;</th><th scope=col>&lt;dbl&gt;</th></tr>\n",
       "</thead>\n",
       "<tbody>\n",
       "\t<tr><td>Afghanistan        </td><td>17 Dec 2020</td><td>154767</td><td>49621</td><td>32.1</td><td>  0.40</td><td> 0.130</td></tr>\n",
       "\t<tr><td>Albania            </td><td>18 Feb 2021</td><td>428654</td><td>96838</td><td>22.6</td><td> 15.00</td><td> 3.400</td></tr>\n",
       "\t<tr><td>Algeria            </td><td>2 Nov 2020 </td><td>230553</td><td>58574</td><td>25.4</td><td>  0.53</td><td> 0.130</td></tr>\n",
       "\t<tr><td>Andorra            </td><td>15 Nov 2021</td><td>225568</td><td>15907</td><td> 7.1</td><td>291.00</td><td>20.500</td></tr>\n",
       "\t<tr><td>Angola             </td><td>12 Mar 2021</td><td>399228</td><td>20981</td><td> 5.3</td><td>  1.30</td><td> 0.067</td></tr>\n",
       "\t<tr><td>Antigua and Barbuda</td><td>6 Mar 2021 </td><td> 15268</td><td>  832</td><td> 5.4</td><td> 15.90</td><td> 0.860</td></tr>\n",
       "</tbody>\n",
       "</table>\n"
      ],
      "text/latex": [
       "A tibble: 6 × 7\n",
       "\\begin{tabular}{lllllll}\n",
       " Country & Date & Tested & Confirmed & Confirmed.Test.Ratio & Tested.Population.Ratio & Confirmed.Population.Ratio\\\\\n",
       " <fct> & <fct> & <dbl> & <dbl> & <dbl> & <dbl> & <dbl>\\\\\n",
       "\\hline\n",
       "\t Afghanistan         & 17 Dec 2020 & 154767 & 49621 & 32.1 &   0.40 &  0.130\\\\\n",
       "\t Albania             & 18 Feb 2021 & 428654 & 96838 & 22.6 &  15.00 &  3.400\\\\\n",
       "\t Algeria             & 2 Nov 2020  & 230553 & 58574 & 25.4 &   0.53 &  0.130\\\\\n",
       "\t Andorra             & 15 Nov 2021 & 225568 & 15907 &  7.1 & 291.00 & 20.500\\\\\n",
       "\t Angola              & 12 Mar 2021 & 399228 & 20981 &  5.3 &   1.30 &  0.067\\\\\n",
       "\t Antigua and Barbuda & 6 Mar 2021  &  15268 &   832 &  5.4 &  15.90 &  0.860\\\\\n",
       "\\end{tabular}\n"
      ],
      "text/markdown": [
       "\n",
       "A tibble: 6 × 7\n",
       "\n",
       "| Country &lt;fct&gt; | Date &lt;fct&gt; | Tested &lt;dbl&gt; | Confirmed &lt;dbl&gt; | Confirmed.Test.Ratio &lt;dbl&gt; | Tested.Population.Ratio &lt;dbl&gt; | Confirmed.Population.Ratio &lt;dbl&gt; |\n",
       "|---|---|---|---|---|---|---|\n",
       "| Afghanistan         | 17 Dec 2020 | 154767 | 49621 | 32.1 |   0.40 |  0.130 |\n",
       "| Albania             | 18 Feb 2021 | 428654 | 96838 | 22.6 |  15.00 |  3.400 |\n",
       "| Algeria             | 2 Nov 2020  | 230553 | 58574 | 25.4 |   0.53 |  0.130 |\n",
       "| Andorra             | 15 Nov 2021 | 225568 | 15907 |  7.1 | 291.00 | 20.500 |\n",
       "| Angola              | 12 Mar 2021 | 399228 | 20981 |  5.3 |   1.30 |  0.067 |\n",
       "| Antigua and Barbuda | 6 Mar 2021  |  15268 |   832 |  5.4 |  15.90 |  0.860 |\n",
       "\n"
      ],
      "text/plain": [
       "  Country             Date        Tested Confirmed Confirmed.Test.Ratio\n",
       "1 Afghanistan         17 Dec 2020 154767 49621     32.1                \n",
       "2 Albania             18 Feb 2021 428654 96838     22.6                \n",
       "3 Algeria             2 Nov 2020  230553 58574     25.4                \n",
       "4 Andorra             15 Nov 2021 225568 15907      7.1                \n",
       "5 Angola              12 Mar 2021 399228 20981      5.3                \n",
       "6 Antigua and Barbuda 6 Mar 2021   15268   832      5.4                \n",
       "  Tested.Population.Ratio Confirmed.Population.Ratio\n",
       "1   0.40                   0.130                    \n",
       "2  15.00                   3.400                    \n",
       "3   0.53                   0.130                    \n",
       "4 291.00                  20.500                    \n",
       "5   1.30                   0.067                    \n",
       "6  15.90                   0.860                    "
      ]
     },
     "metadata": {},
     "output_type": "display_data"
    }
   ],
   "source": [
    "head(df)"
   ]
  },
  {
   "cell_type": "code",
   "execution_count": 27,
   "metadata": {},
   "outputs": [
    {
     "data": {
      "text/html": [
       "'numeric'"
      ],
      "text/latex": [
       "'numeric'"
      ],
      "text/markdown": [
       "'numeric'"
      ],
      "text/plain": [
       "[1] \"numeric\""
      ]
     },
     "metadata": {},
     "output_type": "display_data"
    },
    {
     "data": {
      "text/html": [
       "'factor'"
      ],
      "text/latex": [
       "'factor'"
      ],
      "text/markdown": [
       "'factor'"
      ],
      "text/plain": [
       "[1] \"factor\""
      ]
     },
     "metadata": {},
     "output_type": "display_data"
    }
   ],
   "source": [
    "class(df$Tested)\n",
    "class(df$Date)"
   ]
  },
  {
   "cell_type": "code",
   "execution_count": 28,
   "metadata": {},
   "outputs": [
    {
     "data": {
      "text/plain": [
       "                Country             Date        Tested         \n",
       " Afghanistan        :  1   22 Nov 2021:26   Min.   :     3880  \n",
       " Albania            :  1   24 Nov 2021:17   1st Qu.:   429046  \n",
       " Algeria            :  1   23 Nov 2021:14   Median :  2602682  \n",
       " Andorra            :  1   25 Nov 2021: 8   Mean   : 20277169  \n",
       " Angola             :  1   21 Nov 2021: 6   3rd Qu.: 10263242  \n",
       " Antigua and Barbuda:  1   18 Nov 2021: 4   Max.   :553621766  \n",
       " (Other)            :166   (Other)    :97                      \n",
       "   Confirmed        Confirmed.Test.Ratio Tested.Population.Ratio\n",
       " Min.   :       0   Min.   : 0.000       Min.   :   0.0065      \n",
       " 1st Qu.:   25213   1st Qu.: 4.075       1st Qu.:   7.8500      \n",
       " Median :  157419   Median : 7.750       Median :  36.1000      \n",
       " Mean   : 1237933   Mean   : 9.669       Mean   : 108.3601      \n",
       " 3rd Qu.:  726429   3rd Qu.:14.200       3rd Qu.: 100.8750      \n",
       " Max.   :35940893   Max.   :42.800       Max.   :1252.0000      \n",
       "                                                                \n",
       " Confirmed.Population.Ratio\n",
       " Min.   : 0.0000           \n",
       " 1st Qu.: 0.3075           \n",
       " Median : 3.8000           \n",
       " Mean   : 5.1894           \n",
       " 3rd Qu.: 8.3250           \n",
       " Max.   :20.5000           \n",
       "                           "
      ]
     },
     "metadata": {},
     "output_type": "display_data"
    }
   ],
   "source": [
    "summary(df)"
   ]
  },
  {
   "cell_type": "code",
   "execution_count": 29,
   "metadata": {},
   "outputs": [],
   "source": [
    "# export the dataframe to a csv file\n",
    "write.csv(df, file = \"covid19_testing_by_country.csv\", row.names = FALSE)"
   ]
  },
  {
   "cell_type": "code",
   "execution_count": 31,
   "metadata": {},
   "outputs": [
    {
     "name": "stdout",
     "output_type": "stream",
     "text": [
      "[1] \"/Users/roblivesinott/Documents/GitHub/covid19_non_visual_data_anaysis_R/covid19_testing_by_country.csv\"\n"
     ]
    },
    {
     "data": {
      "text/html": [
       "TRUE"
      ],
      "text/latex": [
       "TRUE"
      ],
      "text/markdown": [
       "TRUE"
      ],
      "text/plain": [
       "[1] TRUE"
      ]
     },
     "metadata": {},
     "output_type": "display_data"
    }
   ],
   "source": [
    "wd <- getwd()\n",
    "file.path <- paste(wd, sep = \"\", \"/covid19_testing_by_country.csv\")\n",
    "print(file.path)\n",
    "file.exists(file.path)"
   ]
  },
  {
   "cell_type": "code",
   "execution_count": 32,
   "metadata": {},
   "outputs": [],
   "source": [
    "file.path <- \"covid19_testing_by_country.csv\""
   ]
  },
  {
   "cell_type": "code",
   "execution_count": 34,
   "metadata": {},
   "outputs": [
    {
     "name": "stdout",
     "output_type": "stream",
     "text": [
      "              Country        Date Tested Confirmed Confirmed.Test.Ratio\n",
      "1         Afghanistan 17 Dec 2020 154767     49621                 32.1\n",
      "2             Albania 18 Feb 2021 428654     96838                 22.6\n",
      "3             Algeria  2 Nov 2020 230553     58574                 25.4\n",
      "4             Andorra 15 Nov 2021 225568     15907                  7.1\n",
      "5              Angola 12 Mar 2021 399228     20981                  5.3\n",
      "6 Antigua and Barbuda  6 Mar 2021  15268       832                  5.4\n",
      "  Tested.Population.Ratio Confirmed.Population.Ratio\n",
      "1                    0.40                      0.130\n",
      "2                   15.00                      3.400\n",
      "3                    0.53                      0.130\n",
      "4                  291.00                     20.500\n",
      "5                    1.30                      0.067\n",
      "6                   15.90                      0.860\n"
     ]
    }
   ],
   "source": [
    "df <- read.csv(file.path, header = TRUE, sep = \",\")\n",
    "print(head(df))"
   ]
  },
  {
   "cell_type": "code",
   "execution_count": 36,
   "metadata": {},
   "outputs": [
    {
     "name": "stdout",
     "output_type": "stream",
     "text": [
      "               Country Confirmed\n",
      "5               Angola     20981\n",
      "6  Antigua and Barbuda       832\n",
      "7            Argentina   5315989\n",
      "8              Armenia    334347\n",
      "9            Australia    203650\n",
      "10             Austria   1093095\n"
     ]
    }
   ],
   "source": [
    "# get the 5th and 10th rows with two \"country\" and \"confirmed\" columns\n",
    "five.to.ten <- df[5:10, c(\"Country\", \"Confirmed\")]\n",
    "print(five.to.ten)"
   ]
  },
  {
   "cell_type": "code",
   "execution_count": 38,
   "metadata": {},
   "outputs": [
    {
     "data": {
      "text/html": [
       "<style>\n",
       ".list-inline {list-style: none; margin:0; padding: 0}\n",
       ".list-inline>li {display: inline-block}\n",
       ".list-inline>li:not(:last-child)::after {content: \"\\00b7\"; padding: 0 .5ex}\n",
       "</style>\n",
       "<ol class=list-inline><li>49621</li><li>96838</li><li>58574</li><li>15907</li><li>20981</li><li>832</li><li>5315989</li><li>334347</li><li>203650</li><li>1093095</li><li>574799</li><li>22655</li><li>277421</li><li>1151644</li><li>24432</li><li>643372</li><li>1623560</li><li>29861</li><li>7884</li><li>2633</li><li>531428</li><li>269904</li><li>187281</li><li>10081676</li><li>338</li><li>682552</li><li>12123</li><li>884</li><li>77914</li><li>32681</li><li>1770106</li><li>4020</li><li>1749099</li><li>87655</li><li>5048061</li><li>561054</li><li>571707</li><li>961276</li><li>131462</li><li>2018069</li><li>466817</li><li>13503</li><li>5550</li><li>400846</li><li>25961</li><li>480720</li><li>283947</li><li>117884</li><li>13538</li><li>219259</li><li>46465</li><li>278446</li><li>3337</li><li>165</li><li>177439</li><li>7483282</li><li>25325</li><li>4469</li><li>732965</li><li>3733519</li><li>96708</li><li>901661</li><li>1188</li><li>161</li><li>613713</li><li>24878</li><li>6434</li><li>37524</li><li>24710</li><li>377241</li><li>1025697</li><li>17294</li><li>33766707</li><li>4254443</li><li>6082865</li><li>2075248</li><li>254870</li><li>1341305</li><li>4968341</li><li>33285</li><li>90905</li><li>432773</li><li>739847</li><li>385144</li><li>107729</li><li>107410</li><li>413177</li><li>85253</li><li>45</li><li>144518</li><li>542649</li><li>14395</li><li>5396</li><li>367218</li><li>458298</li><li>86637</li><li>19831</li><li>61863</li><li>1880734</li><li>91046</li><li>14449</li><li>36606</li><li>18103</li><li>494</li><li>3749860</li><li>358857</li><li>136053</li><li>98449</li><li>949263</li><li>105866</li><li>440741</li><li>129105</li><li>818035</li><li>1692834</li><li>136</li><li>10025</li><li>4740</li><li>155657</li><li>0</li><li>155689</li><li>27228</li><li>251382</li><li>114434</li><li>588728</li><li>458698</li><li>476129</li><li>961</li><li>462283</li><li>2224344</li><li>2828660</li><li>3357763</li><li>1130091</li><li>242375</li><li>724250</li><li>9400835</li><li>98209</li><li>995</li><li>12909</li><li>5414</li><li>5790</li><li>549479</li><li>46509</li><li>1235828</li><li>65315</li><li>614684</li><li>411301</li><li>1637848</li><li>90029</li><li>10688</li><li>3821305</li><li>93128</li><li>23316</li><li>1074751</li><li>955800</li><li>16554</li><li>509</li><li>26162</li><li>26199</li><li>67664</li><li>703732</li><li>5435831</li><li>39979</li><li>3367461</li><li>741570</li><li>9889926</li><li>35940893</li><li>398213</li><li>43975</li><li>159149</li><li>1026522</li><li>210057</li><li>133638</li></ol>\n"
      ],
      "text/latex": [
       "\\begin{enumerate*}\n",
       "\\item 49621\n",
       "\\item 96838\n",
       "\\item 58574\n",
       "\\item 15907\n",
       "\\item 20981\n",
       "\\item 832\n",
       "\\item 5315989\n",
       "\\item 334347\n",
       "\\item 203650\n",
       "\\item 1093095\n",
       "\\item 574799\n",
       "\\item 22655\n",
       "\\item 277421\n",
       "\\item 1151644\n",
       "\\item 24432\n",
       "\\item 643372\n",
       "\\item 1623560\n",
       "\\item 29861\n",
       "\\item 7884\n",
       "\\item 2633\n",
       "\\item 531428\n",
       "\\item 269904\n",
       "\\item 187281\n",
       "\\item 10081676\n",
       "\\item 338\n",
       "\\item 682552\n",
       "\\item 12123\n",
       "\\item 884\n",
       "\\item 77914\n",
       "\\item 32681\n",
       "\\item 1770106\n",
       "\\item 4020\n",
       "\\item 1749099\n",
       "\\item 87655\n",
       "\\item 5048061\n",
       "\\item 561054\n",
       "\\item 571707\n",
       "\\item 961276\n",
       "\\item 131462\n",
       "\\item 2018069\n",
       "\\item 466817\n",
       "\\item 13503\n",
       "\\item 5550\n",
       "\\item 400846\n",
       "\\item 25961\n",
       "\\item 480720\n",
       "\\item 283947\n",
       "\\item 117884\n",
       "\\item 13538\n",
       "\\item 219259\n",
       "\\item 46465\n",
       "\\item 278446\n",
       "\\item 3337\n",
       "\\item 165\n",
       "\\item 177439\n",
       "\\item 7483282\n",
       "\\item 25325\n",
       "\\item 4469\n",
       "\\item 732965\n",
       "\\item 3733519\n",
       "\\item 96708\n",
       "\\item 901661\n",
       "\\item 1188\n",
       "\\item 161\n",
       "\\item 613713\n",
       "\\item 24878\n",
       "\\item 6434\n",
       "\\item 37524\n",
       "\\item 24710\n",
       "\\item 377241\n",
       "\\item 1025697\n",
       "\\item 17294\n",
       "\\item 33766707\n",
       "\\item 4254443\n",
       "\\item 6082865\n",
       "\\item 2075248\n",
       "\\item 254870\n",
       "\\item 1341305\n",
       "\\item 4968341\n",
       "\\item 33285\n",
       "\\item 90905\n",
       "\\item 432773\n",
       "\\item 739847\n",
       "\\item 385144\n",
       "\\item 107729\n",
       "\\item 107410\n",
       "\\item 413177\n",
       "\\item 85253\n",
       "\\item 45\n",
       "\\item 144518\n",
       "\\item 542649\n",
       "\\item 14395\n",
       "\\item 5396\n",
       "\\item 367218\n",
       "\\item 458298\n",
       "\\item 86637\n",
       "\\item 19831\n",
       "\\item 61863\n",
       "\\item 1880734\n",
       "\\item 91046\n",
       "\\item 14449\n",
       "\\item 36606\n",
       "\\item 18103\n",
       "\\item 494\n",
       "\\item 3749860\n",
       "\\item 358857\n",
       "\\item 136053\n",
       "\\item 98449\n",
       "\\item 949263\n",
       "\\item 105866\n",
       "\\item 440741\n",
       "\\item 129105\n",
       "\\item 818035\n",
       "\\item 1692834\n",
       "\\item 136\n",
       "\\item 10025\n",
       "\\item 4740\n",
       "\\item 155657\n",
       "\\item 0\n",
       "\\item 155689\n",
       "\\item 27228\n",
       "\\item 251382\n",
       "\\item 114434\n",
       "\\item 588728\n",
       "\\item 458698\n",
       "\\item 476129\n",
       "\\item 961\n",
       "\\item 462283\n",
       "\\item 2224344\n",
       "\\item 2828660\n",
       "\\item 3357763\n",
       "\\item 1130091\n",
       "\\item 242375\n",
       "\\item 724250\n",
       "\\item 9400835\n",
       "\\item 98209\n",
       "\\item 995\n",
       "\\item 12909\n",
       "\\item 5414\n",
       "\\item 5790\n",
       "\\item 549479\n",
       "\\item 46509\n",
       "\\item 1235828\n",
       "\\item 65315\n",
       "\\item 614684\n",
       "\\item 411301\n",
       "\\item 1637848\n",
       "\\item 90029\n",
       "\\item 10688\n",
       "\\item 3821305\n",
       "\\item 93128\n",
       "\\item 23316\n",
       "\\item 1074751\n",
       "\\item 955800\n",
       "\\item 16554\n",
       "\\item 509\n",
       "\\item 26162\n",
       "\\item 26199\n",
       "\\item 67664\n",
       "\\item 703732\n",
       "\\item 5435831\n",
       "\\item 39979\n",
       "\\item 3367461\n",
       "\\item 741570\n",
       "\\item 9889926\n",
       "\\item 35940893\n",
       "\\item 398213\n",
       "\\item 43975\n",
       "\\item 159149\n",
       "\\item 1026522\n",
       "\\item 210057\n",
       "\\item 133638\n",
       "\\end{enumerate*}\n"
      ],
      "text/markdown": [
       "1. 49621\n",
       "2. 96838\n",
       "3. 58574\n",
       "4. 15907\n",
       "5. 20981\n",
       "6. 832\n",
       "7. 5315989\n",
       "8. 334347\n",
       "9. 203650\n",
       "10. 1093095\n",
       "11. 574799\n",
       "12. 22655\n",
       "13. 277421\n",
       "14. 1151644\n",
       "15. 24432\n",
       "16. 643372\n",
       "17. 1623560\n",
       "18. 29861\n",
       "19. 7884\n",
       "20. 2633\n",
       "21. 531428\n",
       "22. 269904\n",
       "23. 187281\n",
       "24. 10081676\n",
       "25. 338\n",
       "26. 682552\n",
       "27. 12123\n",
       "28. 884\n",
       "29. 77914\n",
       "30. 32681\n",
       "31. 1770106\n",
       "32. 4020\n",
       "33. 1749099\n",
       "34. 87655\n",
       "35. 5048061\n",
       "36. 561054\n",
       "37. 571707\n",
       "38. 961276\n",
       "39. 131462\n",
       "40. 2018069\n",
       "41. 466817\n",
       "42. 13503\n",
       "43. 5550\n",
       "44. 400846\n",
       "45. 25961\n",
       "46. 480720\n",
       "47. 283947\n",
       "48. 117884\n",
       "49. 13538\n",
       "50. 219259\n",
       "51. 46465\n",
       "52. 278446\n",
       "53. 3337\n",
       "54. 165\n",
       "55. 177439\n",
       "56. 7483282\n",
       "57. 25325\n",
       "58. 4469\n",
       "59. 732965\n",
       "60. 3733519\n",
       "61. 96708\n",
       "62. 901661\n",
       "63. 1188\n",
       "64. 161\n",
       "65. 613713\n",
       "66. 24878\n",
       "67. 6434\n",
       "68. 37524\n",
       "69. 24710\n",
       "70. 377241\n",
       "71. 1025697\n",
       "72. 17294\n",
       "73. 33766707\n",
       "74. 4254443\n",
       "75. 6082865\n",
       "76. 2075248\n",
       "77. 254870\n",
       "78. 1341305\n",
       "79. 4968341\n",
       "80. 33285\n",
       "81. 90905\n",
       "82. 432773\n",
       "83. 739847\n",
       "84. 385144\n",
       "85. 107729\n",
       "86. 107410\n",
       "87. 413177\n",
       "88. 85253\n",
       "89. 45\n",
       "90. 144518\n",
       "91. 542649\n",
       "92. 14395\n",
       "93. 5396\n",
       "94. 367218\n",
       "95. 458298\n",
       "96. 86637\n",
       "97. 19831\n",
       "98. 61863\n",
       "99. 1880734\n",
       "100. 91046\n",
       "101. 14449\n",
       "102. 36606\n",
       "103. 18103\n",
       "104. 494\n",
       "105. 3749860\n",
       "106. 358857\n",
       "107. 136053\n",
       "108. 98449\n",
       "109. 949263\n",
       "110. 105866\n",
       "111. 440741\n",
       "112. 129105\n",
       "113. 818035\n",
       "114. 1692834\n",
       "115. 136\n",
       "116. 10025\n",
       "117. 4740\n",
       "118. 155657\n",
       "119. 0\n",
       "120. 155689\n",
       "121. 27228\n",
       "122. 251382\n",
       "123. 114434\n",
       "124. 588728\n",
       "125. 458698\n",
       "126. 476129\n",
       "127. 961\n",
       "128. 462283\n",
       "129. 2224344\n",
       "130. 2828660\n",
       "131. 3357763\n",
       "132. 1130091\n",
       "133. 242375\n",
       "134. 724250\n",
       "135. 9400835\n",
       "136. 98209\n",
       "137. 995\n",
       "138. 12909\n",
       "139. 5414\n",
       "140. 5790\n",
       "141. 549479\n",
       "142. 46509\n",
       "143. 1235828\n",
       "144. 65315\n",
       "145. 614684\n",
       "146. 411301\n",
       "147. 1637848\n",
       "148. 90029\n",
       "149. 10688\n",
       "150. 3821305\n",
       "151. 93128\n",
       "152. 23316\n",
       "153. 1074751\n",
       "154. 955800\n",
       "155. 16554\n",
       "156. 509\n",
       "157. 26162\n",
       "158. 26199\n",
       "159. 67664\n",
       "160. 703732\n",
       "161. 5435831\n",
       "162. 39979\n",
       "163. 3367461\n",
       "164. 741570\n",
       "165. 9889926\n",
       "166. 35940893\n",
       "167. 398213\n",
       "168. 43975\n",
       "169. 159149\n",
       "170. 1026522\n",
       "171. 210057\n",
       "172. 133638\n",
       "\n",
       "\n"
      ],
      "text/plain": [
       "  [1]    49621    96838    58574    15907    20981      832  5315989   334347\n",
       "  [9]   203650  1093095   574799    22655   277421  1151644    24432   643372\n",
       " [17]  1623560    29861     7884     2633   531428   269904   187281 10081676\n",
       " [25]      338   682552    12123      884    77914    32681  1770106     4020\n",
       " [33]  1749099    87655  5048061   561054   571707   961276   131462  2018069\n",
       " [41]   466817    13503     5550   400846    25961   480720   283947   117884\n",
       " [49]    13538   219259    46465   278446     3337      165   177439  7483282\n",
       " [57]    25325     4469   732965  3733519    96708   901661     1188      161\n",
       " [65]   613713    24878     6434    37524    24710   377241  1025697    17294\n",
       " [73] 33766707  4254443  6082865  2075248   254870  1341305  4968341    33285\n",
       " [81]    90905   432773   739847   385144   107729   107410   413177    85253\n",
       " [89]       45   144518   542649    14395     5396   367218   458298    86637\n",
       " [97]    19831    61863  1880734    91046    14449    36606    18103      494\n",
       "[105]  3749860   358857   136053    98449   949263   105866   440741   129105\n",
       "[113]   818035  1692834      136    10025     4740   155657        0   155689\n",
       "[121]    27228   251382   114434   588728   458698   476129      961   462283\n",
       "[129]  2224344  2828660  3357763  1130091   242375   724250  9400835    98209\n",
       "[137]      995    12909     5414     5790   549479    46509  1235828    65315\n",
       "[145]   614684   411301  1637848    90029    10688  3821305    93128    23316\n",
       "[153]  1074751   955800    16554      509    26162    26199    67664   703732\n",
       "[161]  5435831    39979  3367461   741570  9889926 35940893   398213    43975\n",
       "[169]   159149  1026522   210057   133638"
      ]
     },
     "metadata": {},
     "output_type": "display_data"
    }
   ],
   "source": [
    "# get the total confirmed cases worldwide\n",
    "confirmed.cases <- df[, 4]\n",
    "confirmed.cases"
   ]
  },
  {
   "cell_type": "code",
   "execution_count": 39,
   "metadata": {},
   "outputs": [
    {
     "name": "stdout",
     "output_type": "stream",
     "text": [
      "[1] 212924418\n"
     ]
    }
   ],
   "source": [
    "# get the total tested cases worldwide\n",
    "total.confirmed.cases <- sum(confirmed.cases)\n",
    "print(total.confirmed.cases)"
   ]
  },
  {
   "cell_type": "code",
   "execution_count": 40,
   "metadata": {},
   "outputs": [
    {
     "name": "stdout",
     "output_type": "stream",
     "text": [
      "[1] 0.06105057\n"
     ]
    }
   ],
   "source": [
    "# get the positive ratio (confirmed / tested)\n",
    "positive.ratio <- sum(df$Confirmed) / sum(df$Tested)\n",
    "print(positive.ratio)"
   ]
  },
  {
   "cell_type": "code",
   "execution_count": 41,
   "metadata": {},
   "outputs": [
    {
     "name": "stdout",
     "output_type": "stream",
     "text": [
      "  [1] \"Afghanistan\"            \"Albania\"                \"Algeria\"               \n",
      "  [4] \"Andorra\"                \"Angola\"                 \"Antigua and Barbuda\"   \n",
      "  [7] \"Argentina\"              \"Armenia\"                \"Australia\"             \n",
      " [10] \"Austria\"                \"Azerbaijan\"             \"Bahamas\"               \n",
      " [13] \"Bahrain\"                \"Bangladesh\"             \"Barbados\"              \n",
      " [16] \"Belarus\"                \"Belgium\"                \"Belize\"                \n",
      " [19] \"Benin\"                  \"Bhutan\"                 \"Bolivia\"               \n",
      " [22] \"Bosnia and Herzegovina\" \"Botswana\"               \"Brazil\"                \n",
      " [25] \"Brunei\"                 \"Bulgaria\"               \"Burkina Faso\"          \n",
      " [28] \"Burundi\"                \"Cambodia\"               \"Cameroon\"              \n",
      " [31] \"Canada\"                 \"Chad\"                   \"Chile\"                 \n",
      " [34] \"China[c]\"               \"Colombia\"               \"Costa Rica\"            \n",
      " [37] \"Croatia\"                \"Cuba\"                   \"Cyprus[d]\"             \n",
      " [40] \"Czechia\"                \"Denmark[e]\"             \"Djibouti\"              \n",
      " [43] \"Dominica\"               \"Dominican Republic\"     \"DR Congo\"              \n",
      " [46] \"Ecuador\"                \"Egypt\"                  \"El Salvador\"           \n",
      " [49] \"Equatorial Guinea\"      \"Estonia\"                \"Eswatini\"              \n",
      " [52] \"Ethiopia\"               \"Faroe Islands\"          \"Fiji\"                  \n",
      " [55] \"Finland\"                \"France[f][g]\"           \"Gabon\"                 \n",
      " [58] \"Gambia\"                 \"Georgia[h]\"             \"Germany\"               \n",
      " [61] \"Ghana\"                  \"Greece\"                 \"Greenland\"             \n",
      " [64] \"Grenada\"                \"Guatemala\"              \"Guinea\"                \n",
      " [67] \"Guinea-Bissau\"          \"Guyana\"                 \"Haiti\"                 \n",
      " [70] \"Honduras\"               \"Hungary\"                \"Iceland\"               \n",
      " [73] \"India\"                  \"Indonesia\"              \"Iran\"                  \n",
      " [76] \"Iraq\"                   \"Ireland\"                \"Israel\"                \n",
      " [79] \"Italy\"                  \"Ivory Coast\"            \"Jamaica\"               \n",
      " [82] \"Japan\"                  \"Jordan\"                 \"Kazakhstan\"            \n",
      " [85] \"Kenya\"                  \"Kosovo\"                 \"Kuwait\"                \n",
      " [88] \"Kyrgyzstan\"             \"Laos\"                   \"Latvia\"                \n",
      " [91] \"Lebanon\"                \"Lesotho\"                \"Liberia\"               \n",
      " [94] \"Libya\"                  \"Lithuania\"              \"Luxembourg[i]\"         \n",
      " [97] \"Madagascar\"             \"Malawi\"                 \"Malaysia\"              \n",
      "[100] \"Maldives\"               \"Mali\"                   \"Malta\"                 \n",
      "[103] \"Mauritania\"             \"Mauritius\"              \"Mexico\"                \n",
      "[106] \"Moldova[j]\"             \"Mongolia\"               \"Montenegro\"            \n",
      "[109] \"Morocco\"                \"Mozambique\"             \"Myanmar\"               \n",
      "[112] \"Namibia\"                \"Nepal\"                  \"Netherlands\"           \n",
      "[115] \"New Caledonia\"          \"New Zealand\"            \"Niger\"                 \n",
      "[118] \"Nigeria\"                \"North Korea\"            \"North Macedonia\"       \n",
      "[121] \"Northern Cyprus[k]\"     \"Norway\"                 \"Oman\"                  \n",
      "[124] \"Pakistan\"               \"Palestine\"              \"Panama\"                \n",
      "[127] \"Papua New Guinea\"       \"Paraguay\"               \"Peru\"                  \n",
      "[130] \"Philippines\"            \"Poland\"                 \"Portugal\"              \n",
      "[133] \"Qatar\"                  \"Romania\"                \"Russia\"                \n",
      "[136] \"Rwanda\"                 \"Saint Kitts and Nevis\"  \"Saint Lucia\"           \n",
      "[139] \"Saint Vincent\"          \"San Marino\"             \"Saudi Arabia\"          \n",
      "[142] \"Senegal\"                \"Serbia\"                 \"Singapore\"             \n",
      "[145] \"Slovakia\"               \"Slovenia\"               \"South Africa\"          \n",
      "[148] \"South Korea\"            \"South Sudan\"            \"Spain\"                 \n",
      "[151] \"Sri Lanka\"              \"Sudan\"                  \"Sweden\"                \n",
      "[154] \"Switzerland[l]\"         \"Taiwan[m]\"              \"Tanzania\"              \n",
      "[157] \"Thailand\"               \"Togo\"                   \"Trinidad and Tobago\"   \n",
      "[160] \"Tunisia\"                \"Turkey\"                 \"Uganda\"                \n",
      "[163] \"Ukraine\"                \"United Arab Emirates\"   \"United Kingdom\"        \n",
      "[166] \"United States\"          \"Uruguay\"                \"Uzbekistan\"            \n",
      "[169] \"Venezuela\"              \"Vietnam\"                \"Zambia\"                \n",
      "[172] \"Zimbabwe\"              \n"
     ]
    }
   ],
   "source": [
    "# show country column\n",
    "country.column <- df$Country\n",
    "print(country.column)"
   ]
  },
  {
   "cell_type": "code",
   "execution_count": 42,
   "metadata": {},
   "outputs": [
    {
     "data": {
      "text/html": [
       "'character'"
      ],
      "text/latex": [
       "'character'"
      ],
      "text/markdown": [
       "'character'"
      ],
      "text/plain": [
       "[1] \"character\""
      ]
     },
     "metadata": {},
     "output_type": "display_data"
    }
   ],
   "source": [
    "class(country.column)"
   ]
  },
  {
   "cell_type": "code",
   "execution_count": 43,
   "metadata": {},
   "outputs": [
    {
     "name": "stdout",
     "output_type": "stream",
     "text": [
      "  [1] \"Afghanistan\"            \"Albania\"                \"Algeria\"               \n",
      "  [4] \"Andorra\"                \"Angola\"                 \"Antigua and Barbuda\"   \n",
      "  [7] \"Argentina\"              \"Armenia\"                \"Australia\"             \n",
      " [10] \"Austria\"                \"Azerbaijan\"             \"Bahamas\"               \n",
      " [13] \"Bahrain\"                \"Bangladesh\"             \"Barbados\"              \n",
      " [16] \"Belarus\"                \"Belgium\"                \"Belize\"                \n",
      " [19] \"Benin\"                  \"Bhutan\"                 \"Bolivia\"               \n",
      " [22] \"Bosnia and Herzegovina\" \"Botswana\"               \"Brazil\"                \n",
      " [25] \"Brunei\"                 \"Bulgaria\"               \"Burkina Faso\"          \n",
      " [28] \"Burundi\"                \"Cambodia\"               \"Cameroon\"              \n",
      " [31] \"Canada\"                 \"Chad\"                   \"Chile\"                 \n",
      " [34] \"China[c]\"               \"Colombia\"               \"Costa Rica\"            \n",
      " [37] \"Croatia\"                \"Cuba\"                   \"Cyprus[d]\"             \n",
      " [40] \"Czechia\"                \"Denmark[e]\"             \"Djibouti\"              \n",
      " [43] \"Dominica\"               \"Dominican Republic\"     \"DR Congo\"              \n",
      " [46] \"Ecuador\"                \"Egypt\"                  \"El Salvador\"           \n",
      " [49] \"Equatorial Guinea\"      \"Estonia\"                \"Eswatini\"              \n",
      " [52] \"Ethiopia\"               \"Faroe Islands\"          \"Fiji\"                  \n",
      " [55] \"Finland\"                \"France[f][g]\"           \"Gabon\"                 \n",
      " [58] \"Gambia\"                 \"Georgia[h]\"             \"Germany\"               \n",
      " [61] \"Ghana\"                  \"Greece\"                 \"Greenland\"             \n",
      " [64] \"Grenada\"                \"Guatemala\"              \"Guinea\"                \n",
      " [67] \"Guinea-Bissau\"          \"Guyana\"                 \"Haiti\"                 \n",
      " [70] \"Honduras\"               \"Hungary\"                \"Iceland\"               \n",
      " [73] \"India\"                  \"Indonesia\"              \"Iran\"                  \n",
      " [76] \"Iraq\"                   \"Ireland\"                \"Israel\"                \n",
      " [79] \"Italy\"                  \"Ivory Coast\"            \"Jamaica\"               \n",
      " [82] \"Japan\"                  \"Jordan\"                 \"Kazakhstan\"            \n",
      " [85] \"Kenya\"                  \"Kosovo\"                 \"Kuwait\"                \n",
      " [88] \"Kyrgyzstan\"             \"Laos\"                   \"Latvia\"                \n",
      " [91] \"Lebanon\"                \"Lesotho\"                \"Liberia\"               \n",
      " [94] \"Libya\"                  \"Lithuania\"              \"Luxembourg[i]\"         \n",
      " [97] \"Madagascar\"             \"Malawi\"                 \"Malaysia\"              \n",
      "[100] \"Maldives\"               \"Mali\"                   \"Malta\"                 \n",
      "[103] \"Mauritania\"             \"Mauritius\"              \"Mexico\"                \n",
      "[106] \"Moldova[j]\"             \"Mongolia\"               \"Montenegro\"            \n",
      "[109] \"Morocco\"                \"Mozambique\"             \"Myanmar\"               \n",
      "[112] \"Namibia\"                \"Nepal\"                  \"Netherlands\"           \n",
      "[115] \"New Caledonia\"          \"New Zealand\"            \"Niger\"                 \n",
      "[118] \"Nigeria\"                \"North Korea\"            \"North Macedonia\"       \n",
      "[121] \"Northern Cyprus[k]\"     \"Norway\"                 \"Oman\"                  \n",
      "[124] \"Pakistan\"               \"Palestine\"              \"Panama\"                \n",
      "[127] \"Papua New Guinea\"       \"Paraguay\"               \"Peru\"                  \n",
      "[130] \"Philippines\"            \"Poland\"                 \"Portugal\"              \n",
      "[133] \"Qatar\"                  \"Romania\"                \"Russia\"                \n",
      "[136] \"Rwanda\"                 \"Saint Kitts and Nevis\"  \"Saint Lucia\"           \n",
      "[139] \"Saint Vincent\"          \"San Marino\"             \"Saudi Arabia\"          \n",
      "[142] \"Senegal\"                \"Serbia\"                 \"Singapore\"             \n",
      "[145] \"Slovakia\"               \"Slovenia\"               \"South Africa\"          \n",
      "[148] \"South Korea\"            \"South Sudan\"            \"Spain\"                 \n",
      "[151] \"Sri Lanka\"              \"Sudan\"                  \"Sweden\"                \n",
      "[154] \"Switzerland[l]\"         \"Taiwan[m]\"              \"Tanzania\"              \n",
      "[157] \"Thailand\"               \"Togo\"                   \"Trinidad and Tobago\"   \n",
      "[160] \"Tunisia\"                \"Turkey\"                 \"Uganda\"                \n",
      "[163] \"Ukraine\"                \"United Arab Emirates\"   \"United Kingdom\"        \n",
      "[166] \"United States\"          \"Uruguay\"                \"Uzbekistan\"            \n",
      "[169] \"Venezuela\"              \"Vietnam\"                \"Zambia\"                \n",
      "[172] \"Zimbabwe\"              \n"
     ]
    }
   ],
   "source": [
    "sorted <- sort(country.column)\n",
    "print(sorted)"
   ]
  },
  {
   "cell_type": "code",
   "execution_count": 44,
   "metadata": {},
   "outputs": [
    {
     "name": "stdout",
     "output_type": "stream",
     "text": [
      "  [1] \"Zimbabwe\"               \"Zambia\"                 \"Vietnam\"               \n",
      "  [4] \"Venezuela\"              \"Uzbekistan\"             \"Uruguay\"               \n",
      "  [7] \"United States\"          \"United Kingdom\"         \"United Arab Emirates\"  \n",
      " [10] \"Ukraine\"                \"Uganda\"                 \"Turkey\"                \n",
      " [13] \"Tunisia\"                \"Trinidad and Tobago\"    \"Togo\"                  \n",
      " [16] \"Thailand\"               \"Tanzania\"               \"Taiwan[m]\"             \n",
      " [19] \"Switzerland[l]\"         \"Sweden\"                 \"Sudan\"                 \n",
      " [22] \"Sri Lanka\"              \"Spain\"                  \"South Sudan\"           \n",
      " [25] \"South Korea\"            \"South Africa\"           \"Slovenia\"              \n",
      " [28] \"Slovakia\"               \"Singapore\"              \"Serbia\"                \n",
      " [31] \"Senegal\"                \"Saudi Arabia\"           \"San Marino\"            \n",
      " [34] \"Saint Vincent\"          \"Saint Lucia\"            \"Saint Kitts and Nevis\" \n",
      " [37] \"Rwanda\"                 \"Russia\"                 \"Romania\"               \n",
      " [40] \"Qatar\"                  \"Portugal\"               \"Poland\"                \n",
      " [43] \"Philippines\"            \"Peru\"                   \"Paraguay\"              \n",
      " [46] \"Papua New Guinea\"       \"Panama\"                 \"Palestine\"             \n",
      " [49] \"Pakistan\"               \"Oman\"                   \"Norway\"                \n",
      " [52] \"Northern Cyprus[k]\"     \"North Macedonia\"        \"North Korea\"           \n",
      " [55] \"Nigeria\"                \"Niger\"                  \"New Zealand\"           \n",
      " [58] \"New Caledonia\"          \"Netherlands\"            \"Nepal\"                 \n",
      " [61] \"Namibia\"                \"Myanmar\"                \"Mozambique\"            \n",
      " [64] \"Morocco\"                \"Montenegro\"             \"Mongolia\"              \n",
      " [67] \"Moldova[j]\"             \"Mexico\"                 \"Mauritius\"             \n",
      " [70] \"Mauritania\"             \"Malta\"                  \"Mali\"                  \n",
      " [73] \"Maldives\"               \"Malaysia\"               \"Malawi\"                \n",
      " [76] \"Madagascar\"             \"Luxembourg[i]\"          \"Lithuania\"             \n",
      " [79] \"Libya\"                  \"Liberia\"                \"Lesotho\"               \n",
      " [82] \"Lebanon\"                \"Latvia\"                 \"Laos\"                  \n",
      " [85] \"Kyrgyzstan\"             \"Kuwait\"                 \"Kosovo\"                \n",
      " [88] \"Kenya\"                  \"Kazakhstan\"             \"Jordan\"                \n",
      " [91] \"Japan\"                  \"Jamaica\"                \"Ivory Coast\"           \n",
      " [94] \"Italy\"                  \"Israel\"                 \"Ireland\"               \n",
      " [97] \"Iraq\"                   \"Iran\"                   \"Indonesia\"             \n",
      "[100] \"India\"                  \"Iceland\"                \"Hungary\"               \n",
      "[103] \"Honduras\"               \"Haiti\"                  \"Guyana\"                \n",
      "[106] \"Guinea-Bissau\"          \"Guinea\"                 \"Guatemala\"             \n",
      "[109] \"Grenada\"                \"Greenland\"              \"Greece\"                \n",
      "[112] \"Ghana\"                  \"Germany\"                \"Georgia[h]\"            \n",
      "[115] \"Gambia\"                 \"Gabon\"                  \"France[f][g]\"          \n",
      "[118] \"Finland\"                \"Fiji\"                   \"Faroe Islands\"         \n",
      "[121] \"Ethiopia\"               \"Eswatini\"               \"Estonia\"               \n",
      "[124] \"Equatorial Guinea\"      \"El Salvador\"            \"Egypt\"                 \n",
      "[127] \"Ecuador\"                \"DR Congo\"               \"Dominican Republic\"    \n",
      "[130] \"Dominica\"               \"Djibouti\"               \"Denmark[e]\"            \n",
      "[133] \"Czechia\"                \"Cyprus[d]\"              \"Cuba\"                  \n",
      "[136] \"Croatia\"                \"Costa Rica\"             \"Colombia\"              \n",
      "[139] \"China[c]\"               \"Chile\"                  \"Chad\"                  \n",
      "[142] \"Canada\"                 \"Cameroon\"               \"Cambodia\"              \n",
      "[145] \"Burundi\"                \"Burkina Faso\"           \"Bulgaria\"              \n",
      "[148] \"Brunei\"                 \"Brazil\"                 \"Botswana\"              \n",
      "[151] \"Bosnia and Herzegovina\" \"Bolivia\"                \"Bhutan\"                \n",
      "[154] \"Benin\"                  \"Belize\"                 \"Belgium\"               \n",
      "[157] \"Belarus\"                \"Barbados\"               \"Bangladesh\"            \n",
      "[160] \"Bahrain\"                \"Bahamas\"                \"Azerbaijan\"            \n",
      "[163] \"Austria\"                \"Australia\"              \"Armenia\"               \n",
      "[166] \"Argentina\"              \"Antigua and Barbuda\"    \"Angola\"                \n",
      "[169] \"Andorra\"                \"Algeria\"                \"Albania\"               \n",
      "[172] \"Afghanistan\"           \n"
     ]
    }
   ],
   "source": [
    "reversed.sorted <- rev(sorted)\n",
    "print(reversed.sorted)"
   ]
  },
  {
   "cell_type": "code",
   "execution_count": 46,
   "metadata": {},
   "outputs": [
    {
     "name": "stdout",
     "output_type": "stream",
     "text": [
      "[1] \"United Arab Emirates\" \"United Kingdom\"       \"United States\"       \n"
     ]
    }
   ],
   "source": [
    "# find matches for United\n",
    "matches <- regexpr(\"United.+\", df$Country)\n",
    "countries.start.united <- regmatches(df$Country, matches)\n",
    "print(head(countries.start.united, 10))"
   ]
  },
  {
   "cell_type": "code",
   "execution_count": 47,
   "metadata": {},
   "outputs": [
    {
     "name": "stdout",
     "output_type": "stream",
     "text": [
      "[1] \"Brazil\" \"Brunei\"\n"
     ]
    }
   ],
   "source": [
    "# find matches with Br\n",
    "matches <- regexpr(\"Br.+\", df$Country)\n",
    "countries.start.br <- regmatches(df$Country, matches)\n",
    "print(head(countries.start.br, 10))"
   ]
  },
  {
   "cell_type": "code",
   "execution_count": 48,
   "metadata": {},
   "outputs": [
    {
     "name": "stdout",
     "output_type": "stream",
     "text": [
      "[1] \"Cambodia\"  \"Cameroon\"  \"Canada\"    \"Caledonia\"\n"
     ]
    }
   ],
   "source": [
    "# find matches with Ca\n",
    "matches <- regexpr(\"Ca.+\", df$Country)\n",
    "countries.start.ca <- regmatches(df$Country, matches)\n",
    "print(head(countries.start.ca, 10))"
   ]
  },
  {
   "cell_type": "code",
   "execution_count": 50,
   "metadata": {},
   "outputs": [
    {
     "name": "stdout",
     "output_type": "stream",
     "text": [
      " [1] \"Afghanistan\"         \"Albania\"             \"Algeria\"            \n",
      " [4] \"Andorra\"             \"Angola\"              \"Antigua and Barbuda\"\n",
      " [7] \"Argentina\"           \"Armenia\"             \"Australia\"          \n",
      "[10] \"Austria\"            \n"
     ]
    }
   ],
   "source": [
    "# find all countries that start with letter a\n",
    "matches <- regexpr(\"A.+\", df$Country)\n",
    "countries.start.a <- regmatches(df$Country, matches)\n",
    "print(head(countries.start.a, 10))"
   ]
  },
  {
   "cell_type": "code",
   "execution_count": 55,
   "metadata": {},
   "outputs": [
    {
     "name": "stdout",
     "output_type": "stream",
     "text": [
      "  [1] \"Afghanistan: Afghanistan\"                      \n",
      "  [2] \"Albania: Albania\"                              \n",
      "  [3] \"Algeria: Algeria\"                              \n",
      "  [4] \"Andorra: Andorra\"                              \n",
      "  [5] \"Angola: Angola\"                                \n",
      "  [6] \"Antigua and Barbuda: Antigua and Barbuda\"      \n",
      "  [7] \"Argentina: Argentina\"                          \n",
      "  [8] \"Armenia: Armenia\"                              \n",
      "  [9] \"Australia: Australia\"                          \n",
      " [10] \"Austria: Austria\"                              \n",
      " [11] \"Azerbaijan: Azerbaijan\"                        \n",
      " [12] \"Bahamas: Bahamas\"                              \n",
      " [13] \"Bahrain: Bahrain\"                              \n",
      " [14] \"Bangladesh: Bangladesh\"                        \n",
      " [15] \"Barbados: Barbados\"                            \n",
      " [16] \"Belarus: Belarus\"                              \n",
      " [17] \"Belgium: Belgium\"                              \n",
      " [18] \"Belize: Belize\"                                \n",
      " [19] \"Benin: Benin\"                                  \n",
      " [20] \"Bhutan: Bhutan\"                                \n",
      " [21] \"Bolivia: Bolivia\"                              \n",
      " [22] \"Bosnia and Herzegovina: Bosnia and Herzegovina\"\n",
      " [23] \"Botswana: Botswana\"                            \n",
      " [24] \"Brazil: Brazil\"                                \n",
      " [25] \"Brunei: Brunei\"                                \n",
      " [26] \"Bulgaria: Bulgaria\"                            \n",
      " [27] \"Burkina Faso: Burkina Faso\"                    \n",
      " [28] \"Burundi: Burundi\"                              \n",
      " [29] \"Cambodia: Cambodia\"                            \n",
      " [30] \"Cameroon: Cameroon\"                            \n",
      " [31] \"Canada: Canada\"                                \n",
      " [32] \"Chad: Chad\"                                    \n",
      " [33] \"Chile: Chile\"                                  \n",
      " [34] \"China[c]: China[c]\"                            \n",
      " [35] \"Colombia: Colombia\"                            \n",
      " [36] \"Costa Rica: Costa Rica\"                        \n",
      " [37] \"Croatia: Croatia\"                              \n",
      " [38] \"Cuba: Cuba\"                                    \n",
      " [39] \"Cyprus[d]: Cyprus[d]\"                          \n",
      " [40] \"Czechia: Czechia\"                              \n",
      " [41] \"Denmark[e]: Denmark[e]\"                        \n",
      " [42] \"Djibouti: Djibouti\"                            \n",
      " [43] \"Dominica: Dominica\"                            \n",
      " [44] \"Dominican Republic: Dominican Republic\"        \n",
      " [45] \"DR Congo: DR Congo\"                            \n",
      " [46] \"Ecuador: Ecuador\"                              \n",
      " [47] \"Egypt: Egypt\"                                  \n",
      " [48] \"El Salvador: El Salvador\"                      \n",
      " [49] \"Equatorial Guinea: Equatorial Guinea\"          \n",
      " [50] \"Estonia: Estonia\"                              \n",
      " [51] \"Eswatini: Eswatini\"                            \n",
      " [52] \"Ethiopia: Ethiopia\"                            \n",
      " [53] \"Faroe Islands: Faroe Islands\"                  \n",
      " [54] \"Fiji: Fiji\"                                    \n",
      " [55] \"Finland: Finland\"                              \n",
      " [56] \"France[f][g]: France[f][g]\"                    \n",
      " [57] \"Gabon: Gabon\"                                  \n",
      " [58] \"Gambia: Gambia\"                                \n",
      " [59] \"Georgia[h]: Georgia[h]\"                        \n",
      " [60] \"Germany: Germany\"                              \n",
      " [61] \"Ghana: Ghana\"                                  \n",
      " [62] \"Greece: Greece\"                                \n",
      " [63] \"Greenland: Greenland\"                          \n",
      " [64] \"Grenada: Grenada\"                              \n",
      " [65] \"Guatemala: Guatemala\"                          \n",
      " [66] \"Guinea: Guinea\"                                \n",
      " [67] \"Guinea-Bissau: Guinea-Bissau\"                  \n",
      " [68] \"Guyana: Guyana\"                                \n",
      " [69] \"Haiti: Haiti\"                                  \n",
      " [70] \"Honduras: Honduras\"                            \n",
      " [71] \"Hungary: Hungary\"                              \n",
      " [72] \"Iceland: Iceland\"                              \n",
      " [73] \"India: India\"                                  \n",
      " [74] \"Indonesia: Indonesia\"                          \n",
      " [75] \"Iran: Iran\"                                    \n",
      " [76] \"Iraq: Iraq\"                                    \n",
      " [77] \"Ireland: Ireland\"                              \n",
      " [78] \"Israel: Israel\"                                \n",
      " [79] \"Italy: Italy\"                                  \n",
      " [80] \"Ivory Coast: Ivory Coast\"                      \n",
      " [81] \"Jamaica: Jamaica\"                              \n",
      " [82] \"Japan: Japan\"                                  \n",
      " [83] \"Jordan: Jordan\"                                \n",
      " [84] \"Kazakhstan: Kazakhstan\"                        \n",
      " [85] \"Kenya: Kenya\"                                  \n",
      " [86] \"Kosovo: Kosovo\"                                \n",
      " [87] \"Kuwait: Kuwait\"                                \n",
      " [88] \"Kyrgyzstan: Kyrgyzstan\"                        \n",
      " [89] \"Laos: Laos\"                                    \n",
      " [90] \"Latvia: Latvia\"                                \n",
      " [91] \"Lebanon: Lebanon\"                              \n",
      " [92] \"Lesotho: Lesotho\"                              \n",
      " [93] \"Liberia: Liberia\"                              \n",
      " [94] \"Libya: Libya\"                                  \n",
      " [95] \"Lithuania: Lithuania\"                          \n",
      " [96] \"Luxembourg[i]: Luxembourg[i]\"                  \n",
      " [97] \"Madagascar: Madagascar\"                        \n",
      " [98] \"Malawi: Malawi\"                                \n",
      " [99] \"Malaysia: Malaysia\"                            \n",
      "[100] \"Maldives: Maldives\"                            \n",
      "[101] \"Mali: Mali\"                                    \n",
      "[102] \"Malta: Malta\"                                  \n",
      "[103] \"Mauritania: Mauritania\"                        \n",
      "[104] \"Mauritius: Mauritius\"                          \n",
      "[105] \"Mexico: Mexico\"                                \n",
      "[106] \"Moldova[j]: Moldova[j]\"                        \n",
      "[107] \"Mongolia: Mongolia\"                            \n",
      "[108] \"Montenegro: Montenegro\"                        \n",
      "[109] \"Morocco: Morocco\"                              \n",
      "[110] \"Mozambique: Mozambique\"                        \n",
      "[111] \"Myanmar: Myanmar\"                              \n",
      "[112] \"Namibia: Namibia\"                              \n",
      "[113] \"Nepal: Nepal\"                                  \n",
      "[114] \"Netherlands: Netherlands\"                      \n",
      "[115] \"New Caledonia: New Caledonia\"                  \n",
      "[116] \"New Zealand: New Zealand\"                      \n",
      "[117] \"Niger: Niger\"                                  \n",
      "[118] \"Nigeria: Nigeria\"                              \n",
      "[119] \"North Korea: North Korea\"                      \n",
      "[120] \"North Macedonia: North Macedonia\"              \n",
      "[121] \"Northern Cyprus[k]: Northern Cyprus[k]\"        \n",
      "[122] \"Norway: Norway\"                                \n",
      "[123] \"Oman: Oman\"                                    \n",
      "[124] \"Pakistan: Pakistan\"                            \n",
      "[125] \"Palestine: Palestine\"                          \n",
      "[126] \"Panama: Panama\"                                \n",
      "[127] \"Papua New Guinea: Papua New Guinea\"            \n",
      "[128] \"Paraguay: Paraguay\"                            \n",
      "[129] \"Peru: Peru\"                                    \n",
      "[130] \"Philippines: Philippines\"                      \n",
      "[131] \"Poland: Poland\"                                \n",
      "[132] \"Portugal: Portugal\"                            \n",
      "[133] \"Qatar: Qatar\"                                  \n",
      "[134] \"Romania: Romania\"                              \n",
      "[135] \"Russia: Russia\"                                \n",
      "[136] \"Rwanda: Rwanda\"                                \n",
      "[137] \"Saint Kitts and Nevis: Saint Kitts and Nevis\"  \n",
      "[138] \"Saint Lucia: Saint Lucia\"                      \n",
      "[139] \"Saint Vincent: Saint Vincent\"                  \n",
      "[140] \"San Marino: San Marino\"                        \n",
      "[141] \"Saudi Arabia: Saudi Arabia\"                    \n",
      "[142] \"Senegal: Senegal\"                              \n",
      "[143] \"Serbia: Serbia\"                                \n",
      "[144] \"Singapore: Singapore\"                          \n",
      "[145] \"Slovakia: Slovakia\"                            \n",
      "[146] \"Slovenia: Slovenia\"                            \n",
      "[147] \"South Africa: South Africa\"                    \n",
      "[148] \"South Korea: South Korea\"                      \n",
      "[149] \"South Sudan: South Sudan\"                      \n",
      "[150] \"Spain: Spain\"                                  \n",
      "[151] \"Sri Lanka: Sri Lanka\"                          \n",
      "[152] \"Sudan: Sudan\"                                  \n",
      "[153] \"Sweden: Sweden\"                                \n",
      "[154] \"Switzerland[l]: Switzerland[l]\"                \n",
      "[155] \"Taiwan[m]: Taiwan[m]\"                          \n",
      "[156] \"Tanzania: Tanzania\"                            \n",
      "[157] \"Thailand: Thailand\"                            \n",
      "[158] \"Togo: Togo\"                                    \n",
      "[159] \"Trinidad and Tobago: Trinidad and Tobago\"      \n",
      "[160] \"Tunisia: Tunisia\"                              \n",
      "[161] \"Turkey: Turkey\"                                \n",
      "[162] \"Uganda: Uganda\"                                \n",
      "[163] \"Ukraine: Ukraine\"                              \n",
      "[164] \"United Arab Emirates: United Arab Emirates\"    \n",
      "[165] \"United Kingdom: United Kingdom\"                \n",
      "[166] \"United States: United States\"                  \n",
      "[167] \"Uruguay: Uruguay\"                              \n",
      "[168] \"Uzbekistan: Uzbekistan\"                        \n",
      "[169] \"Venezuela: Venezuela\"                          \n",
      "[170] \"Vietnam: Vietnam\"                              \n",
      "[171] \"Zambia: Zambia\"                                \n",
      "[172] \"Zimbabwe: Zimbabwe\"                            \n"
     ]
    }
   ],
   "source": [
    "# print the countries and their index\n",
    "print(paste(df$Country, df$Country, sep = \": \"))"
   ]
  },
  {
   "cell_type": "code",
   "execution_count": 66,
   "metadata": {},
   "outputs": [
    {
     "data": {
      "text/html": [
       "166"
      ],
      "text/latex": [
       "166"
      ],
      "text/markdown": [
       "166"
      ],
      "text/plain": [
       "[1] 166"
      ]
     },
     "metadata": {},
     "output_type": "display_data"
    },
    {
     "data": {
      "text/html": [
       "31"
      ],
      "text/latex": [
       "31"
      ],
      "text/markdown": [
       "31"
      ],
      "text/plain": [
       "[1] 31"
      ]
     },
     "metadata": {},
     "output_type": "display_data"
    },
    {
     "data": {
      "text/html": [
       "24"
      ],
      "text/latex": [
       "24"
      ],
      "text/markdown": [
       "24"
      ],
      "text/plain": [
       "[1] 24"
      ]
     },
     "metadata": {},
     "output_type": "display_data"
    }
   ],
   "source": [
    "which(df$Country == \"United States\")\n",
    "\n",
    "which(df$Country == \"Canada\")\n",
    "\n",
    "which(df$Country == \"Brazil\")"
   ]
  },
  {
   "cell_type": "code",
   "execution_count": 67,
   "metadata": {},
   "outputs": [
    {
     "name": "stdout",
     "output_type": "stream",
     "text": [
      "          Country Confirmed Confirmed.Population.Ratio\n",
      "166 United States  35940893                       10.9\n",
      "   Country Confirmed Confirmed.Population.Ratio\n",
      "31  Canada   1770106                        4.7\n",
      "   Country Confirmed Confirmed.Population.Ratio\n",
      "24  Brazil  10081676                        4.8\n"
     ]
    }
   ],
   "source": [
    "print(df[166, c(\"Country\", \"Confirmed\", \"Confirmed.Population.Ratio\")])\n",
    "\n",
    "print(df[31, c(\"Country\", \"Confirmed\", \"Confirmed.Population.Ratio\")])\n",
    "\n",
    "print(df[24, c(\"Country\", \"Confirmed\", \"Confirmed.Population.Ratio\")])"
   ]
  },
  {
   "cell_type": "code",
   "execution_count": 69,
   "metadata": {},
   "outputs": [
    {
     "name": "stdout",
     "output_type": "stream",
     "text": [
      "[1] \"United States 10.9 is higher than Canada 4.7\"\n"
     ]
    }
   ],
   "source": [
    "# compare two countries and see which one has a higher confirmed population ratio\n",
    "if (df$Confirmed.Population.Ratio[166] > df$Confirmed.Population.Ratio[31]) {\n",
    "    print(paste(\"United States\", df$Confirmed.Population.Ratio[166], \"is higher than Canada\", df$Confirmed.Population.Ratio[31], sep = \" \"))\n",
    "} else {\n",
    "    print(paste(\"Canada\", df$Confirmed.Population.Ratio[31], \"is higher than United States\", df$Confirmed.Population.Ratio[166], sep = \" \"))\n",
    "}"
   ]
  },
  {
   "cell_type": "code",
   "execution_count": 70,
   "metadata": {},
   "outputs": [
    {
     "name": "stdout",
     "output_type": "stream",
     "text": [
      "[1] \"Brazil 4.8 is higher than Canada 4.7\"\n"
     ]
    }
   ],
   "source": [
    "if (df$Confirmed.Population.Ratio[24] > df$Confirmed.Population.Ratio[31]) {\n",
    "    print(paste(\"Brazil\", df$Confirmed.Population.Ratio[24], \"is higher than Canada\", df$Confirmed.Population.Ratio[31], sep = \" \"))\n",
    "} else {\n",
    "    print(paste(\"Canada\", df$Confirmed.Population.Ratio[31], \"is higher than Brazil\", df$Confirmed.Population.Ratio[24], sep = \" \"))\n",
    "}\n"
   ]
  },
  {
   "cell_type": "code",
   "execution_count": 71,
   "metadata": {},
   "outputs": [
    {
     "name": "stdout",
     "output_type": "stream",
     "text": [
      "[1] \"United States 10.9 is higher than Brazil 4.8\"\n"
     ]
    }
   ],
   "source": [
    "if (df$Confirmed.Population.Ratio[24] > df$Confirmed.Population.Ratio[166]) {\n",
    "    print(paste(\"Brazil\", df$Confirmed.Population.Ratio[24], \"is higher than the United States\", df$Confirmed.Population.Ratio[166], sep = \" \"))\n",
    "} else {\n",
    "    print(paste(\"United States\", df$Confirmed.Population.Ratio[166], \"is higher than Brazil\", df$Confirmed.Population.Ratio[24], sep = \" \"))\n",
    "}"
   ]
  },
  {
   "cell_type": "code",
   "execution_count": 74,
   "metadata": {},
   "outputs": [
    {
     "name": "stdout",
     "output_type": "stream",
     "text": [
      "[1] \"United States with 35940893 is higher than Canada with 1770106 and Brazil with 10081676\"\n"
     ]
    }
   ],
   "source": [
    "# compare United States, Canada, and Brazil and see which one has a higher confirmed cases\n",
    "if (df$Confirmed[166] > df$Confirmed[31]) {\n",
    "    if (df$Confirmed[166] > df$Confirmed[24]) {\n",
    "        print(paste(\"United States with\", df$Confirmed[166], \"is higher than Canada with\", df$Confirmed[31], \"and Brazil with\", df$Confirmed[24], sep = \" \"))\n",
    "    } else {\n",
    "        print(paste(\"Brazil with\", df$Confirmed[24], \"is higher than Canada with\", df$Confirmed[31], \"and United States with\", df$Confirmed[166], sep = \" \"))\n",
    "    }\n",
    "}\n"
   ]
  },
  {
   "cell_type": "code",
   "execution_count": 77,
   "metadata": {},
   "outputs": [
    {
     "name": "stdout",
     "output_type": "stream",
     "text": [
      "        Country        Date    Tested Confirmed Confirmed.Test.Ratio\n",
      "28      Burundi  5 Jan 2021     90019       884                0.980\n",
      "34     China[c] 31 Jul 2020 160000000     87655                0.055\n",
      "89         Laos  1 Mar 2021    114030        45                0.039\n",
      "119 North Korea 25 Nov 2020     16914         0                0.000\n",
      "156    Tanzania 18 Nov 2020      3880       509               13.100\n",
      "    Tested.Population.Ratio Confirmed.Population.Ratio\n",
      "28                   0.7600                    0.00740\n",
      "34                  11.1000                    0.00610\n",
      "89                   1.6000                    0.00063\n",
      "119                  0.0660                    0.00000\n",
      "156                  0.0065                    0.00085\n"
     ]
    }
   ],
   "source": [
    "# find countries with confirmed to population ratio less than the threshold\n",
    "threshold <- \"lessRisk\"\n",
    "if (threshold == \"lessRisk\") {\n",
    "    print(subset(df, Confirmed.Population.Ratio < .01))\n",
    "} else {\n",
    "    print(subset(df, Confirmed.Population.Ratio > .01))\n",
    "}\n"
   ]
  },
  {
   "cell_type": "code",
   "execution_count": 91,
   "metadata": {},
   "outputs": [
    {
     "data": {
      "text/html": [
       "<table class=\"dataframe\">\n",
       "<caption>A data.frame: 20 × 7</caption>\n",
       "<thead>\n",
       "\t<tr><th></th><th scope=col>Country</th><th scope=col>Date</th><th scope=col>Tested</th><th scope=col>Confirmed</th><th scope=col>Confirmed.Test.Ratio</th><th scope=col>Tested.Population.Ratio</th><th scope=col>Confirmed.Population.Ratio</th></tr>\n",
       "\t<tr><th></th><th scope=col>&lt;chr&gt;</th><th scope=col>&lt;chr&gt;</th><th scope=col>&lt;dbl&gt;</th><th scope=col>&lt;dbl&gt;</th><th scope=col>&lt;dbl&gt;</th><th scope=col>&lt;dbl&gt;</th><th scope=col>&lt;dbl&gt;</th></tr>\n",
       "</thead>\n",
       "<tbody>\n",
       "\t<tr><th scope=row>1</th><td>Afghanistan        </td><td>17 Dec 2020</td><td>   154767</td><td>  49621</td><td>32.10</td><td>   0.40</td><td> 0.130</td></tr>\n",
       "\t<tr><th scope=row>2</th><td>Albania            </td><td>18 Feb 2021</td><td>   428654</td><td>  96838</td><td>22.60</td><td>  15.00</td><td> 3.400</td></tr>\n",
       "\t<tr><th scope=row>3</th><td>Algeria            </td><td>2 Nov 2020 </td><td>   230553</td><td>  58574</td><td>25.40</td><td>   0.53</td><td> 0.130</td></tr>\n",
       "\t<tr><th scope=row>4</th><td>Andorra            </td><td>15 Nov 2021</td><td>   225568</td><td>  15907</td><td> 7.10</td><td> 291.00</td><td>20.500</td></tr>\n",
       "\t<tr><th scope=row>5</th><td>Angola             </td><td>12 Mar 2021</td><td>   399228</td><td>  20981</td><td> 5.30</td><td>   1.30</td><td> 0.067</td></tr>\n",
       "\t<tr><th scope=row>6</th><td>Antigua and Barbuda</td><td>6 Mar 2021 </td><td>    15268</td><td>    832</td><td> 5.40</td><td>  15.90</td><td> 0.860</td></tr>\n",
       "\t<tr><th scope=row>7</th><td>Argentina          </td><td>22 Nov 2021</td><td> 25918391</td><td>5315989</td><td>20.50</td><td>  57.10</td><td>11.700</td></tr>\n",
       "\t<tr><th scope=row>8</th><td>Armenia            </td><td>22 Nov 2021</td><td>  2311186</td><td> 334347</td><td>14.50</td><td>  78.30</td><td>11.300</td></tr>\n",
       "\t<tr><th scope=row>9</th><td>Australia          </td><td>25 Nov 2021</td><td> 47196453</td><td> 203650</td><td> 0.43</td><td> 188.00</td><td> 0.810</td></tr>\n",
       "\t<tr><th scope=row>10</th><td>Austria            </td><td>25 Nov 2021</td><td>107616106</td><td>1093095</td><td> 1.02</td><td>1209.00</td><td>12.300</td></tr>\n",
       "\t<tr><th scope=row>11</th><td>Azerbaijan         </td><td>22 Nov 2021</td><td>  5449379</td><td> 574799</td><td>10.50</td><td>  55.10</td><td> 5.800</td></tr>\n",
       "\t<tr><th scope=row>12</th><td>Bahamas            </td><td>18 Nov 2021</td><td>   164360</td><td>  22655</td><td>13.80</td><td>  42.60</td><td> 5.900</td></tr>\n",
       "\t<tr><th scope=row>13</th><td>Bahrain            </td><td>22 Nov 2021</td><td>  7270221</td><td> 277421</td><td> 3.80</td><td> 463.00</td><td>17.700</td></tr>\n",
       "\t<tr><th scope=row>14</th><td>Bangladesh         </td><td>24 Jul 2021</td><td>  7417714</td><td>1151644</td><td>15.50</td><td>   4.50</td><td> 0.700</td></tr>\n",
       "\t<tr><th scope=row>15</th><td>Barbados           </td><td>23 Nov 2021</td><td>   429377</td><td>  24432</td><td> 5.70</td><td> 150.00</td><td> 8.500</td></tr>\n",
       "\t<tr><th scope=row>16</th><td>Belarus            </td><td>23 Nov 2021</td><td> 10228936</td><td> 643372</td><td> 6.30</td><td> 108.00</td><td> 6.800</td></tr>\n",
       "\t<tr><th scope=row>17</th><td>Belgium            </td><td>22 Nov 2021</td><td> 23782072</td><td>1623560</td><td> 6.80</td><td> 207.00</td><td>14.100</td></tr>\n",
       "\t<tr><th scope=row>18</th><td>Belize             </td><td>23 Nov 2021</td><td>   340447</td><td>  29861</td><td> 8.80</td><td>  83.30</td><td> 7.300</td></tr>\n",
       "\t<tr><th scope=row>19</th><td>Benin              </td><td>4 May 2021 </td><td>   595112</td><td>   7884</td><td> 1.30</td><td>   5.10</td><td> 0.067</td></tr>\n",
       "\t<tr><th scope=row>20</th><td>Bhutan             </td><td>25 Nov 2021</td><td>  1235929</td><td>   2633</td><td> 0.21</td><td> 167.00</td><td> 0.350</td></tr>\n",
       "</tbody>\n",
       "</table>\n"
      ],
      "text/latex": [
       "A data.frame: 20 × 7\n",
       "\\begin{tabular}{r|lllllll}\n",
       "  & Country & Date & Tested & Confirmed & Confirmed.Test.Ratio & Tested.Population.Ratio & Confirmed.Population.Ratio\\\\\n",
       "  & <chr> & <chr> & <dbl> & <dbl> & <dbl> & <dbl> & <dbl>\\\\\n",
       "\\hline\n",
       "\t1 & Afghanistan         & 17 Dec 2020 &    154767 &   49621 & 32.10 &    0.40 &  0.130\\\\\n",
       "\t2 & Albania             & 18 Feb 2021 &    428654 &   96838 & 22.60 &   15.00 &  3.400\\\\\n",
       "\t3 & Algeria             & 2 Nov 2020  &    230553 &   58574 & 25.40 &    0.53 &  0.130\\\\\n",
       "\t4 & Andorra             & 15 Nov 2021 &    225568 &   15907 &  7.10 &  291.00 & 20.500\\\\\n",
       "\t5 & Angola              & 12 Mar 2021 &    399228 &   20981 &  5.30 &    1.30 &  0.067\\\\\n",
       "\t6 & Antigua and Barbuda & 6 Mar 2021  &     15268 &     832 &  5.40 &   15.90 &  0.860\\\\\n",
       "\t7 & Argentina           & 22 Nov 2021 &  25918391 & 5315989 & 20.50 &   57.10 & 11.700\\\\\n",
       "\t8 & Armenia             & 22 Nov 2021 &   2311186 &  334347 & 14.50 &   78.30 & 11.300\\\\\n",
       "\t9 & Australia           & 25 Nov 2021 &  47196453 &  203650 &  0.43 &  188.00 &  0.810\\\\\n",
       "\t10 & Austria             & 25 Nov 2021 & 107616106 & 1093095 &  1.02 & 1209.00 & 12.300\\\\\n",
       "\t11 & Azerbaijan          & 22 Nov 2021 &   5449379 &  574799 & 10.50 &   55.10 &  5.800\\\\\n",
       "\t12 & Bahamas             & 18 Nov 2021 &    164360 &   22655 & 13.80 &   42.60 &  5.900\\\\\n",
       "\t13 & Bahrain             & 22 Nov 2021 &   7270221 &  277421 &  3.80 &  463.00 & 17.700\\\\\n",
       "\t14 & Bangladesh          & 24 Jul 2021 &   7417714 & 1151644 & 15.50 &    4.50 &  0.700\\\\\n",
       "\t15 & Barbados            & 23 Nov 2021 &    429377 &   24432 &  5.70 &  150.00 &  8.500\\\\\n",
       "\t16 & Belarus             & 23 Nov 2021 &  10228936 &  643372 &  6.30 &  108.00 &  6.800\\\\\n",
       "\t17 & Belgium             & 22 Nov 2021 &  23782072 & 1623560 &  6.80 &  207.00 & 14.100\\\\\n",
       "\t18 & Belize              & 23 Nov 2021 &    340447 &   29861 &  8.80 &   83.30 &  7.300\\\\\n",
       "\t19 & Benin               & 4 May 2021  &    595112 &    7884 &  1.30 &    5.10 &  0.067\\\\\n",
       "\t20 & Bhutan              & 25 Nov 2021 &   1235929 &    2633 &  0.21 &  167.00 &  0.350\\\\\n",
       "\\end{tabular}\n"
      ],
      "text/markdown": [
       "\n",
       "A data.frame: 20 × 7\n",
       "\n",
       "| <!--/--> | Country &lt;chr&gt; | Date &lt;chr&gt; | Tested &lt;dbl&gt; | Confirmed &lt;dbl&gt; | Confirmed.Test.Ratio &lt;dbl&gt; | Tested.Population.Ratio &lt;dbl&gt; | Confirmed.Population.Ratio &lt;dbl&gt; |\n",
       "|---|---|---|---|---|---|---|---|\n",
       "| 1 | Afghanistan         | 17 Dec 2020 |    154767 |   49621 | 32.10 |    0.40 |  0.130 |\n",
       "| 2 | Albania             | 18 Feb 2021 |    428654 |   96838 | 22.60 |   15.00 |  3.400 |\n",
       "| 3 | Algeria             | 2 Nov 2020  |    230553 |   58574 | 25.40 |    0.53 |  0.130 |\n",
       "| 4 | Andorra             | 15 Nov 2021 |    225568 |   15907 |  7.10 |  291.00 | 20.500 |\n",
       "| 5 | Angola              | 12 Mar 2021 |    399228 |   20981 |  5.30 |    1.30 |  0.067 |\n",
       "| 6 | Antigua and Barbuda | 6 Mar 2021  |     15268 |     832 |  5.40 |   15.90 |  0.860 |\n",
       "| 7 | Argentina           | 22 Nov 2021 |  25918391 | 5315989 | 20.50 |   57.10 | 11.700 |\n",
       "| 8 | Armenia             | 22 Nov 2021 |   2311186 |  334347 | 14.50 |   78.30 | 11.300 |\n",
       "| 9 | Australia           | 25 Nov 2021 |  47196453 |  203650 |  0.43 |  188.00 |  0.810 |\n",
       "| 10 | Austria             | 25 Nov 2021 | 107616106 | 1093095 |  1.02 | 1209.00 | 12.300 |\n",
       "| 11 | Azerbaijan          | 22 Nov 2021 |   5449379 |  574799 | 10.50 |   55.10 |  5.800 |\n",
       "| 12 | Bahamas             | 18 Nov 2021 |    164360 |   22655 | 13.80 |   42.60 |  5.900 |\n",
       "| 13 | Bahrain             | 22 Nov 2021 |   7270221 |  277421 |  3.80 |  463.00 | 17.700 |\n",
       "| 14 | Bangladesh          | 24 Jul 2021 |   7417714 | 1151644 | 15.50 |    4.50 |  0.700 |\n",
       "| 15 | Barbados            | 23 Nov 2021 |    429377 |   24432 |  5.70 |  150.00 |  8.500 |\n",
       "| 16 | Belarus             | 23 Nov 2021 |  10228936 |  643372 |  6.30 |  108.00 |  6.800 |\n",
       "| 17 | Belgium             | 22 Nov 2021 |  23782072 | 1623560 |  6.80 |  207.00 | 14.100 |\n",
       "| 18 | Belize              | 23 Nov 2021 |    340447 |   29861 |  8.80 |   83.30 |  7.300 |\n",
       "| 19 | Benin               | 4 May 2021  |    595112 |    7884 |  1.30 |    5.10 |  0.067 |\n",
       "| 20 | Bhutan              | 25 Nov 2021 |   1235929 |    2633 |  0.21 |  167.00 |  0.350 |\n",
       "\n"
      ],
      "text/plain": [
       "   Country             Date        Tested    Confirmed Confirmed.Test.Ratio\n",
       "1  Afghanistan         17 Dec 2020    154767   49621   32.10               \n",
       "2  Albania             18 Feb 2021    428654   96838   22.60               \n",
       "3  Algeria             2 Nov 2020     230553   58574   25.40               \n",
       "4  Andorra             15 Nov 2021    225568   15907    7.10               \n",
       "5  Angola              12 Mar 2021    399228   20981    5.30               \n",
       "6  Antigua and Barbuda 6 Mar 2021      15268     832    5.40               \n",
       "7  Argentina           22 Nov 2021  25918391 5315989   20.50               \n",
       "8  Armenia             22 Nov 2021   2311186  334347   14.50               \n",
       "9  Australia           25 Nov 2021  47196453  203650    0.43               \n",
       "10 Austria             25 Nov 2021 107616106 1093095    1.02               \n",
       "11 Azerbaijan          22 Nov 2021   5449379  574799   10.50               \n",
       "12 Bahamas             18 Nov 2021    164360   22655   13.80               \n",
       "13 Bahrain             22 Nov 2021   7270221  277421    3.80               \n",
       "14 Bangladesh          24 Jul 2021   7417714 1151644   15.50               \n",
       "15 Barbados            23 Nov 2021    429377   24432    5.70               \n",
       "16 Belarus             23 Nov 2021  10228936  643372    6.30               \n",
       "17 Belgium             22 Nov 2021  23782072 1623560    6.80               \n",
       "18 Belize              23 Nov 2021    340447   29861    8.80               \n",
       "19 Benin               4 May 2021     595112    7884    1.30               \n",
       "20 Bhutan              25 Nov 2021   1235929    2633    0.21               \n",
       "   Tested.Population.Ratio Confirmed.Population.Ratio\n",
       "1     0.40                  0.130                    \n",
       "2    15.00                  3.400                    \n",
       "3     0.53                  0.130                    \n",
       "4   291.00                 20.500                    \n",
       "5     1.30                  0.067                    \n",
       "6    15.90                  0.860                    \n",
       "7    57.10                 11.700                    \n",
       "8    78.30                 11.300                    \n",
       "9   188.00                  0.810                    \n",
       "10 1209.00                 12.300                    \n",
       "11   55.10                  5.800                    \n",
       "12   42.60                  5.900                    \n",
       "13  463.00                 17.700                    \n",
       "14    4.50                  0.700                    \n",
       "15  150.00                  8.500                    \n",
       "16  108.00                  6.800                    \n",
       "17  207.00                 14.100                    \n",
       "18   83.30                  7.300                    \n",
       "19    5.10                  0.067                    \n",
       "20  167.00                  0.350                    "
      ]
     },
     "metadata": {},
     "output_type": "display_data"
    }
   ],
   "source": [
    "head(df, 20)"
   ]
  },
  {
   "cell_type": "code",
   "execution_count": 108,
   "metadata": {},
   "outputs": [
    {
     "name": "stdout",
     "output_type": "stream",
     "text": [
      "          Country        Date    Tested Confirmed Confirmed.Test.Ratio\n",
      "24         Brazil 19 Feb 2021  23561497  10081676                 42.8\n",
      "73          India 19 Sep 2021 553621766  33766707                  6.1\n",
      "166 United States  9 Aug 2021 512152348  35940893                  7.0\n",
      "    Tested.Population.Ratio Confirmed.Population.Ratio\n",
      "24                     11.2                        4.8\n",
      "73                     40.1                        2.4\n",
      "166                   155.0                       10.9\n"
     ]
    }
   ],
   "source": [
    "# countries with more than 10 million confirmed cases\n",
    "print(subset(df, Confirmed > 10000000))\n",
    "\n",
    "\n"
   ]
  },
  {
   "cell_type": "code",
   "execution_count": 109,
   "metadata": {},
   "outputs": [
    {
     "name": "stdout",
     "output_type": "stream",
     "text": [
      "          Country        Date    Tested Confirmed Confirmed.Test.Ratio\n",
      "24         Brazil 19 Feb 2021  23561497  10081676                 42.8\n",
      "73          India 19 Sep 2021 553621766  33766707                  6.1\n",
      "166 United States  9 Aug 2021 512152348  35940893                  7.0\n",
      "    Tested.Population.Ratio Confirmed.Population.Ratio\n",
      "24                     11.2                        4.8\n",
      "73                     40.1                        2.4\n",
      "166                   155.0                       10.9\n"
     ]
    }
   ],
   "source": [
    "top.three <- subset(df, Confirmed > 10000000)\n",
    "print(top.three)"
   ]
  },
  {
   "cell_type": "code",
   "execution_count": 114,
   "metadata": {},
   "outputs": [],
   "source": [
    "library(ggplot2)\n",
    "library(ggthemes)"
   ]
  },
  {
   "cell_type": "code",
   "execution_count": 117,
   "metadata": {},
   "outputs": [
    {
     "data": {
      "image/png": "[encoded data removed]",
      "text/plain": [
       "plot without title"
      ]
     },
     "metadata": {
      "image/png": {
       "height": 420,
       "width": 420
      }
     },
     "output_type": "display_data"
    }
   ],
   "source": [
    "pl <- ggplot(top.three, aes(x = Country, y = Confirmed)) + geom_bar(stat = \"identity\") + \n",
    "geom_text(aes(label = Confirmed), size = 5) +\n",
    "labs(x = \"Country\", y = \"Confirmed Cases\") +\n",
    "theme_economist() \n",
    "print(pl)"
   ]
  },
  {
   "cell_type": "code",
   "execution_count": null,
   "metadata": {},
   "outputs": [],
   "source": []
  }
 ],
 "metadata": {
  "kernelspec": {
   "display_name": "R",
   "language": "R",
   "name": "ir"
  },
  "language_info": {
   "codemirror_mode": "r",
   "file_extension": ".r",
   "mimetype": "text/x-r-source",
   "name": "R",
   "pygments_lexer": "r",
   "version": "4.1.2"
  },
  "orig_nbformat": 4
 },
 "nbformat": 4,
 "nbformat_minor": 2
}
