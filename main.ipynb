{
 "cells": [
  {
   "cell_type": "code",
   "execution_count": 1,
   "metadata": {},
   "outputs": [
    {
     "name": "stderr",
     "output_type": "stream",
     "text": [
      "Loading required package: httr\n",
      "\n",
      "Loading required package: rvest\n",
      "\n"
     ]
    }
   ],
   "source": [
    "require(\"httr\")\n",
    "require(\"rvest\")"
   ]
  },
  {
   "cell_type": "code",
   "execution_count": 2,
   "metadata": {},
   "outputs": [],
   "source": [
    "library(httr)\n",
    "library(rvest)"
   ]
  },
  {
   "cell_type": "code",
   "execution_count": 8,
   "metadata": {},
   "outputs": [],
   "source": [
    "get.data <- function() {\n",
    "    url <- \"https://en.wikipedia.org/w/index.php\"\n",
    "    params <- list(\n",
    "        title = \"Template:COVID-19_testing_by_country\"\n",
    "    )\n",
    "    response <- GET(url = url, query = params)\n",
    "    return(response)\n",
    "}"
   ]
  },
  {
   "cell_type": "code",
   "execution_count": 9,
   "metadata": {},
   "outputs": [
    {
     "data": {
      "text/plain": [
       "Response [https://en.wikipedia.org/w/index.php?title=Template%3ACOVID-19_testing_by_country]\n",
       "  Date: 2021-11-25 19:19\n",
       "  Status: 200\n",
       "  Content-Type: text/html; charset=UTF-8\n",
       "  Size: 409 kB\n",
       "<!DOCTYPE html>\n",
       "<html class=\"client-nojs\" lang=\"en\" dir=\"ltr\">\n",
       "<head>\n",
       "<meta charset=\"UTF-8\"/>\n",
       "<title>Template:COVID-19 testing by country - Wikipedia</title>\n",
       "<script>document.documentElement.className=\"client-js\";RLCONF={\"wgBreakFrames...\n",
       "\"CS1 German-language sources (de)\",\"CS1 Azerbaijani-language sources (az)\",\"C...\n",
       "\"CS1 uses Japanese-language script (ja)\",\"CS1 Japanese-language sources (ja)\"...\n",
       "\"COVID-19 pandemic templates\"],\"wgPageContentLanguage\":\"en\",\"wgPageContentMod...\n",
       "\"Q87325019\",\"wgGENewcomerTasksGuidanceEnabled\":true,\"wgGEAskQuestionEnabled\":...\n",
       "..."
      ]
     },
     "metadata": {},
     "output_type": "display_data"
    }
   ],
   "source": [
    "# Call the get_wiki_covid19_page function and print the response\n",
    "get.data()"
   ]
  },
  {
   "cell_type": "code",
   "execution_count": 10,
   "metadata": {},
   "outputs": [],
   "source": [
    "url <- \"https://en.wikipedia.org/w/index.php?title=Template:COVID-19_testing_by_country\""
   ]
  },
  {
   "cell_type": "markdown",
   "metadata": {},
   "source": [
    "Get the root html node from the http response in task 1 "
   ]
  },
  {
   "cell_type": "code",
   "execution_count": 11,
   "metadata": {},
   "outputs": [
    {
     "name": "stdout",
     "output_type": "stream",
     "text": [
      "{html_document}\n",
      "<html class=\"client-nojs\" lang=\"en\" dir=\"ltr\">\n",
      "[1] <head>\\n<meta http-equiv=\"Content-Type\" content=\"text/html; charset=UTF-8 ...\n",
      "[2] <body class=\"mediawiki ltr sitedir-ltr mw-hide-empty-elt ns-10 ns-subject ...\n"
     ]
    }
   ],
   "source": [
    "html.node <- read_html(url)\n",
    "print(html.node)"
   ]
  },
  {
   "cell_type": "code",
   "execution_count": 13,
   "metadata": {},
   "outputs": [
    {
     "name": "stdout",
     "output_type": "stream",
     "text": [
      "{html_document}\n",
      "<html class=\"client-nojs\" lang=\"en\" dir=\"ltr\">\n",
      "[1] <head>\\n<meta http-equiv=\"Content-Type\" content=\"text/html; charset=UTF-8 ...\n",
      "[2] <body class=\"mediawiki ltr sitedir-ltr mw-hide-empty-elt ns-10 ns-subject ...\n"
     ]
    }
   ],
   "source": [
    "root.node <- read_html(url)\n",
    "print(root.node)"
   ]
  },
  {
   "cell_type": "code",
   "execution_count": 14,
   "metadata": {},
   "outputs": [
    {
     "name": "stdout",
     "output_type": "stream",
     "text": [
      "{html_node}\n",
      "<table class=\"wikitable plainrowheaders sortable collapsible autocollapse\">\n",
      "[1] <caption>\\n<style data-mw-deduplicate=\"TemplateStyles:r1054937957\">.mw-pa ...\n",
      "[2] <tbody>\\n<tr>\\n<th>Country or region\\n</th>\\n<th>Date<sup id=\"cite_ref-1\" ...\n"
     ]
    }
   ],
   "source": [
    "table.node <- html_node(root.node, \"table\")\n",
    "print(table.node)"
   ]
  },
  {
   "cell_type": "code",
   "execution_count": 16,
   "metadata": {},
   "outputs": [
    {
     "name": "stdout",
     "output_type": "stream",
     "text": [
      "\u001b[90m# A tibble: 20 × 9\u001b[39m\n",
      "   `Country or region` `Date[a]`   Tested      `Units[b]` `Confirmed(cases)`\n",
      "   \u001b[3m\u001b[90m<chr>\u001b[39m\u001b[23m               \u001b[3m\u001b[90m<chr>\u001b[39m\u001b[23m       \u001b[3m\u001b[90m<chr>\u001b[39m\u001b[23m       \u001b[3m\u001b[90m<chr>\u001b[39m\u001b[23m      \u001b[3m\u001b[90m<chr>\u001b[39m\u001b[23m             \n",
      "\u001b[90m 1\u001b[39m Afghanistan         17 Dec 2020 154,767     samples    49,621            \n",
      "\u001b[90m 2\u001b[39m Albania             18 Feb 2021 428,654     samples    96,838            \n",
      "\u001b[90m 3\u001b[39m Algeria             2 Nov 2020  230,553     samples    58,574            \n",
      "\u001b[90m 4\u001b[39m Andorra             15 Nov 2021 225,568     samples    15,907            \n",
      "\u001b[90m 5\u001b[39m Angola              12 Mar 2021 399,228     samples    20,981            \n",
      "\u001b[90m 6\u001b[39m Antigua and Barbuda 6 Mar 2021  15,268      samples    832               \n",
      "\u001b[90m 7\u001b[39m Argentina           22 Nov 2021 25,918,391  samples    5,315,989         \n",
      "\u001b[90m 8\u001b[39m Armenia             22 Nov 2021 2,311,186   samples    334,347           \n",
      "\u001b[90m 9\u001b[39m Australia           25 Nov 2021 47,196,453  samples    203,650           \n",
      "\u001b[90m10\u001b[39m Austria             25 Nov 2021 107,616,106 samples    1,093,095         \n",
      "\u001b[90m11\u001b[39m Azerbaijan          22 Nov 2021 5,449,379   samples    574,799           \n",
      "\u001b[90m12\u001b[39m Bahamas             18 Nov 2021 164,360     samples    22,655            \n",
      "\u001b[90m13\u001b[39m Bahrain             22 Nov 2021 7,270,221   samples    277,421           \n",
      "\u001b[90m14\u001b[39m Bangladesh          24 Jul 2021 7,417,714   samples    1,151,644         \n",
      "\u001b[90m15\u001b[39m Barbados            23 Nov 2021 429,377     samples    24,432            \n",
      "\u001b[90m16\u001b[39m Belarus             23 Nov 2021 10,228,936  samples    643,372           \n",
      "\u001b[90m17\u001b[39m Belgium             22 Nov 2021 23,782,072  samples    1,623,560         \n",
      "\u001b[90m18\u001b[39m Belize              23 Nov 2021 340,447     samples    29,861            \n",
      "\u001b[90m19\u001b[39m Benin               4 May 2021  595,112     samples    7,884             \n",
      "\u001b[90m20\u001b[39m Bhutan              25 Nov 2021 1,235,929   samples    2,633             \n",
      "\u001b[90m# … with 4 more variables: Confirmed /tested,% <chr>,\u001b[39m\n",
      "\u001b[90m#   Tested /population,% <chr>, Confirmed /population,% <chr>, Ref. <chr>\u001b[39m\n"
     ]
    }
   ],
   "source": [
    "df <- html_table(table.node)\n",
    "print(head(df, 20))"
   ]
  },
  {
   "cell_type": "code",
   "execution_count": 18,
   "metadata": {},
   "outputs": [
    {
     "data": {
      "text/plain": [
       " Country or region    Date[a]             Tested            Units[b]        \n",
       " Length:173         Length:173         Length:173         Length:173        \n",
       " Class :character   Class :character   Class :character   Class :character  \n",
       " Mode  :character   Mode  :character   Mode  :character   Mode  :character  \n",
       " Confirmed(cases)   Confirmed /tested,% Tested /population,%\n",
       " Length:173         Length:173          Length:173          \n",
       " Class :character   Class :character    Class :character    \n",
       " Mode  :character   Mode  :character    Mode  :character    \n",
       " Confirmed /population,%     Ref.          \n",
       " Length:173              Length:173        \n",
       " Class :character        Class :character  \n",
       " Mode  :character        Mode  :character  "
      ]
     },
     "metadata": {},
     "output_type": "display_data"
    }
   ],
   "source": [
    "summary(df)"
   ]
  },
  {
   "cell_type": "code",
   "execution_count": 22,
   "metadata": {},
   "outputs": [],
   "source": [
    "preprocess.df <- function(df) {\n",
    "    # remove the world row\n",
    "    df <- df[!(df$`Country or region` == \"World\"), ]\n",
    "    # remove the last row\n",
    "    df <- df[1:172, ]\n",
    "    # remove the Units and Ref columns\n",
    "    df[\"Ref.\"] <- NULL\n",
    "    df[\"Units[b]\"] <- NULL\n",
    "\n",
    "    # rename the columns\n",
    "    names(df) <- c(\"Country\", \"Date\", \"Tested\", \"Confirmed\", \"Confirmed.Test.Ratio\", \"Tested.Population.Ratio\", \"Confirmed.Population.Ratio\")\n",
    "\n",
    "    # convert column data types\n",
    "    df$Country <- as.factor(df$Country)\n",
    "    df$Date <- as.factor(df$Date)\n",
    "    df$Tested <- as.numeric(gsub(\",\",\"\", df$Tested))\n",
    "    df$Confirmed <- as.numeric(gsub(\",\",\"\", df$Confirmed))\n",
    "    df$Confirmed.Test.Ratio <- as.numeric(gsub(\",\",\"\", df$Confirmed.Test.Ratio))\n",
    "    df$Tested.Population.Ratio <- as.numeric(gsub(\",\",\"\", df$Tested.Population.Ratio))\n",
    "    df$Confirmed.Population.Ratio <- as.numeric(gsub(\",\",\"\", df$Confirmed.Population.Ratio))\n",
    "\n",
    "    return(df)\n",
    "}"
   ]
  },
  {
   "cell_type": "code",
   "execution_count": 23,
   "metadata": {},
   "outputs": [
    {
     "name": "stdout",
     "output_type": "stream",
     "text": [
      "\u001b[90m# A tibble: 20 × 7\u001b[39m\n",
      "   Country             Date   Tested Confirmed Confirmed.Test.… Tested.Populati…\n",
      "   \u001b[3m\u001b[90m<fct>\u001b[39m\u001b[23m               \u001b[3m\u001b[90m<fct>\u001b[39m\u001b[23m   \u001b[3m\u001b[90m<dbl>\u001b[39m\u001b[23m     \u001b[3m\u001b[90m<dbl>\u001b[39m\u001b[23m            \u001b[3m\u001b[90m<dbl>\u001b[39m\u001b[23m            \u001b[3m\u001b[90m<dbl>\u001b[39m\u001b[23m\n",
      "\u001b[90m 1\u001b[39m Afghanistan         17 De… 1.55\u001b[90me\u001b[39m5     \u001b[4m4\u001b[24m\u001b[4m9\u001b[24m621            32.1              0.4 \n",
      "\u001b[90m 2\u001b[39m Albania             18 Fe… 4.29\u001b[90me\u001b[39m5     \u001b[4m9\u001b[24m\u001b[4m6\u001b[24m838            22.6             15   \n",
      "\u001b[90m 3\u001b[39m Algeria             2 Nov… 2.31\u001b[90me\u001b[39m5     \u001b[4m5\u001b[24m\u001b[4m8\u001b[24m574            25.4              0.53\n",
      "\u001b[90m 4\u001b[39m Andorra             15 No… 2.26\u001b[90me\u001b[39m5     \u001b[4m1\u001b[24m\u001b[4m5\u001b[24m907             7.1            291   \n",
      "\u001b[90m 5\u001b[39m Angola              12 Ma… 3.99\u001b[90me\u001b[39m5     \u001b[4m2\u001b[24m\u001b[4m0\u001b[24m981             5.3              1.3 \n",
      "\u001b[90m 6\u001b[39m Antigua and Barbuda 6 Mar… 1.53\u001b[90me\u001b[39m4       832             5.4             15.9 \n",
      "\u001b[90m 7\u001b[39m Argentina           22 No… 2.59\u001b[90me\u001b[39m7   5\u001b[4m3\u001b[24m\u001b[4m1\u001b[24m\u001b[4m5\u001b[24m989            20.5             57.1 \n",
      "\u001b[90m 8\u001b[39m Armenia             22 No… 2.31\u001b[90me\u001b[39m6    \u001b[4m3\u001b[24m\u001b[4m3\u001b[24m\u001b[4m4\u001b[24m347            14.5             78.3 \n",
      "\u001b[90m 9\u001b[39m Australia           25 No… 4.72\u001b[90me\u001b[39m7    \u001b[4m2\u001b[24m\u001b[4m0\u001b[24m\u001b[4m3\u001b[24m650             0.43           188   \n",
      "\u001b[90m10\u001b[39m Austria             25 No… 1.08\u001b[90me\u001b[39m8   1\u001b[4m0\u001b[24m\u001b[4m9\u001b[24m\u001b[4m3\u001b[24m095             1.02          \u001b[4m1\u001b[24m209   \n",
      "\u001b[90m11\u001b[39m Azerbaijan          22 No… 5.45\u001b[90me\u001b[39m6    \u001b[4m5\u001b[24m\u001b[4m7\u001b[24m\u001b[4m4\u001b[24m799            10.5             55.1 \n",
      "\u001b[90m12\u001b[39m Bahamas             18 No… 1.64\u001b[90me\u001b[39m5     \u001b[4m2\u001b[24m\u001b[4m2\u001b[24m655            13.8             42.6 \n",
      "\u001b[90m13\u001b[39m Bahrain             22 No… 7.27\u001b[90me\u001b[39m6    \u001b[4m2\u001b[24m\u001b[4m7\u001b[24m\u001b[4m7\u001b[24m421             3.8            463   \n",
      "\u001b[90m14\u001b[39m Bangladesh          24 Ju… 7.42\u001b[90me\u001b[39m6   1\u001b[4m1\u001b[24m\u001b[4m5\u001b[24m\u001b[4m1\u001b[24m644            15.5              4.5 \n",
      "\u001b[90m15\u001b[39m Barbados            23 No… 4.29\u001b[90me\u001b[39m5     \u001b[4m2\u001b[24m\u001b[4m4\u001b[24m432             5.7            150   \n",
      "\u001b[90m16\u001b[39m Belarus             23 No… 1.02\u001b[90me\u001b[39m7    \u001b[4m6\u001b[24m\u001b[4m4\u001b[24m\u001b[4m3\u001b[24m372             6.3            108   \n",
      "\u001b[90m17\u001b[39m Belgium             22 No… 2.38\u001b[90me\u001b[39m7   1\u001b[4m6\u001b[24m\u001b[4m2\u001b[24m\u001b[4m3\u001b[24m560             6.8            207   \n",
      "\u001b[90m18\u001b[39m Belize              23 No… 3.40\u001b[90me\u001b[39m5     \u001b[4m2\u001b[24m\u001b[4m9\u001b[24m861             8.8             83.3 \n",
      "\u001b[90m19\u001b[39m Benin               4 May… 5.95\u001b[90me\u001b[39m5      \u001b[4m7\u001b[24m884             1.3              5.1 \n",
      "\u001b[90m20\u001b[39m Bhutan              25 No… 1.24\u001b[90me\u001b[39m6      \u001b[4m2\u001b[24m633             0.21           167   \n",
      "\u001b[90m# … with 1 more variable: Confirmed.Population.Ratio <dbl>\u001b[39m\n"
     ]
    }
   ],
   "source": [
    "df <- preprocess.df(df)\n",
    "print(head(df, 20))"
   ]
  },
  {
   "cell_type": "code",
   "execution_count": null,
   "metadata": {},
   "outputs": [],
   "source": []
  }
 ],
 "metadata": {
  "kernelspec": {
   "display_name": "R",
   "language": "R",
   "name": "ir"
  },
  "language_info": {
   "codemirror_mode": "r",
   "file_extension": ".r",
   "mimetype": "text/x-r-source",
   "name": "R",
   "pygments_lexer": "r",
   "version": "4.1.2"
  },
  "orig_nbformat": 4
 },
 "nbformat": 4,
 "nbformat_minor": 2
}
