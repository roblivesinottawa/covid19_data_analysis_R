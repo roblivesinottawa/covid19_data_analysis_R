{
 "cells": [
  {
   "cell_type": "code",
   "execution_count": 2,
   "metadata": {},
   "outputs": [],
   "source": [
    "require(\"httr\")\n",
    "require(\"rvest\")"
   ]
  },
  {
   "cell_type": "code",
   "execution_count": 3,
   "metadata": {},
   "outputs": [],
   "source": [
    "library(httr)\n",
    "library(rvest)"
   ]
  },
  {
   "cell_type": "code",
   "execution_count": 4,
   "metadata": {},
   "outputs": [],
   "source": [
    "get.data <- function() {\n",
    "    url <- \"https://en.wikipedia.org/w/index.php\"\n",
    "    params <- list(\n",
    "        title = \"Template:COVID-19_testing_by_country\"\n",
    "    )\n",
    "    response <- GET(url = url, query = params)\n",
    "    return(response)\n",
    "}"
   ]
  },
  {
   "cell_type": "code",
   "execution_count": 5,
   "metadata": {},
   "outputs": [
    {
     "data": {
      "text/plain": [
       "Response [https://en.wikipedia.org/w/index.php?title=Template%3ACOVID-19_testing_by_country]\n",
       "  Date: 2021-12-03 21:14\n",
       "  Status: 200\n",
       "  Content-Type: text/html; charset=UTF-8\n",
       "  Size: 409 kB\n",
       "<!DOCTYPE html>\n",
       "<html class=\"client-nojs\" lang=\"en\" dir=\"ltr\">\n",
       "<head>\n",
       "<meta charset=\"UTF-8\"/>\n",
       "<title>Template:COVID-19 testing by country - Wikipedia</title>\n",
       "<script>document.documentElement.className=\"client-js\";RLCONF={\"wgBreakFrames...\n",
       "\"CS1 German-language sources (de)\",\"CS1 Azerbaijani-language sources (az)\",\"C...\n",
       "\"CS1 uses Japanese-language script (ja)\",\"CS1 Japanese-language sources (ja)\"...\n",
       "\"COVID-19 pandemic templates\"],\"wgPageContentLanguage\":\"en\",\"wgPageContentMod...\n",
       "\"Q87325019\",\"wgGENewcomerTasksGuidanceEnabled\":true,\"wgGEAskQuestionEnabled\":...\n",
       "..."
      ]
     },
     "metadata": {},
     "output_type": "display_data"
    }
   ],
   "source": [
    "# Call the get_wiki_covid19_page function and print the response\n",
    "get.data()"
   ]
  },
  {
   "cell_type": "code",
   "execution_count": 6,
   "metadata": {},
   "outputs": [],
   "source": [
    "url <- \"https://en.wikipedia.org/w/index.php?title=Template:COVID-19_testing_by_country\""
   ]
  },
  {
   "cell_type": "markdown",
   "metadata": {},
   "source": [
    "Get the root html node from the http response in task 1 "
   ]
  },
  {
   "cell_type": "code",
   "execution_count": 7,
   "metadata": {},
   "outputs": [
    {
     "name": "stdout",
     "output_type": "stream",
     "text": [
      "{html_document}\n",
      "<html class=\"client-nojs\" lang=\"en\" dir=\"ltr\">\n",
      "[1] <head>\\n<meta http-equiv=\"Content-Type\" content=\"text/html; charset=UTF-8 ...\n",
      "[2] <body class=\"mediawiki ltr sitedir-ltr mw-hide-empty-elt ns-10 ns-subject ...\n"
     ]
    }
   ],
   "source": [
    "html.node <- read_html(url)\n",
    "print(html.node)"
   ]
  },
  {
   "cell_type": "code",
   "execution_count": 8,
   "metadata": {},
   "outputs": [
    {
     "name": "stdout",
     "output_type": "stream",
     "text": [
      "{html_document}\n",
      "<html class=\"client-nojs\" lang=\"en\" dir=\"ltr\">\n",
      "[1] <head>\\n<meta http-equiv=\"Content-Type\" content=\"text/html; charset=UTF-8 ...\n",
      "[2] <body class=\"mediawiki ltr sitedir-ltr mw-hide-empty-elt ns-10 ns-subject ...\n"
     ]
    }
   ],
   "source": [
    "root.node <- read_html(url)\n",
    "print(root.node)"
   ]
  },
  {
   "cell_type": "code",
   "execution_count": 9,
   "metadata": {},
   "outputs": [
    {
     "name": "stdout",
     "output_type": "stream",
     "text": [
      "{html_node}\n",
      "<table class=\"wikitable plainrowheaders sortable collapsible autocollapse\">\n",
      "[1] <caption>\\n<style data-mw-deduplicate=\"TemplateStyles:r1054937957\">.mw-pa ...\n",
      "[2] <tbody>\\n<tr>\\n<th>Country or region\\n</th>\\n<th>Date<sup id=\"cite_ref-1\" ...\n"
     ]
    }
   ],
   "source": [
    "table.node <- html_node(root.node, \"table\")\n",
    "print(table.node)"
   ]
  },
  {
   "cell_type": "code",
   "execution_count": 10,
   "metadata": {},
   "outputs": [
    {
     "name": "stdout",
     "output_type": "stream",
     "text": [
      "\u001b[90m# A tibble: 20 x 9\u001b[39m\n",
      "   `Country or region` `Date[a]`   Tested      `Units[b]` `Confirmed(cases)`\n",
      "   \u001b[3m\u001b[90m<chr>\u001b[39m\u001b[23m               \u001b[3m\u001b[90m<chr>\u001b[39m\u001b[23m       \u001b[3m\u001b[90m<chr>\u001b[39m\u001b[23m       \u001b[3m\u001b[90m<chr>\u001b[39m\u001b[23m      \u001b[3m\u001b[90m<chr>\u001b[39m\u001b[23m             \n",
      "\u001b[90m 1\u001b[39m Afghanistan         17 Dec 2020 154,767     samples    49,621            \n",
      "\u001b[90m 2\u001b[39m Albania             18 Feb 2021 428,654     samples    96,838            \n",
      "\u001b[90m 3\u001b[39m Algeria             2 Nov 2020  230,553     samples    58,574            \n",
      "\u001b[90m 4\u001b[39m Andorra             29 Nov 2021 232,591     samples    17,115            \n",
      "\u001b[90m 5\u001b[39m Angola              12 Mar 2021 399,228     samples    20,981            \n",
      "\u001b[90m 6\u001b[39m Antigua and Barbuda 6 Mar 2021  15,268      samples    832               \n",
      "\u001b[90m 7\u001b[39m Argentina           28 Nov 2021 26,111,525  samples    5,325,560         \n",
      "\u001b[90m 8\u001b[39m Armenia             1 Dec 2021  2,373,959   samples    339,020           \n",
      "\u001b[90m 9\u001b[39m Australia           1 Dec 2021  48,083,139  samples    211,654           \n",
      "\u001b[90m10\u001b[39m Austria             1 Dec 2021  110,579,782 samples    1,169,208         \n",
      "\u001b[90m11\u001b[39m Azerbaijan          1 Dec 2021  5,551,849   samples    590,113           \n",
      "\u001b[90m12\u001b[39m Bahamas             30 Nov 2021 169,024     samples    22,802            \n",
      "\u001b[90m13\u001b[39m Bahrain             1 Dec 2021  7,421,582   samples    277,723           \n",
      "\u001b[90m14\u001b[39m Bangladesh          24 Jul 2021 7,417,714   samples    1,151,644         \n",
      "\u001b[90m15\u001b[39m Barbados            29 Nov 2021 436,531     samples    25,316            \n",
      "\u001b[90m16\u001b[39m Belarus             30 Nov 2021 10,386,520  samples    654,718           \n",
      "\u001b[90m17\u001b[39m Belgium             2 Dec 2021  24,998,146  samples    1,809,557         \n",
      "\u001b[90m18\u001b[39m Belize              29 Nov 2021 347,892     samples    30,338            \n",
      "\u001b[90m19\u001b[39m Benin               4 May 2021  595,112     samples    7,884             \n",
      "\u001b[90m20\u001b[39m Bhutan              1 Dec 2021  1,244,143   samples    2,640             \n",
      "\u001b[90m# ... with 4 more variables: Confirmed<U+2009>/tested,% <chr>,\u001b[39m\n",
      "\u001b[90m#   Tested<U+2009>/population,% <chr>, Confirmed<U+2009>/population,% <chr>, Ref. <chr>\u001b[39m\n"
     ]
    }
   ],
   "source": [
    "df <- html_table(table.node)\n",
    "print(head(df, 20))"
   ]
  },
  {
   "cell_type": "code",
   "execution_count": 11,
   "metadata": {},
   "outputs": [
    {
     "data": {
      "text/plain": [
       " Country or region    Date[a]             Tested            Units[b]        \n",
       " Length:173         Length:173         Length:173         Length:173        \n",
       " Class :character   Class :character   Class :character   Class :character  \n",
       " Mode  :character   Mode  :character   Mode  :character   Mode  :character  \n",
       " Confirmed(cases)   Confirmed<U+2009>/tested,%        Tested<U+2009>/population,%       \n",
       " Length:173         Length:173                 Length:173                 \n",
       " Class :character   Class :character           Class :character           \n",
       " Mode  :character   Mode  :character           Mode  :character           \n",
       " Confirmed<U+2009>/population,%            Ref.          \n",
       " Length:173                     Length:173        \n",
       " Class :character               Class :character  \n",
       " Mode  :character               Mode  :character  "
      ]
     },
     "metadata": {},
     "output_type": "display_data"
    }
   ],
   "source": [
    "summary(df)"
   ]
  },
  {
   "cell_type": "code",
   "execution_count": 12,
   "metadata": {},
   "outputs": [],
   "source": [
    "preprocess.df <- function(df) {\n",
    "    # remove the world row\n",
    "    df <- df[!(df$`Country or region` == \"World\"), ]\n",
    "    # remove the last row\n",
    "    df <- df[1:172, ]\n",
    "    # remove the Units and Ref columns\n",
    "    df[\"Ref.\"] <- NULL\n",
    "    df[\"Units[b]\"] <- NULL\n",
    "\n",
    "    # rename the columns\n",
    "    names(df) <- c(\"Country\", \"Date\", \"Tested\", \"Confirmed\", \"Confirmed.Test.Ratio\", \"Tested.Population.Ratio\", \"Confirmed.Population.Ratio\")\n",
    "\n",
    "    # convert column data types\n",
    "    df$Country <- as.factor(df$Country)\n",
    "    df$Date <- as.factor(df$Date)\n",
    "    df$Tested <- as.numeric(gsub(\",\",\"\", df$Tested))\n",
    "    df$Confirmed <- as.numeric(gsub(\",\",\"\", df$Confirmed))\n",
    "    df$Confirmed.Test.Ratio <- as.numeric(gsub(\",\",\"\", df$Confirmed.Test.Ratio))\n",
    "    df$Tested.Population.Ratio <- as.numeric(gsub(\",\",\"\", df$Tested.Population.Ratio))\n",
    "    df$Confirmed.Population.Ratio <- as.numeric(gsub(\",\",\"\", df$Confirmed.Population.Ratio))\n",
    "\n",
    "    return(df)\n",
    "}"
   ]
  },
  {
   "cell_type": "code",
   "execution_count": 13,
   "metadata": {},
   "outputs": [
    {
     "name": "stdout",
     "output_type": "stream",
     "text": [
      "\u001b[90m# A tibble: 20 x 7\u001b[39m\n",
      "   Country             Date   Tested Confirmed Confirmed.Test.~ Tested.Populati~\n",
      "   \u001b[3m\u001b[90m<fct>\u001b[39m\u001b[23m               \u001b[3m\u001b[90m<fct>\u001b[39m\u001b[23m   \u001b[3m\u001b[90m<dbl>\u001b[39m\u001b[23m     \u001b[3m\u001b[90m<dbl>\u001b[39m\u001b[23m            \u001b[3m\u001b[90m<dbl>\u001b[39m\u001b[23m            \u001b[3m\u001b[90m<dbl>\u001b[39m\u001b[23m\n",
      "\u001b[90m 1\u001b[39m Afghanistan         17 De~ 1.55\u001b[90me\u001b[39m5     \u001b[4m4\u001b[24m\u001b[4m9\u001b[24m621            32.1              0.4 \n",
      "\u001b[90m 2\u001b[39m Albania             18 Fe~ 4.29\u001b[90me\u001b[39m5     \u001b[4m9\u001b[24m\u001b[4m6\u001b[24m838            22.6             15   \n",
      "\u001b[90m 3\u001b[39m Algeria             2 Nov~ 2.31\u001b[90me\u001b[39m5     \u001b[4m5\u001b[24m\u001b[4m8\u001b[24m574            25.4              0.53\n",
      "\u001b[90m 4\u001b[39m Andorra             29 No~ 2.33\u001b[90me\u001b[39m5     \u001b[4m1\u001b[24m\u001b[4m7\u001b[24m115             7.4            300   \n",
      "\u001b[90m 5\u001b[39m Angola              12 Ma~ 3.99\u001b[90me\u001b[39m5     \u001b[4m2\u001b[24m\u001b[4m0\u001b[24m981             5.3              1.3 \n",
      "\u001b[90m 6\u001b[39m Antigua and Barbuda 6 Mar~ 1.53\u001b[90me\u001b[39m4       832             5.4             15.9 \n",
      "\u001b[90m 7\u001b[39m Argentina           28 No~ 2.61\u001b[90me\u001b[39m7   5\u001b[4m3\u001b[24m\u001b[4m2\u001b[24m\u001b[4m5\u001b[24m560            20.4             57.5 \n",
      "\u001b[90m 8\u001b[39m Armenia             1 Dec~ 2.37\u001b[90me\u001b[39m6    \u001b[4m3\u001b[24m\u001b[4m3\u001b[24m\u001b[4m9\u001b[24m020            14.3             80.4 \n",
      "\u001b[90m 9\u001b[39m Australia           1 Dec~ 4.81\u001b[90me\u001b[39m7    \u001b[4m2\u001b[24m\u001b[4m1\u001b[24m\u001b[4m1\u001b[24m654             0.44           192   \n",
      "\u001b[90m10\u001b[39m Austria             1 Dec~ 1.11\u001b[90me\u001b[39m8   1\u001b[4m1\u001b[24m\u001b[4m6\u001b[24m\u001b[4m9\u001b[24m208             1.1           \u001b[4m1\u001b[24m242   \n",
      "\u001b[90m11\u001b[39m Azerbaijan          1 Dec~ 5.55\u001b[90me\u001b[39m6    \u001b[4m5\u001b[24m\u001b[4m9\u001b[24m\u001b[4m0\u001b[24m113            10.6             56.1 \n",
      "\u001b[90m12\u001b[39m Bahamas             30 No~ 1.69\u001b[90me\u001b[39m5     \u001b[4m2\u001b[24m\u001b[4m2\u001b[24m802            13.5             43.8 \n",
      "\u001b[90m13\u001b[39m Bahrain             1 Dec~ 7.42\u001b[90me\u001b[39m6    \u001b[4m2\u001b[24m\u001b[4m7\u001b[24m\u001b[4m7\u001b[24m723             3.7            473   \n",
      "\u001b[90m14\u001b[39m Bangladesh          24 Ju~ 7.42\u001b[90me\u001b[39m6   1\u001b[4m1\u001b[24m\u001b[4m5\u001b[24m\u001b[4m1\u001b[24m644            15.5              4.5 \n",
      "\u001b[90m15\u001b[39m Barbados            29 No~ 4.37\u001b[90me\u001b[39m5     \u001b[4m2\u001b[24m\u001b[4m5\u001b[24m316             5.8            152   \n",
      "\u001b[90m16\u001b[39m Belarus             30 No~ 1.04\u001b[90me\u001b[39m7    \u001b[4m6\u001b[24m\u001b[4m5\u001b[24m\u001b[4m4\u001b[24m718             6.3            109   \n",
      "\u001b[90m17\u001b[39m Belgium             2 Dec~ 2.50\u001b[90me\u001b[39m7   1\u001b[4m8\u001b[24m\u001b[4m0\u001b[24m\u001b[4m9\u001b[24m557             7.2            217   \n",
      "\u001b[90m18\u001b[39m Belize              29 No~ 3.48\u001b[90me\u001b[39m5     \u001b[4m3\u001b[24m\u001b[4m0\u001b[24m338             8.7             85.2 \n",
      "\u001b[90m19\u001b[39m Benin               4 May~ 5.95\u001b[90me\u001b[39m5      \u001b[4m7\u001b[24m884             1.3              5.1 \n",
      "\u001b[90m20\u001b[39m Bhutan              1 Dec~ 1.24\u001b[90me\u001b[39m6      \u001b[4m2\u001b[24m640             0.21           168   \n",
      "\u001b[90m# ... with 1 more variable: Confirmed.Population.Ratio <dbl>\u001b[39m\n"
     ]
    }
   ],
   "source": [
    "df <- preprocess.df(df)\n",
    "print(head(df, 20))"
   ]
  },
  {
   "cell_type": "code",
   "execution_count": 14,
   "metadata": {},
   "outputs": [
    {
     "name": "stdout",
     "output_type": "stream",
     "text": [
      "R Information\n",
      "\n",
      "Help files with alias or concept or title matching 'gsub' using regular\n",
      "expression matching:\n",
      "\n",
      "\n",
      "R.utils::egsub          Global substitute of expression using regular\n",
      "                        expressions\n",
      "  Aliases: egsub\n",
      "base::grep              Pattern Matching and Replacement\n",
      "  Aliases: gsub\n",
      "broom::tidy.regsubsets\n",
      "                        Tidy a(n) regsubsets object\n",
      "  Aliases: tidy.regsubsets\n",
      "parallel::nextRNGStream\n",
      "                        Implementation of Pierre L'Ecuyer's RngStreams\n",
      "  Aliases: nextRNGSubStream\n",
      "stringi::stri_replace_rstr\n",
      "                        Convert gsub-Style Replacement Strings\n",
      "xfun::grep_sub          Perform replacement with 'gsub()' on elements\n",
      "                        matched from 'grep()'\n",
      "xfun::gsub_file         Search and replace strings in files\n",
      "  Aliases: gsub_file, gsub_files, gsub_dir, gsub_ext\n",
      "\n",
      "\n",
      "Type '?PKG::FOO' to inspect entries 'PKG::FOO', or 'TYPE?PKG::FOO' for\n",
      "entries like 'PKG::FOO-TYPE'.\n",
      "\n",
      "\n"
     ]
    }
   ],
   "source": [
    "??gsub"
   ]
  },
  {
   "cell_type": "code",
   "execution_count": 15,
   "metadata": {},
   "outputs": [
    {
     "data": {
      "text/html": [
       "<table class=\"dataframe\">\n",
       "<caption>A tibble: 6 × 7</caption>\n",
       "<thead>\n",
       "\t<tr><th scope=col>Country</th><th scope=col>Date</th><th scope=col>Tested</th><th scope=col>Confirmed</th><th scope=col>Confirmed.Test.Ratio</th><th scope=col>Tested.Population.Ratio</th><th scope=col>Confirmed.Population.Ratio</th></tr>\n",
       "\t<tr><th scope=col>&lt;fct&gt;</th><th scope=col>&lt;fct&gt;</th><th scope=col>&lt;dbl&gt;</th><th scope=col>&lt;dbl&gt;</th><th scope=col>&lt;dbl&gt;</th><th scope=col>&lt;dbl&gt;</th><th scope=col>&lt;dbl&gt;</th></tr>\n",
       "</thead>\n",
       "<tbody>\n",
       "\t<tr><td>Afghanistan        </td><td>17 Dec 2020</td><td>154767</td><td>49621</td><td>32.1</td><td>  0.40</td><td> 0.130</td></tr>\n",
       "\t<tr><td>Albania            </td><td>18 Feb 2021</td><td>428654</td><td>96838</td><td>22.6</td><td> 15.00</td><td> 3.400</td></tr>\n",
       "\t<tr><td>Algeria            </td><td>2 Nov 2020 </td><td>230553</td><td>58574</td><td>25.4</td><td>  0.53</td><td> 0.130</td></tr>\n",
       "\t<tr><td>Andorra            </td><td>29 Nov 2021</td><td>232591</td><td>17115</td><td> 7.4</td><td>300.00</td><td>22.100</td></tr>\n",
       "\t<tr><td>Angola             </td><td>12 Mar 2021</td><td>399228</td><td>20981</td><td> 5.3</td><td>  1.30</td><td> 0.067</td></tr>\n",
       "\t<tr><td>Antigua and Barbuda</td><td>6 Mar 2021 </td><td> 15268</td><td>  832</td><td> 5.4</td><td> 15.90</td><td> 0.860</td></tr>\n",
       "</tbody>\n",
       "</table>\n"
      ],
      "text/latex": [
       "A tibble: 6 × 7\n",
       "\\begin{tabular}{lllllll}\n",
       " Country & Date & Tested & Confirmed & Confirmed.Test.Ratio & Tested.Population.Ratio & Confirmed.Population.Ratio\\\\\n",
       " <fct> & <fct> & <dbl> & <dbl> & <dbl> & <dbl> & <dbl>\\\\\n",
       "\\hline\n",
       "\t Afghanistan         & 17 Dec 2020 & 154767 & 49621 & 32.1 &   0.40 &  0.130\\\\\n",
       "\t Albania             & 18 Feb 2021 & 428654 & 96838 & 22.6 &  15.00 &  3.400\\\\\n",
       "\t Algeria             & 2 Nov 2020  & 230553 & 58574 & 25.4 &   0.53 &  0.130\\\\\n",
       "\t Andorra             & 29 Nov 2021 & 232591 & 17115 &  7.4 & 300.00 & 22.100\\\\\n",
       "\t Angola              & 12 Mar 2021 & 399228 & 20981 &  5.3 &   1.30 &  0.067\\\\\n",
       "\t Antigua and Barbuda & 6 Mar 2021  &  15268 &   832 &  5.4 &  15.90 &  0.860\\\\\n",
       "\\end{tabular}\n"
      ],
      "text/markdown": [
       "\n",
       "A tibble: 6 × 7\n",
       "\n",
       "| Country &lt;fct&gt; | Date &lt;fct&gt; | Tested &lt;dbl&gt; | Confirmed &lt;dbl&gt; | Confirmed.Test.Ratio &lt;dbl&gt; | Tested.Population.Ratio &lt;dbl&gt; | Confirmed.Population.Ratio &lt;dbl&gt; |\n",
       "|---|---|---|---|---|---|---|\n",
       "| Afghanistan         | 17 Dec 2020 | 154767 | 49621 | 32.1 |   0.40 |  0.130 |\n",
       "| Albania             | 18 Feb 2021 | 428654 | 96838 | 22.6 |  15.00 |  3.400 |\n",
       "| Algeria             | 2 Nov 2020  | 230553 | 58574 | 25.4 |   0.53 |  0.130 |\n",
       "| Andorra             | 29 Nov 2021 | 232591 | 17115 |  7.4 | 300.00 | 22.100 |\n",
       "| Angola              | 12 Mar 2021 | 399228 | 20981 |  5.3 |   1.30 |  0.067 |\n",
       "| Antigua and Barbuda | 6 Mar 2021  |  15268 |   832 |  5.4 |  15.90 |  0.860 |\n",
       "\n"
      ],
      "text/plain": [
       "  Country             Date        Tested Confirmed Confirmed.Test.Ratio\n",
       "1 Afghanistan         17 Dec 2020 154767 49621     32.1                \n",
       "2 Albania             18 Feb 2021 428654 96838     22.6                \n",
       "3 Algeria             2 Nov 2020  230553 58574     25.4                \n",
       "4 Andorra             29 Nov 2021 232591 17115      7.4                \n",
       "5 Angola              12 Mar 2021 399228 20981      5.3                \n",
       "6 Antigua and Barbuda 6 Mar 2021   15268   832      5.4                \n",
       "  Tested.Population.Ratio Confirmed.Population.Ratio\n",
       "1   0.40                   0.130                    \n",
       "2  15.00                   3.400                    \n",
       "3   0.53                   0.130                    \n",
       "4 300.00                  22.100                    \n",
       "5   1.30                   0.067                    \n",
       "6  15.90                   0.860                    "
      ]
     },
     "metadata": {},
     "output_type": "display_data"
    }
   ],
   "source": [
    "head(df)"
   ]
  },
  {
   "cell_type": "code",
   "execution_count": 16,
   "metadata": {},
   "outputs": [
    {
     "data": {
      "text/html": [
       "'numeric'"
      ],
      "text/latex": [
       "'numeric'"
      ],
      "text/markdown": [
       "'numeric'"
      ],
      "text/plain": [
       "[1] \"numeric\""
      ]
     },
     "metadata": {},
     "output_type": "display_data"
    },
    {
     "data": {
      "text/html": [
       "'factor'"
      ],
      "text/latex": [
       "'factor'"
      ],
      "text/markdown": [
       "'factor'"
      ],
      "text/plain": [
       "[1] \"factor\""
      ]
     },
     "metadata": {},
     "output_type": "display_data"
    }
   ],
   "source": [
    "class(df$Tested)\n",
    "class(df$Date)"
   ]
  },
  {
   "cell_type": "code",
   "execution_count": 17,
   "metadata": {},
   "outputs": [
    {
     "data": {
      "text/plain": [
       "                Country             Date        Tested         \n",
       " Afghanistan        :  1   1 Dec 2021 :28   Min.   :     3880  \n",
       " Albania            :  1   30 Nov 2021:17   1st Qu.:   429046  \n",
       " Algeria            :  1   2 Dec 2021 :14   Median :  2602682  \n",
       " Andorra            :  1   29 Nov 2021: 6   Mean   : 20530315  \n",
       " Angola             :  1   28 Nov 2021: 4   3rd Qu.: 10406940  \n",
       " Antigua and Barbuda:  1   3 Dec 2021 : 4   Max.   :553621766  \n",
       " (Other)            :166   (Other)    :99                      \n",
       "   Confirmed        Confirmed.Test.Ratio Tested.Population.Ratio\n",
       " Min.   :       0   Min.   : 0.000       Min.   :   0.0065      \n",
       " 1st Qu.:   25323   1st Qu.: 3.975       1st Qu.:   7.8500      \n",
       " Median :  157419   Median : 7.650       Median :  36.5500      \n",
       " Mean   : 1251054   Mean   : 9.521       Mean   : 110.8612      \n",
       " 3rd Qu.:  726429   3rd Qu.:14.075       3rd Qu.: 102.5000      \n",
       " Max.   :35940893   Max.   :42.800       Max.   :1317.0000      \n",
       "                                                                \n",
       " Confirmed.Population.Ratio\n",
       " Min.   :   0.0000         \n",
       " 1st Qu.:   0.3075         \n",
       " Median :   3.8000         \n",
       " Mean   :  11.3948         \n",
       " 3rd Qu.:   8.4250         \n",
       " Max.   :1057.2000         \n",
       "                           "
      ]
     },
     "metadata": {},
     "output_type": "display_data"
    }
   ],
   "source": [
    "summary(df)"
   ]
  },
  {
   "cell_type": "code",
   "execution_count": 18,
   "metadata": {},
   "outputs": [],
   "source": [
    "# export the dataframe to a csv file\n",
    "write.csv(df, file = \"covid19_testing_by_country.csv\", row.names = FALSE)"
   ]
  },
  {
   "cell_type": "code",
   "execution_count": 19,
   "metadata": {},
   "outputs": [
    {
     "name": "stdout",
     "output_type": "stream",
     "text": [
      "[1] \"/Users/roblivesinott/Documents/GitHub/covid19_non_visual_data_anaysis_R/covid19_testing_by_country.csv\"\n"
     ]
    },
    {
     "data": {
      "text/html": [
       "TRUE"
      ],
      "text/latex": [
       "TRUE"
      ],
      "text/markdown": [
       "TRUE"
      ],
      "text/plain": [
       "[1] TRUE"
      ]
     },
     "metadata": {},
     "output_type": "display_data"
    }
   ],
   "source": [
    "wd <- getwd()\n",
    "file.path <- paste(wd, sep = \"\", \"/covid19_testing_by_country.csv\")\n",
    "print(file.path)\n",
    "file.exists(file.path)"
   ]
  },
  {
   "cell_type": "code",
   "execution_count": 20,
   "metadata": {},
   "outputs": [],
   "source": [
    "file.path <- \"covid19_testing_by_country.csv\""
   ]
  },
  {
   "cell_type": "code",
   "execution_count": 21,
   "metadata": {},
   "outputs": [
    {
     "name": "stdout",
     "output_type": "stream",
     "text": [
      "              Country        Date Tested Confirmed Confirmed.Test.Ratio\n",
      "1         Afghanistan 17 Dec 2020 154767     49621                 32.1\n",
      "2             Albania 18 Feb 2021 428654     96838                 22.6\n",
      "3             Algeria  2 Nov 2020 230553     58574                 25.4\n",
      "4             Andorra 29 Nov 2021 232591     17115                  7.4\n",
      "5              Angola 12 Mar 2021 399228     20981                  5.3\n",
      "6 Antigua and Barbuda  6 Mar 2021  15268       832                  5.4\n",
      "  Tested.Population.Ratio Confirmed.Population.Ratio\n",
      "1                    0.40                      0.130\n",
      "2                   15.00                      3.400\n",
      "3                    0.53                      0.130\n",
      "4                  300.00                     22.100\n",
      "5                    1.30                      0.067\n",
      "6                   15.90                      0.860\n"
     ]
    }
   ],
   "source": [
    "df <- read.csv(file.path, header = TRUE, sep = \",\")\n",
    "print(head(df))"
   ]
  },
  {
   "cell_type": "code",
   "execution_count": 22,
   "metadata": {},
   "outputs": [
    {
     "name": "stdout",
     "output_type": "stream",
     "text": [
      "               Country Confirmed\n",
      "5               Angola     20981\n",
      "6  Antigua and Barbuda       832\n",
      "7            Argentina   5325560\n",
      "8              Armenia    339020\n",
      "9            Australia    211654\n",
      "10             Austria   1169208\n"
     ]
    }
   ],
   "source": [
    "# get the 5th and 10th rows with two \"country\" and \"confirmed\" columns\n",
    "five.to.ten <- df[5:10, c(\"Country\", \"Confirmed\")]\n",
    "print(five.to.ten)"
   ]
  },
  {
   "cell_type": "code",
   "execution_count": 23,
   "metadata": {},
   "outputs": [
    {
     "data": {
      "text/html": [
       "<style>\n",
       ".list-inline {list-style: none; margin:0; padding: 0}\n",
       ".list-inline>li {display: inline-block}\n",
       ".list-inline>li:not(:last-child)::after {content: \"\\00b7\"; padding: 0 .5ex}\n",
       "</style>\n",
       "<ol class=list-inline><li>49621</li><li>96838</li><li>58574</li><li>17115</li><li>20981</li><li>832</li><li>5325560</li><li>339020</li><li>211654</li><li>1169208</li><li>590113</li><li>22802</li><li>277723</li><li>1151644</li><li>25316</li><li>654718</li><li>1809557</li><li>30338</li><li>7884</li><li>2640</li><li>540869</li><li>275965</li><li>187281</li><li>10081676</li><li>338</li><li>695057</li><li>12123</li><li>884</li><li>77914</li><li>32681</li><li>1790142</li><li>4020</li><li>1762751</li><li>87655</li><li>5071817</li><li>561054</li><li>613914</li><li>962486</li><li>135503</li><li>2150042</li><li>492521</li><li>13505</li><li>5776</li><li>400846</li><li>25961</li><li>480720</li><li>283947</li><li>118919</li><li>13579</li><li>223171</li><li>46465</li><li>278446</li><li>3688</li><li>165</li><li>186538</li><li>7675504</li><li>25325</li><li>4469</li><li>732965</li><li>3733519</li><li>96708</li><li>957552</li><li>1542</li><li>161</li><li>617495</li><li>24878</li><li>6440</li><li>38028</li><li>24710</li><li>377859</li><li>1103108</li><li>18198</li><li>33766707</li><li>4256998</li><li>6121757</li><li>2082061</li><li>254870</li><li>1341305</li><li>5077445</li><li>33285</li><li>91304</li><li>432773</li><li>739847</li><li>385144</li><li>107729</li><li>107410</li><li>413419</li><li>85253</li><li>45</li><li>144518</li><li>542649</li><li>14395</li><li>5396</li><li>373939</li><li>474184</li><li>90336</li><li>19831</li><li>61897</li><li>1880734</li><li>91993</li><li>14449</li><li>36606</li><li>18103</li><li>494</li><li>3749860</li><li>363774</li><li>136053</li><li>98449</li><li>950223</li><li>105866</li><li>440741</li><li>129243</li><li>818035</li><li>1692834</li><li>136</li><li>11353</li><li>4740</li><li>155657</li><li>0</li><li>155689</li><li>28871</li><li>263786</li><li>114434</li><li>588728</li><li>460799</li><li>477990</li><li>961</li><li>463121</li><li>2234970</li><li>2833473</li><li>3569137</li><li>1147249</li><li>243447</li><li>724250</li><li>9636881</li><li>98209</li><li>995</li><li>13336</li><li>5562</li><li>6148</li><li>549479</li><li>46509</li><li>1257025</li><li>65315</li><li>689618</li><li>423162</li><li>1637848</li><li>90029</li><li>10688</li><li>3821305</li><li>93128</li><li>23316</li><li>1074751</li><li>1014645</li><li>16626</li><li>509</li><li>26162</li><li>26250</li><li>72019</li><li>703732</li><li>5435831</li><li>39979</li><li>3367461</li><li>741570</li><li>10329074</li><li>35940893</li><li>399695</li><li>43975</li><li>159149</li><li>1026522</li><li>210138</li><li>133991</li></ol>\n"
      ],
      "text/latex": [
       "\\begin{enumerate*}\n",
       "\\item 49621\n",
       "\\item 96838\n",
       "\\item 58574\n",
       "\\item 17115\n",
       "\\item 20981\n",
       "\\item 832\n",
       "\\item 5325560\n",
       "\\item 339020\n",
       "\\item 211654\n",
       "\\item 1169208\n",
       "\\item 590113\n",
       "\\item 22802\n",
       "\\item 277723\n",
       "\\item 1151644\n",
       "\\item 25316\n",
       "\\item 654718\n",
       "\\item 1809557\n",
       "\\item 30338\n",
       "\\item 7884\n",
       "\\item 2640\n",
       "\\item 540869\n",
       "\\item 275965\n",
       "\\item 187281\n",
       "\\item 10081676\n",
       "\\item 338\n",
       "\\item 695057\n",
       "\\item 12123\n",
       "\\item 884\n",
       "\\item 77914\n",
       "\\item 32681\n",
       "\\item 1790142\n",
       "\\item 4020\n",
       "\\item 1762751\n",
       "\\item 87655\n",
       "\\item 5071817\n",
       "\\item 561054\n",
       "\\item 613914\n",
       "\\item 962486\n",
       "\\item 135503\n",
       "\\item 2150042\n",
       "\\item 492521\n",
       "\\item 13505\n",
       "\\item 5776\n",
       "\\item 400846\n",
       "\\item 25961\n",
       "\\item 480720\n",
       "\\item 283947\n",
       "\\item 118919\n",
       "\\item 13579\n",
       "\\item 223171\n",
       "\\item 46465\n",
       "\\item 278446\n",
       "\\item 3688\n",
       "\\item 165\n",
       "\\item 186538\n",
       "\\item 7675504\n",
       "\\item 25325\n",
       "\\item 4469\n",
       "\\item 732965\n",
       "\\item 3733519\n",
       "\\item 96708\n",
       "\\item 957552\n",
       "\\item 1542\n",
       "\\item 161\n",
       "\\item 617495\n",
       "\\item 24878\n",
       "\\item 6440\n",
       "\\item 38028\n",
       "\\item 24710\n",
       "\\item 377859\n",
       "\\item 1103108\n",
       "\\item 18198\n",
       "\\item 33766707\n",
       "\\item 4256998\n",
       "\\item 6121757\n",
       "\\item 2082061\n",
       "\\item 254870\n",
       "\\item 1341305\n",
       "\\item 5077445\n",
       "\\item 33285\n",
       "\\item 91304\n",
       "\\item 432773\n",
       "\\item 739847\n",
       "\\item 385144\n",
       "\\item 107729\n",
       "\\item 107410\n",
       "\\item 413419\n",
       "\\item 85253\n",
       "\\item 45\n",
       "\\item 144518\n",
       "\\item 542649\n",
       "\\item 14395\n",
       "\\item 5396\n",
       "\\item 373939\n",
       "\\item 474184\n",
       "\\item 90336\n",
       "\\item 19831\n",
       "\\item 61897\n",
       "\\item 1880734\n",
       "\\item 91993\n",
       "\\item 14449\n",
       "\\item 36606\n",
       "\\item 18103\n",
       "\\item 494\n",
       "\\item 3749860\n",
       "\\item 363774\n",
       "\\item 136053\n",
       "\\item 98449\n",
       "\\item 950223\n",
       "\\item 105866\n",
       "\\item 440741\n",
       "\\item 129243\n",
       "\\item 818035\n",
       "\\item 1692834\n",
       "\\item 136\n",
       "\\item 11353\n",
       "\\item 4740\n",
       "\\item 155657\n",
       "\\item 0\n",
       "\\item 155689\n",
       "\\item 28871\n",
       "\\item 263786\n",
       "\\item 114434\n",
       "\\item 588728\n",
       "\\item 460799\n",
       "\\item 477990\n",
       "\\item 961\n",
       "\\item 463121\n",
       "\\item 2234970\n",
       "\\item 2833473\n",
       "\\item 3569137\n",
       "\\item 1147249\n",
       "\\item 243447\n",
       "\\item 724250\n",
       "\\item 9636881\n",
       "\\item 98209\n",
       "\\item 995\n",
       "\\item 13336\n",
       "\\item 5562\n",
       "\\item 6148\n",
       "\\item 549479\n",
       "\\item 46509\n",
       "\\item 1257025\n",
       "\\item 65315\n",
       "\\item 689618\n",
       "\\item 423162\n",
       "\\item 1637848\n",
       "\\item 90029\n",
       "\\item 10688\n",
       "\\item 3821305\n",
       "\\item 93128\n",
       "\\item 23316\n",
       "\\item 1074751\n",
       "\\item 1014645\n",
       "\\item 16626\n",
       "\\item 509\n",
       "\\item 26162\n",
       "\\item 26250\n",
       "\\item 72019\n",
       "\\item 703732\n",
       "\\item 5435831\n",
       "\\item 39979\n",
       "\\item 3367461\n",
       "\\item 741570\n",
       "\\item 10329074\n",
       "\\item 35940893\n",
       "\\item 399695\n",
       "\\item 43975\n",
       "\\item 159149\n",
       "\\item 1026522\n",
       "\\item 210138\n",
       "\\item 133991\n",
       "\\end{enumerate*}\n"
      ],
      "text/markdown": [
       "1. 49621\n",
       "2. 96838\n",
       "3. 58574\n",
       "4. 17115\n",
       "5. 20981\n",
       "6. 832\n",
       "7. 5325560\n",
       "8. 339020\n",
       "9. 211654\n",
       "10. 1169208\n",
       "11. 590113\n",
       "12. 22802\n",
       "13. 277723\n",
       "14. 1151644\n",
       "15. 25316\n",
       "16. 654718\n",
       "17. 1809557\n",
       "18. 30338\n",
       "19. 7884\n",
       "20. 2640\n",
       "21. 540869\n",
       "22. 275965\n",
       "23. 187281\n",
       "24. 10081676\n",
       "25. 338\n",
       "26. 695057\n",
       "27. 12123\n",
       "28. 884\n",
       "29. 77914\n",
       "30. 32681\n",
       "31. 1790142\n",
       "32. 4020\n",
       "33. 1762751\n",
       "34. 87655\n",
       "35. 5071817\n",
       "36. 561054\n",
       "37. 613914\n",
       "38. 962486\n",
       "39. 135503\n",
       "40. 2150042\n",
       "41. 492521\n",
       "42. 13505\n",
       "43. 5776\n",
       "44. 400846\n",
       "45. 25961\n",
       "46. 480720\n",
       "47. 283947\n",
       "48. 118919\n",
       "49. 13579\n",
       "50. 223171\n",
       "51. 46465\n",
       "52. 278446\n",
       "53. 3688\n",
       "54. 165\n",
       "55. 186538\n",
       "56. 7675504\n",
       "57. 25325\n",
       "58. 4469\n",
       "59. 732965\n",
       "60. 3733519\n",
       "61. 96708\n",
       "62. 957552\n",
       "63. 1542\n",
       "64. 161\n",
       "65. 617495\n",
       "66. 24878\n",
       "67. 6440\n",
       "68. 38028\n",
       "69. 24710\n",
       "70. 377859\n",
       "71. 1103108\n",
       "72. 18198\n",
       "73. 33766707\n",
       "74. 4256998\n",
       "75. 6121757\n",
       "76. 2082061\n",
       "77. 254870\n",
       "78. 1341305\n",
       "79. 5077445\n",
       "80. 33285\n",
       "81. 91304\n",
       "82. 432773\n",
       "83. 739847\n",
       "84. 385144\n",
       "85. 107729\n",
       "86. 107410\n",
       "87. 413419\n",
       "88. 85253\n",
       "89. 45\n",
       "90. 144518\n",
       "91. 542649\n",
       "92. 14395\n",
       "93. 5396\n",
       "94. 373939\n",
       "95. 474184\n",
       "96. 90336\n",
       "97. 19831\n",
       "98. 61897\n",
       "99. 1880734\n",
       "100. 91993\n",
       "101. 14449\n",
       "102. 36606\n",
       "103. 18103\n",
       "104. 494\n",
       "105. 3749860\n",
       "106. 363774\n",
       "107. 136053\n",
       "108. 98449\n",
       "109. 950223\n",
       "110. 105866\n",
       "111. 440741\n",
       "112. 129243\n",
       "113. 818035\n",
       "114. 1692834\n",
       "115. 136\n",
       "116. 11353\n",
       "117. 4740\n",
       "118. 155657\n",
       "119. 0\n",
       "120. 155689\n",
       "121. 28871\n",
       "122. 263786\n",
       "123. 114434\n",
       "124. 588728\n",
       "125. 460799\n",
       "126. 477990\n",
       "127. 961\n",
       "128. 463121\n",
       "129. 2234970\n",
       "130. 2833473\n",
       "131. 3569137\n",
       "132. 1147249\n",
       "133. 243447\n",
       "134. 724250\n",
       "135. 9636881\n",
       "136. 98209\n",
       "137. 995\n",
       "138. 13336\n",
       "139. 5562\n",
       "140. 6148\n",
       "141. 549479\n",
       "142. 46509\n",
       "143. 1257025\n",
       "144. 65315\n",
       "145. 689618\n",
       "146. 423162\n",
       "147. 1637848\n",
       "148. 90029\n",
       "149. 10688\n",
       "150. 3821305\n",
       "151. 93128\n",
       "152. 23316\n",
       "153. 1074751\n",
       "154. 1014645\n",
       "155. 16626\n",
       "156. 509\n",
       "157. 26162\n",
       "158. 26250\n",
       "159. 72019\n",
       "160. 703732\n",
       "161. 5435831\n",
       "162. 39979\n",
       "163. 3367461\n",
       "164. 741570\n",
       "165. 10329074\n",
       "166. 35940893\n",
       "167. 399695\n",
       "168. 43975\n",
       "169. 159149\n",
       "170. 1026522\n",
       "171. 210138\n",
       "172. 133991\n",
       "\n",
       "\n"
      ],
      "text/plain": [
       "  [1]    49621    96838    58574    17115    20981      832  5325560   339020\n",
       "  [9]   211654  1169208   590113    22802   277723  1151644    25316   654718\n",
       " [17]  1809557    30338     7884     2640   540869   275965   187281 10081676\n",
       " [25]      338   695057    12123      884    77914    32681  1790142     4020\n",
       " [33]  1762751    87655  5071817   561054   613914   962486   135503  2150042\n",
       " [41]   492521    13505     5776   400846    25961   480720   283947   118919\n",
       " [49]    13579   223171    46465   278446     3688      165   186538  7675504\n",
       " [57]    25325     4469   732965  3733519    96708   957552     1542      161\n",
       " [65]   617495    24878     6440    38028    24710   377859  1103108    18198\n",
       " [73] 33766707  4256998  6121757  2082061   254870  1341305  5077445    33285\n",
       " [81]    91304   432773   739847   385144   107729   107410   413419    85253\n",
       " [89]       45   144518   542649    14395     5396   373939   474184    90336\n",
       " [97]    19831    61897  1880734    91993    14449    36606    18103      494\n",
       "[105]  3749860   363774   136053    98449   950223   105866   440741   129243\n",
       "[113]   818035  1692834      136    11353     4740   155657        0   155689\n",
       "[121]    28871   263786   114434   588728   460799   477990      961   463121\n",
       "[129]  2234970  2833473  3569137  1147249   243447   724250  9636881    98209\n",
       "[137]      995    13336     5562     6148   549479    46509  1257025    65315\n",
       "[145]   689618   423162  1637848    90029    10688  3821305    93128    23316\n",
       "[153]  1074751  1014645    16626      509    26162    26250    72019   703732\n",
       "[161]  5435831    39979  3367461   741570 10329074 35940893   399695    43975\n",
       "[169]   159149  1026522   210138   133991"
      ]
     },
     "metadata": {},
     "output_type": "display_data"
    }
   ],
   "source": [
    "# get the total confirmed cases worldwide\n",
    "confirmed.cases <- df[, 4]\n",
    "confirmed.cases"
   ]
  },
  {
   "cell_type": "code",
   "execution_count": 24,
   "metadata": {},
   "outputs": [
    {
     "name": "stdout",
     "output_type": "stream",
     "text": [
      "[1] 215181288\n"
     ]
    }
   ],
   "source": [
    "# get the total tested cases worldwide\n",
    "total.confirmed.cases <- sum(confirmed.cases)\n",
    "print(total.confirmed.cases)"
   ]
  },
  {
   "cell_type": "code",
   "execution_count": 25,
   "metadata": {},
   "outputs": [
    {
     "name": "stdout",
     "output_type": "stream",
     "text": [
      "[1] 0.06093691\n"
     ]
    }
   ],
   "source": [
    "# get the positive ratio (confirmed / tested)\n",
    "positive.ratio <- sum(df$Confirmed) / sum(df$Tested)\n",
    "print(positive.ratio)"
   ]
  },
  {
   "cell_type": "code",
   "execution_count": 26,
   "metadata": {},
   "outputs": [
    {
     "name": "stdout",
     "output_type": "stream",
     "text": [
      "  [1] \"Afghanistan\"            \"Albania\"                \"Algeria\"               \n",
      "  [4] \"Andorra\"                \"Angola\"                 \"Antigua and Barbuda\"   \n",
      "  [7] \"Argentina\"              \"Armenia\"                \"Australia\"             \n",
      " [10] \"Austria\"                \"Azerbaijan\"             \"Bahamas\"               \n",
      " [13] \"Bahrain\"                \"Bangladesh\"             \"Barbados\"              \n",
      " [16] \"Belarus\"                \"Belgium\"                \"Belize\"                \n",
      " [19] \"Benin\"                  \"Bhutan\"                 \"Bolivia\"               \n",
      " [22] \"Bosnia and Herzegovina\" \"Botswana\"               \"Brazil\"                \n",
      " [25] \"Brunei\"                 \"Bulgaria\"               \"Burkina Faso\"          \n",
      " [28] \"Burundi\"                \"Cambodia\"               \"Cameroon\"              \n",
      " [31] \"Canada\"                 \"Chad\"                   \"Chile\"                 \n",
      " [34] \"China[c]\"               \"Colombia\"               \"Costa Rica\"            \n",
      " [37] \"Croatia\"                \"Cuba\"                   \"Cyprus[d]\"             \n",
      " [40] \"Czechia\"                \"Denmark[e]\"             \"Djibouti\"              \n",
      " [43] \"Dominica\"               \"Dominican Republic\"     \"DR Congo\"              \n",
      " [46] \"Ecuador\"                \"Egypt\"                  \"El Salvador\"           \n",
      " [49] \"Equatorial Guinea\"      \"Estonia\"                \"Eswatini\"              \n",
      " [52] \"Ethiopia\"               \"Faroe Islands\"          \"Fiji\"                  \n",
      " [55] \"Finland\"                \"France[f][g]\"           \"Gabon\"                 \n",
      " [58] \"Gambia\"                 \"Georgia[h]\"             \"Germany\"               \n",
      " [61] \"Ghana\"                  \"Greece\"                 \"Greenland\"             \n",
      " [64] \"Grenada\"                \"Guatemala\"              \"Guinea\"                \n",
      " [67] \"Guinea-Bissau\"          \"Guyana\"                 \"Haiti\"                 \n",
      " [70] \"Honduras\"               \"Hungary\"                \"Iceland\"               \n",
      " [73] \"India\"                  \"Indonesia\"              \"Iran\"                  \n",
      " [76] \"Iraq\"                   \"Ireland\"                \"Israel\"                \n",
      " [79] \"Italy\"                  \"Ivory Coast\"            \"Jamaica\"               \n",
      " [82] \"Japan\"                  \"Jordan\"                 \"Kazakhstan\"            \n",
      " [85] \"Kenya\"                  \"Kosovo\"                 \"Kuwait\"                \n",
      " [88] \"Kyrgyzstan\"             \"Laos\"                   \"Latvia\"                \n",
      " [91] \"Lebanon\"                \"Lesotho\"                \"Liberia\"               \n",
      " [94] \"Libya\"                  \"Lithuania\"              \"Luxembourg[i]\"         \n",
      " [97] \"Madagascar\"             \"Malawi\"                 \"Malaysia\"              \n",
      "[100] \"Maldives\"               \"Mali\"                   \"Malta\"                 \n",
      "[103] \"Mauritania\"             \"Mauritius\"              \"Mexico\"                \n",
      "[106] \"Moldova[j]\"             \"Mongolia\"               \"Montenegro\"            \n",
      "[109] \"Morocco\"                \"Mozambique\"             \"Myanmar\"               \n",
      "[112] \"Namibia\"                \"Nepal\"                  \"Netherlands\"           \n",
      "[115] \"New Caledonia\"          \"New Zealand\"            \"Niger\"                 \n",
      "[118] \"Nigeria\"                \"North Korea\"            \"North Macedonia\"       \n",
      "[121] \"Northern Cyprus[k]\"     \"Norway\"                 \"Oman\"                  \n",
      "[124] \"Pakistan\"               \"Palestine\"              \"Panama\"                \n",
      "[127] \"Papua New Guinea\"       \"Paraguay\"               \"Peru\"                  \n",
      "[130] \"Philippines\"            \"Poland\"                 \"Portugal\"              \n",
      "[133] \"Qatar\"                  \"Romania\"                \"Russia\"                \n",
      "[136] \"Rwanda\"                 \"Saint Kitts and Nevis\"  \"Saint Lucia\"           \n",
      "[139] \"Saint Vincent\"          \"San Marino\"             \"Saudi Arabia\"          \n",
      "[142] \"Senegal\"                \"Serbia\"                 \"Singapore\"             \n",
      "[145] \"Slovakia\"               \"Slovenia\"               \"South Africa\"          \n",
      "[148] \"South Korea\"            \"South Sudan\"            \"Spain\"                 \n",
      "[151] \"Sri Lanka\"              \"Sudan\"                  \"Sweden\"                \n",
      "[154] \"Switzerland[l]\"         \"Taiwan[m]\"              \"Tanzania\"              \n",
      "[157] \"Thailand\"               \"Togo\"                   \"Trinidad and Tobago\"   \n",
      "[160] \"Tunisia\"                \"Turkey\"                 \"Uganda\"                \n",
      "[163] \"Ukraine\"                \"United Arab Emirates\"   \"United Kingdom\"        \n",
      "[166] \"United States\"          \"Uruguay\"                \"Uzbekistan\"            \n",
      "[169] \"Venezuela\"              \"Vietnam\"                \"Zambia\"                \n",
      "[172] \"Zimbabwe\"              \n"
     ]
    }
   ],
   "source": [
    "# show country column\n",
    "country.column <- df$Country\n",
    "print(country.column)"
   ]
  },
  {
   "cell_type": "code",
   "execution_count": 27,
   "metadata": {},
   "outputs": [
    {
     "data": {
      "text/html": [
       "'character'"
      ],
      "text/latex": [
       "'character'"
      ],
      "text/markdown": [
       "'character'"
      ],
      "text/plain": [
       "[1] \"character\""
      ]
     },
     "metadata": {},
     "output_type": "display_data"
    }
   ],
   "source": [
    "class(country.column)"
   ]
  },
  {
   "cell_type": "code",
   "execution_count": 28,
   "metadata": {},
   "outputs": [
    {
     "name": "stdout",
     "output_type": "stream",
     "text": [
      "  [1] \"Afghanistan\"            \"Albania\"                \"Algeria\"               \n",
      "  [4] \"Andorra\"                \"Angola\"                 \"Antigua and Barbuda\"   \n",
      "  [7] \"Argentina\"              \"Armenia\"                \"Australia\"             \n",
      " [10] \"Austria\"                \"Azerbaijan\"             \"Bahamas\"               \n",
      " [13] \"Bahrain\"                \"Bangladesh\"             \"Barbados\"              \n",
      " [16] \"Belarus\"                \"Belgium\"                \"Belize\"                \n",
      " [19] \"Benin\"                  \"Bhutan\"                 \"Bolivia\"               \n",
      " [22] \"Bosnia and Herzegovina\" \"Botswana\"               \"Brazil\"                \n",
      " [25] \"Brunei\"                 \"Bulgaria\"               \"Burkina Faso\"          \n",
      " [28] \"Burundi\"                \"Cambodia\"               \"Cameroon\"              \n",
      " [31] \"Canada\"                 \"Chad\"                   \"Chile\"                 \n",
      " [34] \"China[c]\"               \"Colombia\"               \"Costa Rica\"            \n",
      " [37] \"Croatia\"                \"Cuba\"                   \"Cyprus[d]\"             \n",
      " [40] \"Czechia\"                \"DR Congo\"               \"Denmark[e]\"            \n",
      " [43] \"Djibouti\"               \"Dominica\"               \"Dominican Republic\"    \n",
      " [46] \"Ecuador\"                \"Egypt\"                  \"El Salvador\"           \n",
      " [49] \"Equatorial Guinea\"      \"Estonia\"                \"Eswatini\"              \n",
      " [52] \"Ethiopia\"               \"Faroe Islands\"          \"Fiji\"                  \n",
      " [55] \"Finland\"                \"France[f][g]\"           \"Gabon\"                 \n",
      " [58] \"Gambia\"                 \"Georgia[h]\"             \"Germany\"               \n",
      " [61] \"Ghana\"                  \"Greece\"                 \"Greenland\"             \n",
      " [64] \"Grenada\"                \"Guatemala\"              \"Guinea\"                \n",
      " [67] \"Guinea-Bissau\"          \"Guyana\"                 \"Haiti\"                 \n",
      " [70] \"Honduras\"               \"Hungary\"                \"Iceland\"               \n",
      " [73] \"India\"                  \"Indonesia\"              \"Iran\"                  \n",
      " [76] \"Iraq\"                   \"Ireland\"                \"Israel\"                \n",
      " [79] \"Italy\"                  \"Ivory Coast\"            \"Jamaica\"               \n",
      " [82] \"Japan\"                  \"Jordan\"                 \"Kazakhstan\"            \n",
      " [85] \"Kenya\"                  \"Kosovo\"                 \"Kuwait\"                \n",
      " [88] \"Kyrgyzstan\"             \"Laos\"                   \"Latvia\"                \n",
      " [91] \"Lebanon\"                \"Lesotho\"                \"Liberia\"               \n",
      " [94] \"Libya\"                  \"Lithuania\"              \"Luxembourg[i]\"         \n",
      " [97] \"Madagascar\"             \"Malawi\"                 \"Malaysia\"              \n",
      "[100] \"Maldives\"               \"Mali\"                   \"Malta\"                 \n",
      "[103] \"Mauritania\"             \"Mauritius\"              \"Mexico\"                \n",
      "[106] \"Moldova[j]\"             \"Mongolia\"               \"Montenegro\"            \n",
      "[109] \"Morocco\"                \"Mozambique\"             \"Myanmar\"               \n",
      "[112] \"Namibia\"                \"Nepal\"                  \"Netherlands\"           \n",
      "[115] \"New Caledonia\"          \"New Zealand\"            \"Niger\"                 \n",
      "[118] \"Nigeria\"                \"North Korea\"            \"North Macedonia\"       \n",
      "[121] \"Northern Cyprus[k]\"     \"Norway\"                 \"Oman\"                  \n",
      "[124] \"Pakistan\"               \"Palestine\"              \"Panama\"                \n",
      "[127] \"Papua New Guinea\"       \"Paraguay\"               \"Peru\"                  \n",
      "[130] \"Philippines\"            \"Poland\"                 \"Portugal\"              \n",
      "[133] \"Qatar\"                  \"Romania\"                \"Russia\"                \n",
      "[136] \"Rwanda\"                 \"Saint Kitts and Nevis\"  \"Saint Lucia\"           \n",
      "[139] \"Saint Vincent\"          \"San Marino\"             \"Saudi Arabia\"          \n",
      "[142] \"Senegal\"                \"Serbia\"                 \"Singapore\"             \n",
      "[145] \"Slovakia\"               \"Slovenia\"               \"South Africa\"          \n",
      "[148] \"South Korea\"            \"South Sudan\"            \"Spain\"                 \n",
      "[151] \"Sri Lanka\"              \"Sudan\"                  \"Sweden\"                \n",
      "[154] \"Switzerland[l]\"         \"Taiwan[m]\"              \"Tanzania\"              \n",
      "[157] \"Thailand\"               \"Togo\"                   \"Trinidad and Tobago\"   \n",
      "[160] \"Tunisia\"                \"Turkey\"                 \"Uganda\"                \n",
      "[163] \"Ukraine\"                \"United Arab Emirates\"   \"United Kingdom\"        \n",
      "[166] \"United States\"          \"Uruguay\"                \"Uzbekistan\"            \n",
      "[169] \"Venezuela\"              \"Vietnam\"                \"Zambia\"                \n",
      "[172] \"Zimbabwe\"              \n"
     ]
    }
   ],
   "source": [
    "sorted <- sort(country.column)\n",
    "print(sorted)"
   ]
  },
  {
   "cell_type": "code",
   "execution_count": 29,
   "metadata": {},
   "outputs": [
    {
     "name": "stdout",
     "output_type": "stream",
     "text": [
      "  [1] \"Zimbabwe\"               \"Zambia\"                 \"Vietnam\"               \n",
      "  [4] \"Venezuela\"              \"Uzbekistan\"             \"Uruguay\"               \n",
      "  [7] \"United States\"          \"United Kingdom\"         \"United Arab Emirates\"  \n",
      " [10] \"Ukraine\"                \"Uganda\"                 \"Turkey\"                \n",
      " [13] \"Tunisia\"                \"Trinidad and Tobago\"    \"Togo\"                  \n",
      " [16] \"Thailand\"               \"Tanzania\"               \"Taiwan[m]\"             \n",
      " [19] \"Switzerland[l]\"         \"Sweden\"                 \"Sudan\"                 \n",
      " [22] \"Sri Lanka\"              \"Spain\"                  \"South Sudan\"           \n",
      " [25] \"South Korea\"            \"South Africa\"           \"Slovenia\"              \n",
      " [28] \"Slovakia\"               \"Singapore\"              \"Serbia\"                \n",
      " [31] \"Senegal\"                \"Saudi Arabia\"           \"San Marino\"            \n",
      " [34] \"Saint Vincent\"          \"Saint Lucia\"            \"Saint Kitts and Nevis\" \n",
      " [37] \"Rwanda\"                 \"Russia\"                 \"Romania\"               \n",
      " [40] \"Qatar\"                  \"Portugal\"               \"Poland\"                \n",
      " [43] \"Philippines\"            \"Peru\"                   \"Paraguay\"              \n",
      " [46] \"Papua New Guinea\"       \"Panama\"                 \"Palestine\"             \n",
      " [49] \"Pakistan\"               \"Oman\"                   \"Norway\"                \n",
      " [52] \"Northern Cyprus[k]\"     \"North Macedonia\"        \"North Korea\"           \n",
      " [55] \"Nigeria\"                \"Niger\"                  \"New Zealand\"           \n",
      " [58] \"New Caledonia\"          \"Netherlands\"            \"Nepal\"                 \n",
      " [61] \"Namibia\"                \"Myanmar\"                \"Mozambique\"            \n",
      " [64] \"Morocco\"                \"Montenegro\"             \"Mongolia\"              \n",
      " [67] \"Moldova[j]\"             \"Mexico\"                 \"Mauritius\"             \n",
      " [70] \"Mauritania\"             \"Malta\"                  \"Mali\"                  \n",
      " [73] \"Maldives\"               \"Malaysia\"               \"Malawi\"                \n",
      " [76] \"Madagascar\"             \"Luxembourg[i]\"          \"Lithuania\"             \n",
      " [79] \"Libya\"                  \"Liberia\"                \"Lesotho\"               \n",
      " [82] \"Lebanon\"                \"Latvia\"                 \"Laos\"                  \n",
      " [85] \"Kyrgyzstan\"             \"Kuwait\"                 \"Kosovo\"                \n",
      " [88] \"Kenya\"                  \"Kazakhstan\"             \"Jordan\"                \n",
      " [91] \"Japan\"                  \"Jamaica\"                \"Ivory Coast\"           \n",
      " [94] \"Italy\"                  \"Israel\"                 \"Ireland\"               \n",
      " [97] \"Iraq\"                   \"Iran\"                   \"Indonesia\"             \n",
      "[100] \"India\"                  \"Iceland\"                \"Hungary\"               \n",
      "[103] \"Honduras\"               \"Haiti\"                  \"Guyana\"                \n",
      "[106] \"Guinea-Bissau\"          \"Guinea\"                 \"Guatemala\"             \n",
      "[109] \"Grenada\"                \"Greenland\"              \"Greece\"                \n",
      "[112] \"Ghana\"                  \"Germany\"                \"Georgia[h]\"            \n",
      "[115] \"Gambia\"                 \"Gabon\"                  \"France[f][g]\"          \n",
      "[118] \"Finland\"                \"Fiji\"                   \"Faroe Islands\"         \n",
      "[121] \"Ethiopia\"               \"Eswatini\"               \"Estonia\"               \n",
      "[124] \"Equatorial Guinea\"      \"El Salvador\"            \"Egypt\"                 \n",
      "[127] \"Ecuador\"                \"Dominican Republic\"     \"Dominica\"              \n",
      "[130] \"Djibouti\"               \"Denmark[e]\"             \"DR Congo\"              \n",
      "[133] \"Czechia\"                \"Cyprus[d]\"              \"Cuba\"                  \n",
      "[136] \"Croatia\"                \"Costa Rica\"             \"Colombia\"              \n",
      "[139] \"China[c]\"               \"Chile\"                  \"Chad\"                  \n",
      "[142] \"Canada\"                 \"Cameroon\"               \"Cambodia\"              \n",
      "[145] \"Burundi\"                \"Burkina Faso\"           \"Bulgaria\"              \n",
      "[148] \"Brunei\"                 \"Brazil\"                 \"Botswana\"              \n",
      "[151] \"Bosnia and Herzegovina\" \"Bolivia\"                \"Bhutan\"                \n",
      "[154] \"Benin\"                  \"Belize\"                 \"Belgium\"               \n",
      "[157] \"Belarus\"                \"Barbados\"               \"Bangladesh\"            \n",
      "[160] \"Bahrain\"                \"Bahamas\"                \"Azerbaijan\"            \n",
      "[163] \"Austria\"                \"Australia\"              \"Armenia\"               \n",
      "[166] \"Argentina\"              \"Antigua and Barbuda\"    \"Angola\"                \n",
      "[169] \"Andorra\"                \"Algeria\"                \"Albania\"               \n",
      "[172] \"Afghanistan\"           \n"
     ]
    }
   ],
   "source": [
    "reversed.sorted <- rev(sorted)\n",
    "print(reversed.sorted)"
   ]
  },
  {
   "cell_type": "code",
   "execution_count": 30,
   "metadata": {},
   "outputs": [
    {
     "name": "stdout",
     "output_type": "stream",
     "text": [
      "[1] \"United Arab Emirates\" \"United Kingdom\"       \"United States\"       \n"
     ]
    }
   ],
   "source": [
    "# find matches for United\n",
    "matches <- regexpr(\"United.+\", df$Country)\n",
    "countries.start.united <- regmatches(df$Country, matches)\n",
    "print(head(countries.start.united, 10))"
   ]
  },
  {
   "cell_type": "code",
   "execution_count": 31,
   "metadata": {},
   "outputs": [
    {
     "name": "stdout",
     "output_type": "stream",
     "text": [
      "[1] \"Brazil\" \"Brunei\"\n"
     ]
    }
   ],
   "source": [
    "# find matches with Br\n",
    "matches <- regexpr(\"Br.+\", df$Country)\n",
    "countries.start.br <- regmatches(df$Country, matches)\n",
    "print(head(countries.start.br, 10))"
   ]
  },
  {
   "cell_type": "code",
   "execution_count": 32,
   "metadata": {},
   "outputs": [
    {
     "name": "stdout",
     "output_type": "stream",
     "text": [
      "[1] \"Cambodia\"  \"Cameroon\"  \"Canada\"    \"Caledonia\"\n"
     ]
    }
   ],
   "source": [
    "# find matches with Ca\n",
    "matches <- regexpr(\"Ca.+\", df$Country)\n",
    "countries.start.ca <- regmatches(df$Country, matches)\n",
    "print(head(countries.start.ca, 10))"
   ]
  },
  {
   "cell_type": "code",
   "execution_count": 33,
   "metadata": {},
   "outputs": [
    {
     "name": "stdout",
     "output_type": "stream",
     "text": [
      " [1] \"Afghanistan\"         \"Albania\"             \"Algeria\"            \n",
      " [4] \"Andorra\"             \"Angola\"              \"Antigua and Barbuda\"\n",
      " [7] \"Argentina\"           \"Armenia\"             \"Australia\"          \n",
      "[10] \"Austria\"            \n"
     ]
    }
   ],
   "source": [
    "# find all countries that start with letter a\n",
    "matches <- regexpr(\"A.+\", df$Country)\n",
    "countries.start.a <- regmatches(df$Country, matches)\n",
    "print(head(countries.start.a, 10))"
   ]
  },
  {
   "cell_type": "code",
   "execution_count": 34,
   "metadata": {},
   "outputs": [
    {
     "name": "stdout",
     "output_type": "stream",
     "text": [
      "  [1] \"Afghanistan: Afghanistan\"                      \n",
      "  [2] \"Albania: Albania\"                              \n",
      "  [3] \"Algeria: Algeria\"                              \n",
      "  [4] \"Andorra: Andorra\"                              \n",
      "  [5] \"Angola: Angola\"                                \n",
      "  [6] \"Antigua and Barbuda: Antigua and Barbuda\"      \n",
      "  [7] \"Argentina: Argentina\"                          \n",
      "  [8] \"Armenia: Armenia\"                              \n",
      "  [9] \"Australia: Australia\"                          \n",
      " [10] \"Austria: Austria\"                              \n",
      " [11] \"Azerbaijan: Azerbaijan\"                        \n",
      " [12] \"Bahamas: Bahamas\"                              \n",
      " [13] \"Bahrain: Bahrain\"                              \n",
      " [14] \"Bangladesh: Bangladesh\"                        \n",
      " [15] \"Barbados: Barbados\"                            \n",
      " [16] \"Belarus: Belarus\"                              \n",
      " [17] \"Belgium: Belgium\"                              \n",
      " [18] \"Belize: Belize\"                                \n",
      " [19] \"Benin: Benin\"                                  \n",
      " [20] \"Bhutan: Bhutan\"                                \n",
      " [21] \"Bolivia: Bolivia\"                              \n",
      " [22] \"Bosnia and Herzegovina: Bosnia and Herzegovina\"\n",
      " [23] \"Botswana: Botswana\"                            \n",
      " [24] \"Brazil: Brazil\"                                \n",
      " [25] \"Brunei: Brunei\"                                \n",
      " [26] \"Bulgaria: Bulgaria\"                            \n",
      " [27] \"Burkina Faso: Burkina Faso\"                    \n",
      " [28] \"Burundi: Burundi\"                              \n",
      " [29] \"Cambodia: Cambodia\"                            \n",
      " [30] \"Cameroon: Cameroon\"                            \n",
      " [31] \"Canada: Canada\"                                \n",
      " [32] \"Chad: Chad\"                                    \n",
      " [33] \"Chile: Chile\"                                  \n",
      " [34] \"China[c]: China[c]\"                            \n",
      " [35] \"Colombia: Colombia\"                            \n",
      " [36] \"Costa Rica: Costa Rica\"                        \n",
      " [37] \"Croatia: Croatia\"                              \n",
      " [38] \"Cuba: Cuba\"                                    \n",
      " [39] \"Cyprus[d]: Cyprus[d]\"                          \n",
      " [40] \"Czechia: Czechia\"                              \n",
      " [41] \"Denmark[e]: Denmark[e]\"                        \n",
      " [42] \"Djibouti: Djibouti\"                            \n",
      " [43] \"Dominica: Dominica\"                            \n",
      " [44] \"Dominican Republic: Dominican Republic\"        \n",
      " [45] \"DR Congo: DR Congo\"                            \n",
      " [46] \"Ecuador: Ecuador\"                              \n",
      " [47] \"Egypt: Egypt\"                                  \n",
      " [48] \"El Salvador: El Salvador\"                      \n",
      " [49] \"Equatorial Guinea: Equatorial Guinea\"          \n",
      " [50] \"Estonia: Estonia\"                              \n",
      " [51] \"Eswatini: Eswatini\"                            \n",
      " [52] \"Ethiopia: Ethiopia\"                            \n",
      " [53] \"Faroe Islands: Faroe Islands\"                  \n",
      " [54] \"Fiji: Fiji\"                                    \n",
      " [55] \"Finland: Finland\"                              \n",
      " [56] \"France[f][g]: France[f][g]\"                    \n",
      " [57] \"Gabon: Gabon\"                                  \n",
      " [58] \"Gambia: Gambia\"                                \n",
      " [59] \"Georgia[h]: Georgia[h]\"                        \n",
      " [60] \"Germany: Germany\"                              \n",
      " [61] \"Ghana: Ghana\"                                  \n",
      " [62] \"Greece: Greece\"                                \n",
      " [63] \"Greenland: Greenland\"                          \n",
      " [64] \"Grenada: Grenada\"                              \n",
      " [65] \"Guatemala: Guatemala\"                          \n",
      " [66] \"Guinea: Guinea\"                                \n",
      " [67] \"Guinea-Bissau: Guinea-Bissau\"                  \n",
      " [68] \"Guyana: Guyana\"                                \n",
      " [69] \"Haiti: Haiti\"                                  \n",
      " [70] \"Honduras: Honduras\"                            \n",
      " [71] \"Hungary: Hungary\"                              \n",
      " [72] \"Iceland: Iceland\"                              \n",
      " [73] \"India: India\"                                  \n",
      " [74] \"Indonesia: Indonesia\"                          \n",
      " [75] \"Iran: Iran\"                                    \n",
      " [76] \"Iraq: Iraq\"                                    \n",
      " [77] \"Ireland: Ireland\"                              \n",
      " [78] \"Israel: Israel\"                                \n",
      " [79] \"Italy: Italy\"                                  \n",
      " [80] \"Ivory Coast: Ivory Coast\"                      \n",
      " [81] \"Jamaica: Jamaica\"                              \n",
      " [82] \"Japan: Japan\"                                  \n",
      " [83] \"Jordan: Jordan\"                                \n",
      " [84] \"Kazakhstan: Kazakhstan\"                        \n",
      " [85] \"Kenya: Kenya\"                                  \n",
      " [86] \"Kosovo: Kosovo\"                                \n",
      " [87] \"Kuwait: Kuwait\"                                \n",
      " [88] \"Kyrgyzstan: Kyrgyzstan\"                        \n",
      " [89] \"Laos: Laos\"                                    \n",
      " [90] \"Latvia: Latvia\"                                \n",
      " [91] \"Lebanon: Lebanon\"                              \n",
      " [92] \"Lesotho: Lesotho\"                              \n",
      " [93] \"Liberia: Liberia\"                              \n",
      " [94] \"Libya: Libya\"                                  \n",
      " [95] \"Lithuania: Lithuania\"                          \n",
      " [96] \"Luxembourg[i]: Luxembourg[i]\"                  \n",
      " [97] \"Madagascar: Madagascar\"                        \n",
      " [98] \"Malawi: Malawi\"                                \n",
      " [99] \"Malaysia: Malaysia\"                            \n",
      "[100] \"Maldives: Maldives\"                            \n",
      "[101] \"Mali: Mali\"                                    \n",
      "[102] \"Malta: Malta\"                                  \n",
      "[103] \"Mauritania: Mauritania\"                        \n",
      "[104] \"Mauritius: Mauritius\"                          \n",
      "[105] \"Mexico: Mexico\"                                \n",
      "[106] \"Moldova[j]: Moldova[j]\"                        \n",
      "[107] \"Mongolia: Mongolia\"                            \n",
      "[108] \"Montenegro: Montenegro\"                        \n",
      "[109] \"Morocco: Morocco\"                              \n",
      "[110] \"Mozambique: Mozambique\"                        \n",
      "[111] \"Myanmar: Myanmar\"                              \n",
      "[112] \"Namibia: Namibia\"                              \n",
      "[113] \"Nepal: Nepal\"                                  \n",
      "[114] \"Netherlands: Netherlands\"                      \n",
      "[115] \"New Caledonia: New Caledonia\"                  \n",
      "[116] \"New Zealand: New Zealand\"                      \n",
      "[117] \"Niger: Niger\"                                  \n",
      "[118] \"Nigeria: Nigeria\"                              \n",
      "[119] \"North Korea: North Korea\"                      \n",
      "[120] \"North Macedonia: North Macedonia\"              \n",
      "[121] \"Northern Cyprus[k]: Northern Cyprus[k]\"        \n",
      "[122] \"Norway: Norway\"                                \n",
      "[123] \"Oman: Oman\"                                    \n",
      "[124] \"Pakistan: Pakistan\"                            \n",
      "[125] \"Palestine: Palestine\"                          \n",
      "[126] \"Panama: Panama\"                                \n",
      "[127] \"Papua New Guinea: Papua New Guinea\"            \n",
      "[128] \"Paraguay: Paraguay\"                            \n",
      "[129] \"Peru: Peru\"                                    \n",
      "[130] \"Philippines: Philippines\"                      \n",
      "[131] \"Poland: Poland\"                                \n",
      "[132] \"Portugal: Portugal\"                            \n",
      "[133] \"Qatar: Qatar\"                                  \n",
      "[134] \"Romania: Romania\"                              \n",
      "[135] \"Russia: Russia\"                                \n",
      "[136] \"Rwanda: Rwanda\"                                \n",
      "[137] \"Saint Kitts and Nevis: Saint Kitts and Nevis\"  \n",
      "[138] \"Saint Lucia: Saint Lucia\"                      \n",
      "[139] \"Saint Vincent: Saint Vincent\"                  \n",
      "[140] \"San Marino: San Marino\"                        \n",
      "[141] \"Saudi Arabia: Saudi Arabia\"                    \n",
      "[142] \"Senegal: Senegal\"                              \n",
      "[143] \"Serbia: Serbia\"                                \n",
      "[144] \"Singapore: Singapore\"                          \n",
      "[145] \"Slovakia: Slovakia\"                            \n",
      "[146] \"Slovenia: Slovenia\"                            \n",
      "[147] \"South Africa: South Africa\"                    \n",
      "[148] \"South Korea: South Korea\"                      \n",
      "[149] \"South Sudan: South Sudan\"                      \n",
      "[150] \"Spain: Spain\"                                  \n",
      "[151] \"Sri Lanka: Sri Lanka\"                          \n",
      "[152] \"Sudan: Sudan\"                                  \n",
      "[153] \"Sweden: Sweden\"                                \n",
      "[154] \"Switzerland[l]: Switzerland[l]\"                \n",
      "[155] \"Taiwan[m]: Taiwan[m]\"                          \n",
      "[156] \"Tanzania: Tanzania\"                            \n",
      "[157] \"Thailand: Thailand\"                            \n",
      "[158] \"Togo: Togo\"                                    \n",
      "[159] \"Trinidad and Tobago: Trinidad and Tobago\"      \n",
      "[160] \"Tunisia: Tunisia\"                              \n",
      "[161] \"Turkey: Turkey\"                                \n",
      "[162] \"Uganda: Uganda\"                                \n",
      "[163] \"Ukraine: Ukraine\"                              \n",
      "[164] \"United Arab Emirates: United Arab Emirates\"    \n",
      "[165] \"United Kingdom: United Kingdom\"                \n",
      "[166] \"United States: United States\"                  \n",
      "[167] \"Uruguay: Uruguay\"                              \n",
      "[168] \"Uzbekistan: Uzbekistan\"                        \n",
      "[169] \"Venezuela: Venezuela\"                          \n",
      "[170] \"Vietnam: Vietnam\"                              \n",
      "[171] \"Zambia: Zambia\"                                \n",
      "[172] \"Zimbabwe: Zimbabwe\"                            \n"
     ]
    }
   ],
   "source": [
    "# print the countries and their index\n",
    "print(paste(df$Country, df$Country, sep = \": \"))"
   ]
  },
  {
   "cell_type": "code",
   "execution_count": 35,
   "metadata": {},
   "outputs": [
    {
     "data": {
      "text/html": [
       "166"
      ],
      "text/latex": [
       "166"
      ],
      "text/markdown": [
       "166"
      ],
      "text/plain": [
       "[1] 166"
      ]
     },
     "metadata": {},
     "output_type": "display_data"
    },
    {
     "data": {
      "text/html": [
       "31"
      ],
      "text/latex": [
       "31"
      ],
      "text/markdown": [
       "31"
      ],
      "text/plain": [
       "[1] 31"
      ]
     },
     "metadata": {},
     "output_type": "display_data"
    },
    {
     "data": {
      "text/html": [
       "24"
      ],
      "text/latex": [
       "24"
      ],
      "text/markdown": [
       "24"
      ],
      "text/plain": [
       "[1] 24"
      ]
     },
     "metadata": {},
     "output_type": "display_data"
    }
   ],
   "source": [
    "which(df$Country == \"United States\")\n",
    "\n",
    "which(df$Country == \"Canada\")\n",
    "\n",
    "which(df$Country == \"Brazil\")"
   ]
  },
  {
   "cell_type": "code",
   "execution_count": 36,
   "metadata": {},
   "outputs": [
    {
     "name": "stdout",
     "output_type": "stream",
     "text": [
      "          Country Confirmed Confirmed.Population.Ratio\n",
      "166 United States  35940893                       10.9\n",
      "   Country Confirmed Confirmed.Population.Ratio\n",
      "31  Canada   1790142                        4.7\n",
      "   Country Confirmed Confirmed.Population.Ratio\n",
      "24  Brazil  10081676                        4.8\n"
     ]
    }
   ],
   "source": [
    "print(df[166, c(\"Country\", \"Confirmed\", \"Confirmed.Population.Ratio\")])\n",
    "\n",
    "print(df[31, c(\"Country\", \"Confirmed\", \"Confirmed.Population.Ratio\")])\n",
    "\n",
    "print(df[24, c(\"Country\", \"Confirmed\", \"Confirmed.Population.Ratio\")])"
   ]
  },
  {
   "cell_type": "code",
   "execution_count": 37,
   "metadata": {},
   "outputs": [
    {
     "name": "stdout",
     "output_type": "stream",
     "text": [
      "[1] \"United States 10.9 is higher than Canada 4.7\"\n"
     ]
    }
   ],
   "source": [
    "# compare two countries and see which one has a higher confirmed population ratio\n",
    "if (df$Confirmed.Population.Ratio[166] > df$Confirmed.Population.Ratio[31]) {\n",
    "    print(paste(\"United States\", df$Confirmed.Population.Ratio[166], \"is higher than Canada\", df$Confirmed.Population.Ratio[31], sep = \" \"))\n",
    "} else {\n",
    "    print(paste(\"Canada\", df$Confirmed.Population.Ratio[31], \"is higher than United States\", df$Confirmed.Population.Ratio[166], sep = \" \"))\n",
    "}"
   ]
  },
  {
   "cell_type": "code",
   "execution_count": 38,
   "metadata": {},
   "outputs": [
    {
     "name": "stdout",
     "output_type": "stream",
     "text": [
      "[1] \"Brazil 4.8 is higher than Canada 4.7\"\n"
     ]
    }
   ],
   "source": [
    "if (df$Confirmed.Population.Ratio[24] > df$Confirmed.Population.Ratio[31]) {\n",
    "    print(paste(\"Brazil\", df$Confirmed.Population.Ratio[24], \"is higher than Canada\", df$Confirmed.Population.Ratio[31], sep = \" \"))\n",
    "} else {\n",
    "    print(paste(\"Canada\", df$Confirmed.Population.Ratio[31], \"is higher than Brazil\", df$Confirmed.Population.Ratio[24], sep = \" \"))\n",
    "}\n"
   ]
  },
  {
   "cell_type": "code",
   "execution_count": 39,
   "metadata": {},
   "outputs": [
    {
     "name": "stdout",
     "output_type": "stream",
     "text": [
      "[1] \"United States 10.9 is higher than Brazil 4.8\"\n"
     ]
    }
   ],
   "source": [
    "if (df$Confirmed.Population.Ratio[24] > df$Confirmed.Population.Ratio[166]) {\n",
    "    print(paste(\"Brazil\", df$Confirmed.Population.Ratio[24], \"is higher than the United States\", df$Confirmed.Population.Ratio[166], sep = \" \"))\n",
    "} else {\n",
    "    print(paste(\"United States\", df$Confirmed.Population.Ratio[166], \"is higher than Brazil\", df$Confirmed.Population.Ratio[24], sep = \" \"))\n",
    "}"
   ]
  },
  {
   "cell_type": "code",
   "execution_count": 40,
   "metadata": {},
   "outputs": [
    {
     "name": "stdout",
     "output_type": "stream",
     "text": [
      "[1] \"United States with 35940893 is higher than Canada with 1790142 and Brazil with 10081676\"\n"
     ]
    }
   ],
   "source": [
    "# compare United States, Canada, and Brazil and see which one has a higher confirmed cases\n",
    "if (df$Confirmed[166] > df$Confirmed[31]) {\n",
    "    if (df$Confirmed[166] > df$Confirmed[24]) {\n",
    "        print(paste(\"United States with\", df$Confirmed[166], \"is higher than Canada with\", df$Confirmed[31], \"and Brazil with\", df$Confirmed[24], sep = \" \"))\n",
    "    } else {\n",
    "        print(paste(\"Brazil with\", df$Confirmed[24], \"is higher than Canada with\", df$Confirmed[31], \"and United States with\", df$Confirmed[166], sep = \" \"))\n",
    "    }\n",
    "}\n"
   ]
  },
  {
   "cell_type": "code",
   "execution_count": 41,
   "metadata": {},
   "outputs": [
    {
     "name": "stdout",
     "output_type": "stream",
     "text": [
      "        Country        Date    Tested Confirmed Confirmed.Test.Ratio\n",
      "28      Burundi  5 Jan 2021     90019       884                0.980\n",
      "34     China[c] 31 Jul 2020 160000000     87655                0.055\n",
      "89         Laos  1 Mar 2021    114030        45                0.039\n",
      "119 North Korea 25 Nov 2020     16914         0                0.000\n",
      "156    Tanzania 18 Nov 2020      3880       509               13.100\n",
      "    Tested.Population.Ratio Confirmed.Population.Ratio\n",
      "28                   0.7600                    0.00740\n",
      "34                  11.1000                    0.00610\n",
      "89                   1.6000                    0.00063\n",
      "119                  0.0660                    0.00000\n",
      "156                  0.0065                    0.00085\n"
     ]
    }
   ],
   "source": [
    "# find countries with confirmed to population ratio less than the threshold\n",
    "threshold <- \"lessRisk\"\n",
    "if (threshold == \"lessRisk\") {\n",
    "    print(subset(df, Confirmed.Population.Ratio < .01))\n",
    "} else {\n",
    "    print(subset(df, Confirmed.Population.Ratio > .01))\n",
    "}\n"
   ]
  },
  {
   "cell_type": "code",
   "execution_count": 42,
   "metadata": {},
   "outputs": [
    {
     "data": {
      "text/html": [
       "<table class=\"dataframe\">\n",
       "<caption>A data.frame: 20 × 7</caption>\n",
       "<thead>\n",
       "\t<tr><th></th><th scope=col>Country</th><th scope=col>Date</th><th scope=col>Tested</th><th scope=col>Confirmed</th><th scope=col>Confirmed.Test.Ratio</th><th scope=col>Tested.Population.Ratio</th><th scope=col>Confirmed.Population.Ratio</th></tr>\n",
       "\t<tr><th></th><th scope=col>&lt;chr&gt;</th><th scope=col>&lt;chr&gt;</th><th scope=col>&lt;dbl&gt;</th><th scope=col>&lt;int&gt;</th><th scope=col>&lt;dbl&gt;</th><th scope=col>&lt;dbl&gt;</th><th scope=col>&lt;dbl&gt;</th></tr>\n",
       "</thead>\n",
       "<tbody>\n",
       "\t<tr><th scope=row>1</th><td>Afghanistan        </td><td>17 Dec 2020</td><td>   154767</td><td>  49621</td><td>32.10</td><td>   0.40</td><td> 0.130</td></tr>\n",
       "\t<tr><th scope=row>2</th><td>Albania            </td><td>18 Feb 2021</td><td>   428654</td><td>  96838</td><td>22.60</td><td>  15.00</td><td> 3.400</td></tr>\n",
       "\t<tr><th scope=row>3</th><td>Algeria            </td><td>2 Nov 2020 </td><td>   230553</td><td>  58574</td><td>25.40</td><td>   0.53</td><td> 0.130</td></tr>\n",
       "\t<tr><th scope=row>4</th><td>Andorra            </td><td>29 Nov 2021</td><td>   232591</td><td>  17115</td><td> 7.40</td><td> 300.00</td><td>22.100</td></tr>\n",
       "\t<tr><th scope=row>5</th><td>Angola             </td><td>12 Mar 2021</td><td>   399228</td><td>  20981</td><td> 5.30</td><td>   1.30</td><td> 0.067</td></tr>\n",
       "\t<tr><th scope=row>6</th><td>Antigua and Barbuda</td><td>6 Mar 2021 </td><td>    15268</td><td>    832</td><td> 5.40</td><td>  15.90</td><td> 0.860</td></tr>\n",
       "\t<tr><th scope=row>7</th><td>Argentina          </td><td>28 Nov 2021</td><td> 26111525</td><td>5325560</td><td>20.40</td><td>  57.50</td><td>11.700</td></tr>\n",
       "\t<tr><th scope=row>8</th><td>Armenia            </td><td>1 Dec 2021 </td><td>  2373959</td><td> 339020</td><td>14.30</td><td>  80.40</td><td>11.500</td></tr>\n",
       "\t<tr><th scope=row>9</th><td>Australia          </td><td>1 Dec 2021 </td><td> 48083139</td><td> 211654</td><td> 0.44</td><td> 192.00</td><td> 0.840</td></tr>\n",
       "\t<tr><th scope=row>10</th><td>Austria            </td><td>1 Dec 2021 </td><td>110579782</td><td>1169208</td><td> 1.10</td><td>1242.00</td><td>13.100</td></tr>\n",
       "\t<tr><th scope=row>11</th><td>Azerbaijan         </td><td>1 Dec 2021 </td><td>  5551849</td><td> 590113</td><td>10.60</td><td>  56.10</td><td> 6.000</td></tr>\n",
       "\t<tr><th scope=row>12</th><td>Bahamas            </td><td>30 Nov 2021</td><td>   169024</td><td>  22802</td><td>13.50</td><td>  43.80</td><td> 5.900</td></tr>\n",
       "\t<tr><th scope=row>13</th><td>Bahrain            </td><td>1 Dec 2021 </td><td>  7421582</td><td> 277723</td><td> 3.70</td><td> 473.00</td><td>17.700</td></tr>\n",
       "\t<tr><th scope=row>14</th><td>Bangladesh         </td><td>24 Jul 2021</td><td>  7417714</td><td>1151644</td><td>15.50</td><td>   4.50</td><td> 0.700</td></tr>\n",
       "\t<tr><th scope=row>15</th><td>Barbados           </td><td>29 Nov 2021</td><td>   436531</td><td>  25316</td><td> 5.80</td><td> 152.00</td><td> 8.800</td></tr>\n",
       "\t<tr><th scope=row>16</th><td>Belarus            </td><td>30 Nov 2021</td><td> 10386520</td><td> 654718</td><td> 6.30</td><td> 109.00</td><td> 6.900</td></tr>\n",
       "\t<tr><th scope=row>17</th><td>Belgium            </td><td>2 Dec 2021 </td><td> 24998146</td><td>1809557</td><td> 7.20</td><td> 217.00</td><td>15.700</td></tr>\n",
       "\t<tr><th scope=row>18</th><td>Belize             </td><td>29 Nov 2021</td><td>   347892</td><td>  30338</td><td> 8.70</td><td>  85.20</td><td> 7.400</td></tr>\n",
       "\t<tr><th scope=row>19</th><td>Benin              </td><td>4 May 2021 </td><td>   595112</td><td>   7884</td><td> 1.30</td><td>   5.10</td><td> 0.067</td></tr>\n",
       "\t<tr><th scope=row>20</th><td>Bhutan             </td><td>1 Dec 2021 </td><td>  1244143</td><td>   2640</td><td> 0.21</td><td> 168.00</td><td> 0.360</td></tr>\n",
       "</tbody>\n",
       "</table>\n"
      ],
      "text/latex": [
       "A data.frame: 20 × 7\n",
       "\\begin{tabular}{r|lllllll}\n",
       "  & Country & Date & Tested & Confirmed & Confirmed.Test.Ratio & Tested.Population.Ratio & Confirmed.Population.Ratio\\\\\n",
       "  & <chr> & <chr> & <dbl> & <int> & <dbl> & <dbl> & <dbl>\\\\\n",
       "\\hline\n",
       "\t1 & Afghanistan         & 17 Dec 2020 &    154767 &   49621 & 32.10 &    0.40 &  0.130\\\\\n",
       "\t2 & Albania             & 18 Feb 2021 &    428654 &   96838 & 22.60 &   15.00 &  3.400\\\\\n",
       "\t3 & Algeria             & 2 Nov 2020  &    230553 &   58574 & 25.40 &    0.53 &  0.130\\\\\n",
       "\t4 & Andorra             & 29 Nov 2021 &    232591 &   17115 &  7.40 &  300.00 & 22.100\\\\\n",
       "\t5 & Angola              & 12 Mar 2021 &    399228 &   20981 &  5.30 &    1.30 &  0.067\\\\\n",
       "\t6 & Antigua and Barbuda & 6 Mar 2021  &     15268 &     832 &  5.40 &   15.90 &  0.860\\\\\n",
       "\t7 & Argentina           & 28 Nov 2021 &  26111525 & 5325560 & 20.40 &   57.50 & 11.700\\\\\n",
       "\t8 & Armenia             & 1 Dec 2021  &   2373959 &  339020 & 14.30 &   80.40 & 11.500\\\\\n",
       "\t9 & Australia           & 1 Dec 2021  &  48083139 &  211654 &  0.44 &  192.00 &  0.840\\\\\n",
       "\t10 & Austria             & 1 Dec 2021  & 110579782 & 1169208 &  1.10 & 1242.00 & 13.100\\\\\n",
       "\t11 & Azerbaijan          & 1 Dec 2021  &   5551849 &  590113 & 10.60 &   56.10 &  6.000\\\\\n",
       "\t12 & Bahamas             & 30 Nov 2021 &    169024 &   22802 & 13.50 &   43.80 &  5.900\\\\\n",
       "\t13 & Bahrain             & 1 Dec 2021  &   7421582 &  277723 &  3.70 &  473.00 & 17.700\\\\\n",
       "\t14 & Bangladesh          & 24 Jul 2021 &   7417714 & 1151644 & 15.50 &    4.50 &  0.700\\\\\n",
       "\t15 & Barbados            & 29 Nov 2021 &    436531 &   25316 &  5.80 &  152.00 &  8.800\\\\\n",
       "\t16 & Belarus             & 30 Nov 2021 &  10386520 &  654718 &  6.30 &  109.00 &  6.900\\\\\n",
       "\t17 & Belgium             & 2 Dec 2021  &  24998146 & 1809557 &  7.20 &  217.00 & 15.700\\\\\n",
       "\t18 & Belize              & 29 Nov 2021 &    347892 &   30338 &  8.70 &   85.20 &  7.400\\\\\n",
       "\t19 & Benin               & 4 May 2021  &    595112 &    7884 &  1.30 &    5.10 &  0.067\\\\\n",
       "\t20 & Bhutan              & 1 Dec 2021  &   1244143 &    2640 &  0.21 &  168.00 &  0.360\\\\\n",
       "\\end{tabular}\n"
      ],
      "text/markdown": [
       "\n",
       "A data.frame: 20 × 7\n",
       "\n",
       "| <!--/--> | Country &lt;chr&gt; | Date &lt;chr&gt; | Tested &lt;dbl&gt; | Confirmed &lt;int&gt; | Confirmed.Test.Ratio &lt;dbl&gt; | Tested.Population.Ratio &lt;dbl&gt; | Confirmed.Population.Ratio &lt;dbl&gt; |\n",
       "|---|---|---|---|---|---|---|---|\n",
       "| 1 | Afghanistan         | 17 Dec 2020 |    154767 |   49621 | 32.10 |    0.40 |  0.130 |\n",
       "| 2 | Albania             | 18 Feb 2021 |    428654 |   96838 | 22.60 |   15.00 |  3.400 |\n",
       "| 3 | Algeria             | 2 Nov 2020  |    230553 |   58574 | 25.40 |    0.53 |  0.130 |\n",
       "| 4 | Andorra             | 29 Nov 2021 |    232591 |   17115 |  7.40 |  300.00 | 22.100 |\n",
       "| 5 | Angola              | 12 Mar 2021 |    399228 |   20981 |  5.30 |    1.30 |  0.067 |\n",
       "| 6 | Antigua and Barbuda | 6 Mar 2021  |     15268 |     832 |  5.40 |   15.90 |  0.860 |\n",
       "| 7 | Argentina           | 28 Nov 2021 |  26111525 | 5325560 | 20.40 |   57.50 | 11.700 |\n",
       "| 8 | Armenia             | 1 Dec 2021  |   2373959 |  339020 | 14.30 |   80.40 | 11.500 |\n",
       "| 9 | Australia           | 1 Dec 2021  |  48083139 |  211654 |  0.44 |  192.00 |  0.840 |\n",
       "| 10 | Austria             | 1 Dec 2021  | 110579782 | 1169208 |  1.10 | 1242.00 | 13.100 |\n",
       "| 11 | Azerbaijan          | 1 Dec 2021  |   5551849 |  590113 | 10.60 |   56.10 |  6.000 |\n",
       "| 12 | Bahamas             | 30 Nov 2021 |    169024 |   22802 | 13.50 |   43.80 |  5.900 |\n",
       "| 13 | Bahrain             | 1 Dec 2021  |   7421582 |  277723 |  3.70 |  473.00 | 17.700 |\n",
       "| 14 | Bangladesh          | 24 Jul 2021 |   7417714 | 1151644 | 15.50 |    4.50 |  0.700 |\n",
       "| 15 | Barbados            | 29 Nov 2021 |    436531 |   25316 |  5.80 |  152.00 |  8.800 |\n",
       "| 16 | Belarus             | 30 Nov 2021 |  10386520 |  654718 |  6.30 |  109.00 |  6.900 |\n",
       "| 17 | Belgium             | 2 Dec 2021  |  24998146 | 1809557 |  7.20 |  217.00 | 15.700 |\n",
       "| 18 | Belize              | 29 Nov 2021 |    347892 |   30338 |  8.70 |   85.20 |  7.400 |\n",
       "| 19 | Benin               | 4 May 2021  |    595112 |    7884 |  1.30 |    5.10 |  0.067 |\n",
       "| 20 | Bhutan              | 1 Dec 2021  |   1244143 |    2640 |  0.21 |  168.00 |  0.360 |\n",
       "\n"
      ],
      "text/plain": [
       "   Country             Date        Tested    Confirmed Confirmed.Test.Ratio\n",
       "1  Afghanistan         17 Dec 2020    154767   49621   32.10               \n",
       "2  Albania             18 Feb 2021    428654   96838   22.60               \n",
       "3  Algeria             2 Nov 2020     230553   58574   25.40               \n",
       "4  Andorra             29 Nov 2021    232591   17115    7.40               \n",
       "5  Angola              12 Mar 2021    399228   20981    5.30               \n",
       "6  Antigua and Barbuda 6 Mar 2021      15268     832    5.40               \n",
       "7  Argentina           28 Nov 2021  26111525 5325560   20.40               \n",
       "8  Armenia             1 Dec 2021    2373959  339020   14.30               \n",
       "9  Australia           1 Dec 2021   48083139  211654    0.44               \n",
       "10 Austria             1 Dec 2021  110579782 1169208    1.10               \n",
       "11 Azerbaijan          1 Dec 2021    5551849  590113   10.60               \n",
       "12 Bahamas             30 Nov 2021    169024   22802   13.50               \n",
       "13 Bahrain             1 Dec 2021    7421582  277723    3.70               \n",
       "14 Bangladesh          24 Jul 2021   7417714 1151644   15.50               \n",
       "15 Barbados            29 Nov 2021    436531   25316    5.80               \n",
       "16 Belarus             30 Nov 2021  10386520  654718    6.30               \n",
       "17 Belgium             2 Dec 2021   24998146 1809557    7.20               \n",
       "18 Belize              29 Nov 2021    347892   30338    8.70               \n",
       "19 Benin               4 May 2021     595112    7884    1.30               \n",
       "20 Bhutan              1 Dec 2021    1244143    2640    0.21               \n",
       "   Tested.Population.Ratio Confirmed.Population.Ratio\n",
       "1     0.40                  0.130                    \n",
       "2    15.00                  3.400                    \n",
       "3     0.53                  0.130                    \n",
       "4   300.00                 22.100                    \n",
       "5     1.30                  0.067                    \n",
       "6    15.90                  0.860                    \n",
       "7    57.50                 11.700                    \n",
       "8    80.40                 11.500                    \n",
       "9   192.00                  0.840                    \n",
       "10 1242.00                 13.100                    \n",
       "11   56.10                  6.000                    \n",
       "12   43.80                  5.900                    \n",
       "13  473.00                 17.700                    \n",
       "14    4.50                  0.700                    \n",
       "15  152.00                  8.800                    \n",
       "16  109.00                  6.900                    \n",
       "17  217.00                 15.700                    \n",
       "18   85.20                  7.400                    \n",
       "19    5.10                  0.067                    \n",
       "20  168.00                  0.360                    "
      ]
     },
     "metadata": {},
     "output_type": "display_data"
    }
   ],
   "source": [
    "head(df, 20)"
   ]
  },
  {
   "cell_type": "code",
   "execution_count": 43,
   "metadata": {},
   "outputs": [
    {
     "name": "stdout",
     "output_type": "stream",
     "text": [
      "           Country        Date    Tested Confirmed Confirmed.Test.Ratio\n",
      "24          Brazil 19 Feb 2021  23561497  10081676                 42.8\n",
      "73           India 19 Sep 2021 553621766  33766707                  6.1\n",
      "165 United Kingdom  2 Dec 2021 364875273  10329074                  2.8\n",
      "166  United States  9 Aug 2021 512152348  35940893                  7.0\n",
      "    Tested.Population.Ratio Confirmed.Population.Ratio\n",
      "24                     11.2                        4.8\n",
      "73                     40.1                        2.4\n",
      "165                   540.0                       15.3\n",
      "166                   155.0                       10.9\n"
     ]
    }
   ],
   "source": [
    "# countries with more than 10 million confirmed cases\n",
    "print(subset(df, Confirmed > 10000000))\n",
    "\n",
    "\n"
   ]
  },
  {
   "cell_type": "code",
   "execution_count": 44,
   "metadata": {},
   "outputs": [
    {
     "name": "stdout",
     "output_type": "stream",
     "text": [
      "           Country        Date    Tested Confirmed Confirmed.Test.Ratio\n",
      "24          Brazil 19 Feb 2021  23561497  10081676                 42.8\n",
      "73           India 19 Sep 2021 553621766  33766707                  6.1\n",
      "165 United Kingdom  2 Dec 2021 364875273  10329074                  2.8\n",
      "166  United States  9 Aug 2021 512152348  35940893                  7.0\n",
      "    Tested.Population.Ratio Confirmed.Population.Ratio\n",
      "24                     11.2                        4.8\n",
      "73                     40.1                        2.4\n",
      "165                   540.0                       15.3\n",
      "166                   155.0                       10.9\n"
     ]
    }
   ],
   "source": [
    "top.three <- subset(df, Confirmed > 10000000)\n",
    "print(top.three)"
   ]
  },
  {
   "cell_type": "code",
   "execution_count": 45,
   "metadata": {},
   "outputs": [],
   "source": [
    "library(ggplot2)\n",
    "library(ggthemes)"
   ]
  },
  {
   "cell_type": "code",
   "execution_count": 46,
   "metadata": {},
   "outputs": [
    {
     "data": {
      "image/png": "[encoded data removed]",
      "text/plain": [
       "plot without title"
      ]
     },
     "metadata": {
      "image/png": {
       "height": 420,
       "width": 420
      }
     },
     "output_type": "display_data"
    }
   ],
   "source": [
    "pl <- ggplot(top.three, aes(x = Country, y = Confirmed)) + geom_bar(stat = \"identity\") + \n",
    "geom_text(aes(label = Confirmed), size = 5) +\n",
    "labs(x = \"Country\", y = \"Confirmed Cases\") +\n",
    "theme_economist() \n",
    "print(pl)"
   ]
  },
  {
   "cell_type": "code",
   "execution_count": null,
   "metadata": {},
   "outputs": [],
   "source": []
  }
 ],
 "metadata": {
  "kernelspec": {
   "display_name": "R",
   "language": "R",
   "name": "ir"
  },
  "language_info": {
   "codemirror_mode": "r",
   "file_extension": ".r",
   "mimetype": "text/x-r-source",
   "name": "R",
   "pygments_lexer": "r",
   "version": "4.1.2"
  },
  "orig_nbformat": 4
 },
 "nbformat": 4,
 "nbformat_minor": 2
}
